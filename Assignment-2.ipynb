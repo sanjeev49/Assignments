{
 "cells": [
  {
   "cell_type": "markdown",
   "metadata": {},
   "source": [
    "## Assignment -1\n",
    "#### Two values of the boolean data type are:\n",
    "- True \n",
    "- False"
   ]
  },
  {
   "cell_type": "markdown",
   "metadata": {},
   "source": [
    "## Assignment-2\n",
    "#### Three types of boolean operators are\n",
    "\n",
    "`and`\n",
    "`or`\n",
    "`not`"
   ]
  },
  {
   "cell_type": "markdown",
   "metadata": {},
   "source": [
    "## Assignment -3\n"
   ]
  },
  {
   "cell_type": "code",
   "execution_count": 5,
   "metadata": {},
   "outputs": [
    {
     "data": {
      "text/plain": [
       "True"
      ]
     },
     "execution_count": 5,
     "metadata": {},
     "output_type": "execute_result"
    }
   ],
   "source": [
    "True & True"
   ]
  },
  {
   "cell_type": "code",
   "execution_count": 6,
   "metadata": {},
   "outputs": [
    {
     "data": {
      "text/plain": [
       "False"
      ]
     },
     "execution_count": 6,
     "metadata": {},
     "output_type": "execute_result"
    }
   ],
   "source": [
    "True & False"
   ]
  },
  {
   "cell_type": "code",
   "execution_count": 9,
   "metadata": {},
   "outputs": [
    {
     "data": {
      "text/plain": [
       "True"
      ]
     },
     "execution_count": 9,
     "metadata": {},
     "output_type": "execute_result"
    }
   ],
   "source": [
    "True and not False"
   ]
  },
  {
   "cell_type": "code",
   "execution_count": 10,
   "metadata": {},
   "outputs": [
    {
     "data": {
      "text/plain": [
       "False"
      ]
     },
     "execution_count": 10,
     "metadata": {},
     "output_type": "execute_result"
    }
   ],
   "source": [
    "False & False"
   ]
  },
  {
   "cell_type": "code",
   "execution_count": 11,
   "metadata": {},
   "outputs": [
    {
     "data": {
      "text/plain": [
       "False"
      ]
     },
     "execution_count": 11,
     "metadata": {},
     "output_type": "execute_result"
    }
   ],
   "source": [
    "False and not True"
   ]
  },
  {
   "cell_type": "code",
   "execution_count": 12,
   "metadata": {},
   "outputs": [
    {
     "data": {
      "text/plain": [
       "False"
      ]
     },
     "execution_count": 12,
     "metadata": {},
     "output_type": "execute_result"
    }
   ],
   "source": [
    "True and not True"
   ]
  },
  {
   "cell_type": "markdown",
   "metadata": {},
   "source": [
    "### Assignment -4"
   ]
  },
  {
   "cell_type": "code",
   "execution_count": 14,
   "metadata": {},
   "outputs": [
    {
     "data": {
      "text/plain": [
       "False"
      ]
     },
     "execution_count": 14,
     "metadata": {},
     "output_type": "execute_result"
    }
   ],
   "source": [
    "# its value is False\n",
    "(5>4) and (3==5)\n"
   ]
  },
  {
   "cell_type": "code",
   "execution_count": 15,
   "metadata": {},
   "outputs": [
    {
     "data": {
      "text/plain": [
       "False"
      ]
     },
     "execution_count": 15,
     "metadata": {},
     "output_type": "execute_result"
    }
   ],
   "source": [
    "# its value is False\n",
    "not(5>4)"
   ]
  },
  {
   "cell_type": "code",
   "execution_count": 16,
   "metadata": {},
   "outputs": [
    {
     "data": {
      "text/plain": [
       "True"
      ]
     },
     "execution_count": 16,
     "metadata": {},
     "output_type": "execute_result"
    }
   ],
   "source": [
    "# its value will be True\n",
    "(5>4) or (3==5)"
   ]
  },
  {
   "cell_type": "code",
   "execution_count": 18,
   "metadata": {},
   "outputs": [
    {
     "data": {
      "text/plain": [
       "False"
      ]
     },
     "execution_count": 18,
     "metadata": {},
     "output_type": "execute_result"
    }
   ],
   "source": [
    "# its value will be false\n",
    "(True and True) and (True == False)"
   ]
  },
  {
   "cell_type": "code",
   "execution_count": 20,
   "metadata": {},
   "outputs": [
    {
     "data": {
      "text/plain": [
       "True"
      ]
     },
     "execution_count": 20,
     "metadata": {},
     "output_type": "execute_result"
    }
   ],
   "source": [
    "# its value will be true\n",
    "(not False) or (not True)"
   ]
  },
  {
   "cell_type": "markdown",
   "metadata": {},
   "source": [
    "### Assignment -5\n",
    "<p>Six comparison operators are</p>\n",
    "\n",
    "- `==`\n",
    "\n",
    "- `!=`\n",
    "\n",
    "- `<`\n",
    "\n",
    "- `>`\n",
    "\n",
    "- `<=`\n",
    "\n",
    "- `>=`"
   ]
  },
  {
   "cell_type": "markdown",
   "metadata": {},
   "source": [
    "## Assignment -6"
   ]
  },
  {
   "cell_type": "markdown",
   "metadata": {},
   "source": [
    "<p>Equal to operator is denoted like (==) this </p>\n",
    "<p>assignment operator is denoted like (=) this</p>"
   ]
  },
  {
   "cell_type": "code",
   "execution_count": 21,
   "metadata": {},
   "outputs": [
    {
     "name": "stdout",
     "output_type": "stream",
     "text": [
      "Equal to operators are used to compare values.\n",
      "Assignment operator (=) is used to assign some values to variable.\n"
     ]
    }
   ],
   "source": [
    "a = 10\n",
    "b = 10\n",
    "if a == b:\n",
    "    print(\"Equal to operators are used to compare values.\")\n",
    "c = b\n",
    "print(\"Assignment operator (=) is used to assign some values to variable.\")"
   ]
  },
  {
   "cell_type": "markdown",
   "metadata": {},
   "source": [
    "### Assignment -7 "
   ]
  },
  {
   "cell_type": "code",
   "execution_count": 27,
   "metadata": {},
   "outputs": [
    {
     "name": "stdout",
     "output_type": "stream",
     "text": [
      "ham\n",
      "spam\n",
      "spam\n"
     ]
    }
   ],
   "source": [
    "spam  = 0\n",
    "# this is first block of the code\n",
    "if spam == 10:\n",
    "    print(\"eggs\")\n",
    "# this is second block of the code\n",
    "if spam > 5:\n",
    "    print(\"bacon\")\n",
    "# this is third block of the code\n",
    "else:\n",
    "    print('ham')\n",
    "    print('spam')\n",
    "    print('spam')"
   ]
  },
  {
   "cell_type": "markdown",
   "metadata": {},
   "source": [
    "### Assignment -8 \n"
   ]
  },
  {
   "cell_type": "code",
   "execution_count": 31,
   "metadata": {},
   "outputs": [
    {
     "name": "stdout",
     "output_type": "stream",
     "text": [
      "2\n",
      "Howdy\n"
     ]
    }
   ],
   "source": [
    "spam = int(input())\n",
    "if spam == 1:\n",
    "    print(\"Hello\")\n",
    "elif spam == 2:\n",
    "    print(\"Howdy\")\n",
    "else:\n",
    "    print(\"greetings\")"
   ]
  },
  {
   "cell_type": "markdown",
   "metadata": {},
   "source": [
    "## Assignment -9 \n",
    "\n",
    "- If my programm will stuck in an endless loop i will press stop key"
   ]
  },
  {
   "cell_type": "code",
   "execution_count": 34,
   "metadata": {},
   "outputs": [
    {
     "name": "stdout",
     "output_type": "stream",
     "text": [
      "endless loop\n",
      "endless loop\n",
      "endless loop\n",
      "endless loop\n",
      "endless loop\n",
      "endless loop\n",
      "endless loop\n",
      "endless loop\n",
      "endless loop\n",
      "endless loop\n",
      "endless loop\n",
      "endless loop\n",
      "endless loop\n",
      "endless loop\n",
      "endless loop\n",
      "endless loop\n",
      "endless loop\n",
      "endless loop\n",
      "endless loop\n",
      "endless loop\n",
      "endless loop\n",
      "endless loop\n",
      "endless loop\n",
      "endless loop\n",
      "endless loop\n",
      "endless loop\n",
      "endless loop\n",
      "endless loop\n",
      "endless loop\n",
      "endless loop\n",
      "endless loop\n",
      "endless loop\n",
      "endless loop\n",
      "endless loop\n",
      "endless loop\n",
      "endless loop\n",
      "endless loop\n",
      "endless loop\n",
      "endless loop\n",
      "endless loop\n",
      "endless loop\n",
      "endless loop\n",
      "endless loop\n",
      "endless loop\n",
      "endless loop\n",
      "endless loop\n",
      "endless loop\n",
      "endless loop\n",
      "endless loop\n",
      "endless loop\n",
      "endless loop\n",
      "endless loop\n",
      "endless loop\n",
      "endless loop\n",
      "endless loop\n",
      "endless loop\n",
      "endless loop\n",
      "endless loop\n",
      "endless loop\n",
      "endless loop\n",
      "endless loop\n",
      "endless loop\n",
      "endless loop\n",
      "endless loop\n",
      "endless loop\n",
      "endless loop\n",
      "endless loop\n",
      "endless loop\n",
      "endless loop\n",
      "endless loop\n",
      "endless loop\n",
      "endless loop\n",
      "endless loop\n",
      "endless loop\n",
      "endless loop\n",
      "endless loop\n",
      "endless loop\n",
      "endless loop\n",
      "endless loop\n",
      "endless loop\n",
      "endless loop\n",
      "endless loop\n",
      "endless loop\n",
      "endless loop\n",
      "endless loop\n",
      "endless loop\n",
      "endless loop\n",
      "endless loop\n",
      "endless loop\n",
      "endless loop\n",
      "endless loop\n",
      "endless loop\n",
      "endless loop\n",
      "endless loop\n",
      "endless loop\n",
      "endless loop\n",
      "endless loop\n",
      "endless loop\n",
      "endless loop\n",
      "endless loop\n",
      "endless loop\n"
     ]
    }
   ],
   "source": [
    "count = 0\n",
    "while True:\n",
    "    print(\"endless loop\")\n",
    "    # this code is for prevention\n",
    "    count += 1\n",
    "    if count > 100:\n",
    "        break"
   ]
  },
  {
   "cell_type": "markdown",
   "metadata": {},
   "source": [
    "### Assignment - 10"
   ]
  },
  {
   "cell_type": "code",
   "execution_count": 35,
   "metadata": {},
   "outputs": [],
   "source": [
    "# Break will stop the execution of the program \n",
    "# continue will continue the execution of the program when certain  condition meets"
   ]
  },
  {
   "cell_type": "code",
   "execution_count": 40,
   "metadata": {},
   "outputs": [
    {
     "name": "stdout",
     "output_type": "stream",
     "text": [
      "multiplication of  0 to 0  is:  0\n",
      "multiplication of  1 to 1  is:  1\n",
      "multiplication of  2 to 2  is:  4\n",
      "multiplication of  3 to 3  is:  9\n",
      "multiplication of  4 to 4  is:  16\n",
      "multiplication of  5 to 5  is:  25\n",
      "multiplication of  6 to 6  is:  36\n",
      "multiplication of  7 to 7  is:  49\n",
      "multiplication of  8 to 8  is:  64\n",
      "multiplication of  9 to 9  is:  81\n",
      "multiplication of  10 to 10  is:  100\n"
     ]
    }
   ],
   "source": [
    "count = 0\n",
    "for i in range(20):\n",
    "    \n",
    "    print(\"multiplication of \", i , \"to\", count, \" is: \" , i*i )\n",
    "    count += 1\n",
    "    if i == 10:\n",
    "        break"
   ]
  },
  {
   "cell_type": "code",
   "execution_count": 41,
   "metadata": {},
   "outputs": [
    {
     "name": "stdout",
     "output_type": "stream",
     "text": [
      "s\n",
      "t\n",
      "r\n",
      "n\n",
      "g\n",
      "The end\n"
     ]
    }
   ],
   "source": [
    "for val in \"string\":\n",
    "    if val == \"i\":\n",
    "        continue\n",
    "    print(val)\n",
    "\n",
    "print(\"The end\")"
   ]
  },
  {
   "cell_type": "markdown",
   "metadata": {},
   "source": [
    "### Assignment - 11"
   ]
  },
  {
   "cell_type": "code",
   "execution_count": 43,
   "metadata": {},
   "outputs": [
    {
     "name": "stdout",
     "output_type": "stream",
     "text": [
      "0\n",
      "1\n",
      "2\n",
      "3\n",
      "4\n",
      "5\n",
      "6\n",
      "7\n",
      "8\n",
      "9\n"
     ]
    }
   ],
   "source": [
    "# in this by default the number will start from zero got upto 10 indexes with increment value by default 1\n",
    "for i in range(10):\n",
    "    print(i)"
   ]
  },
  {
   "cell_type": "code",
   "execution_count": 44,
   "metadata": {},
   "outputs": [
    {
     "name": "stdout",
     "output_type": "stream",
     "text": [
      "0\n",
      "1\n",
      "2\n",
      "3\n",
      "4\n",
      "5\n",
      "6\n",
      "7\n",
      "8\n",
      "9\n"
     ]
    }
   ],
   "source": [
    "# in this by default the number will start from zero got upto 10 indexes with increment value by default 1\n",
    "for i in range(0,10):\n",
    "    print(i)"
   ]
  },
  {
   "cell_type": "code",
   "execution_count": 45,
   "metadata": {},
   "outputs": [
    {
     "name": "stdout",
     "output_type": "stream",
     "text": [
      "0\n",
      "1\n",
      "2\n",
      "3\n",
      "4\n",
      "5\n",
      "6\n",
      "7\n",
      "8\n",
      "9\n"
     ]
    }
   ],
   "source": [
    "# here starting number and ending number with the step count is given.\n",
    "for i in range(0, 10, 1):\n",
    "    print(i)"
   ]
  },
  {
   "cell_type": "markdown",
   "metadata": {},
   "source": [
    "### Assignment - 12"
   ]
  },
  {
   "cell_type": "code",
   "execution_count": 47,
   "metadata": {},
   "outputs": [
    {
     "name": "stdout",
     "output_type": "stream",
     "text": [
      "1\n",
      "2\n",
      "3\n",
      "4\n",
      "5\n",
      "6\n",
      "7\n",
      "8\n",
      "9\n",
      "10\n"
     ]
    }
   ],
   "source": [
    "for i in range(1, 11):\n",
    "    print(i)"
   ]
  },
  {
   "cell_type": "code",
   "execution_count": 49,
   "metadata": {},
   "outputs": [
    {
     "name": "stdout",
     "output_type": "stream",
     "text": [
      "1\n",
      "2\n",
      "3\n",
      "4\n",
      "5\n",
      "6\n",
      "7\n",
      "8\n",
      "9\n",
      "10\n"
     ]
    }
   ],
   "source": [
    "i = 0\n",
    "while i<10:\n",
    "    i += 1\n",
    "    print(i)"
   ]
  },
  {
   "cell_type": "markdown",
   "metadata": {},
   "source": [
    "### Assignment - 13"
   ]
  },
  {
   "cell_type": "code",
   "execution_count": null,
   "metadata": {},
   "outputs": [],
   "source": [
    "import spam\n",
    "a = spam.bacon()"
   ]
  }
 ],
 "metadata": {
  "kernelspec": {
   "display_name": "Python 3",
   "language": "python",
   "name": "python3"
  },
  "language_info": {
   "codemirror_mode": {
    "name": "ipython",
    "version": 3
   },
   "file_extension": ".py",
   "mimetype": "text/x-python",
   "name": "python",
   "nbconvert_exporter": "python",
   "pygments_lexer": "ipython3",
   "version": "3.7.3"
  }
 },
 "nbformat": 4,
 "nbformat_minor": 2
}
