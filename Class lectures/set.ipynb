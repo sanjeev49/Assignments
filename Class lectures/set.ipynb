{
 "cells": [
  {
   "cell_type": "code",
   "execution_count": 1,
   "metadata": {},
   "outputs": [
    {
     "data": {
      "text/plain": [
       "set"
      ]
     },
     "execution_count": 1,
     "metadata": {},
     "output_type": "execute_result"
    }
   ],
   "source": [
    "x  = set()\n",
    "type(x)"
   ]
  },
  {
   "cell_type": "code",
   "execution_count": 2,
   "metadata": {},
   "outputs": [
    {
     "data": {
      "text/plain": [
       "{21, 23, 32, 43, 234}"
      ]
     },
     "execution_count": 2,
     "metadata": {},
     "output_type": "execute_result"
    }
   ],
   "source": [
    "l = [23, 43, 234, 234, 23, 21, 21, 32]\n",
    "set(l)"
   ]
  },
  {
   "cell_type": "code",
   "execution_count": 1,
   "metadata": {},
   "outputs": [],
   "source": [
    "# remove unique lists\n",
    "# if you have book if you have to pass\n",
    "# to do this we can use set in the "
   ]
  },
  {
   "cell_type": "code",
   "execution_count": 2,
   "metadata": {},
   "outputs": [
    {
     "data": {
      "text/plain": [
       "{}"
      ]
     },
     "execution_count": 2,
     "metadata": {},
     "output_type": "execute_result"
    }
   ],
   "source": [
    "d  = {}\n",
    "d"
   ]
  },
  {
   "cell_type": "code",
   "execution_count": 3,
   "metadata": {},
   "outputs": [
    {
     "data": {
      "text/plain": [
       "dict"
      ]
     },
     "execution_count": 3,
     "metadata": {},
     "output_type": "execute_result"
    }
   ],
   "source": [
    "type(d)"
   ]
  },
  {
   "cell_type": "code",
   "execution_count": 2,
   "metadata": {},
   "outputs": [
    {
     "name": "stdout",
     "output_type": "stream",
     "text": [
      "Enter the para:Global warming is the long-term heating of Earth’s climate system observed since the pre-industrial period (between 1850 and 1900) due to human activities, primarily fossil fuel burning, which increases heat-trapping greenhouse gas levels in Earth’s atmosphere. The term is frequently used interchangeably with the term climate change, though the latter refers to both human- and naturally produced warming and the effects it has on our planet. It is most commonly measured as the average increase in Earth’s global surface temperature.  Since the pre-industrial period, human activities are estimated to have increased Earth’s global average temperature by about 1 degree Celsius (1.8 degrees Fahrenheit), a number that is currently increasing by 0.2 degrees Celsius (0.36 degrees Fahrenheit) per decade. Most of the current warming trend is extremely likely (greater than 95 percent probability) the result of human activity since the 1950s and is proceeding at an unprecedented rate over decades to millennia.\n"
     ]
    },
    {
     "data": {
      "text/plain": [
       "['db',\n",
       " 'db',\n",
       " 'db',\n",
       " 'db',\n",
       " 'db',\n",
       " 'db',\n",
       " 'db',\n",
       " 'db',\n",
       " 'db',\n",
       " 'db',\n",
       " 'db',\n",
       " 'db',\n",
       " 'db',\n",
       " 'db',\n",
       " 'db',\n",
       " 'db',\n",
       " 'db',\n",
       " 'db',\n",
       " 'db',\n",
       " 'db',\n",
       " 'db',\n",
       " 'db',\n",
       " 'db',\n",
       " 'db',\n",
       " 'db',\n",
       " 'db',\n",
       " 'db',\n",
       " 'db',\n",
       " 'db',\n",
       " 'db',\n",
       " 'db',\n",
       " 'db',\n",
       " 'db',\n",
       " 'db',\n",
       " 'db',\n",
       " 'db',\n",
       " 'db',\n",
       " 'db',\n",
       " 'db',\n",
       " 'db',\n",
       " 'db',\n",
       " 'db',\n",
       " 'db',\n",
       " 'db',\n",
       " 'db',\n",
       " 'db',\n",
       " 'db',\n",
       " 'db',\n",
       " 'db',\n",
       " 'db',\n",
       " 'db',\n",
       " 'db',\n",
       " 'db',\n",
       " 'db',\n",
       " 'db',\n",
       " 'db',\n",
       " 'db',\n",
       " 'db',\n",
       " 'db',\n",
       " 'db',\n",
       " 'db',\n",
       " 'db',\n",
       " 'db',\n",
       " 'db',\n",
       " 'db',\n",
       " 'db',\n",
       " 'db',\n",
       " 'db',\n",
       " 'db',\n",
       " 'db',\n",
       " 'db',\n",
       " 'db',\n",
       " 'db',\n",
       " 'db',\n",
       " 'db',\n",
       " 'db',\n",
       " 'db',\n",
       " 'db',\n",
       " 'db',\n",
       " 'db',\n",
       " 'db',\n",
       " 'db',\n",
       " 'db',\n",
       " 'db',\n",
       " 'db',\n",
       " 'db',\n",
       " 'db',\n",
       " 'db',\n",
       " 'db',\n",
       " 'db',\n",
       " 'db',\n",
       " 'db',\n",
       " 'db',\n",
       " 'db',\n",
       " 'db',\n",
       " 'db',\n",
       " 'db',\n",
       " 'db',\n",
       " 'db',\n",
       " 'db',\n",
       " 'db',\n",
       " 'db',\n",
       " 'db',\n",
       " 'db',\n",
       " 'db',\n",
       " 'db',\n",
       " 'db',\n",
       " 'db',\n",
       " 'db',\n",
       " 'db',\n",
       " 'db',\n",
       " 'db']"
      ]
     },
     "execution_count": 2,
     "metadata": {},
     "output_type": "execute_result"
    }
   ],
   "source": [
    "paragph = input(\"Enter the para:\")\n",
    "lst1=paragph.split(\" \")\n",
    "s1=set(lst1)\n",
    "dic1=dict.fromkeys(s1,'db')\n",
    "t1=tuple(dic1.keys())\n",
    "l2=list(dic1.values())\n",
    "l2"
   ]
  },
  {
   "cell_type": "code",
   "execution_count": 1,
   "metadata": {},
   "outputs": [
    {
     "name": "stdout",
     "output_type": "stream",
     "text": [
      "Enter the paragraph-->> Global warming is the long-term heating of Earth’s climate system observed since the pre-industrial period (between 1850 and 1900) due to human activities, primarily fossil fuel burning, which increases heat-trapping greenhouse gas levels in Earth’s atmosphere. The term is frequently used interchangeably with the term climate change, though the latter refers to both human- and naturally produced warming and the effects it has on our planet. It is most commonly measured as the average increase in Earth’s global surface temperature.  Since the pre-industrial period, human activities are estimated to have increased Earth’s global average temperature by about 1 degree Celsius (1.8 degrees Fahrenheit), a number that is currently increasing by 0.2 degrees Celsius (0.36 degrees Fahrenheit) per decade. Most of the current warming trend is extremely likely (greater than 95 percent probability) the result of human activity since the 1950s and is proceeding at an unprecedented rate over decades to millennia.\n",
      "Tuple List-->>  ('akshat', 'akshat', 'akshat', 'akshat', 'akshat', 'akshat', 'akshat', 'akshat', 'akshat', 'akshat', 'akshat', 'akshat', 'akshat', 'akshat', 'akshat', 'akshat', 'akshat', 'akshat', 'akshat', 'akshat', 'akshat', 'akshat', 'akshat', 'akshat', 'akshat', 'akshat', 'akshat', 'akshat', 'akshat', 'akshat', 'akshat', 'akshat', 'akshat', 'akshat', 'akshat', 'akshat', 'akshat', 'akshat', 'akshat', 'akshat', 'akshat', 'akshat', 'akshat', 'akshat', 'akshat', 'akshat', 'akshat', 'akshat', 'akshat', 'akshat', 'akshat', 'akshat', 'akshat', 'akshat', 'akshat', 'akshat', 'akshat', 'akshat', 'akshat', 'akshat', 'akshat', 'akshat', 'akshat', 'akshat', 'akshat', 'akshat', 'akshat', 'akshat', 'akshat', 'akshat', 'akshat', 'akshat', 'akshat', 'akshat', 'akshat', 'akshat', 'akshat', 'akshat', 'akshat', 'akshat', 'akshat', 'akshat', 'akshat', 'akshat', 'akshat', 'akshat', 'akshat', 'akshat', 'akshat', 'akshat', 'akshat', 'akshat', 'akshat', 'akshat', 'akshat', 'akshat', 'akshat', 'akshat', 'akshat', 'akshat', 'akshat', 'akshat', 'akshat', 'akshat', 'akshat', 'akshat', 'akshat', 'akshat', 'akshat', 'akshat', 'akshat', 'akshat')\n",
      "List Keys-->>  ['', 'number', 'about', '0.2', 'millennia.', '1950s', '(0.36', 'result', 'human-', 'a', 'greenhouse', 'fossil', 'have', 'likely', 'activities', 'effects', 'the', 'unprecedented', 'Fahrenheit),', 'burning,', 'increased', 'increase', 'heat-trapping', 'decades', 'system', 'long-term', 'Celsius', 'Fahrenheit)', 'measured', 'refers', 'surface', '1', 'at', 'by', 'our', 'due', 'is', 'activities,', 'produced', '(between', 'to', 'increasing', 'frequently', 'estimated', 'global', 'average', 'commonly', 'of', 'Most', '1850', 'are', 'in', 'naturally', 'observed', 'degree', 'degrees', 'used', 'an', 'decade.', 'Since', 'gas', 'period,', 'primarily', 'Global', 'over', 'activity', 'that', 'percent', 'temperature', 'extremely', 'heating', 'probability)', 'temperature.', 'pre-industrial', '1900)', 'warming', 'Earth’s', 'which', '(1.8', 'latter', 'rate', 'most', '(greater', 'since', 'The', 'per', 'human', 'change,', 'and', 'than', 'it', 'It', 'climate', 'trend', 'though', '95', 'planet.', 'fuel', 'with', 'proceeding', 'on', 'atmosphere.', 'has', 'current', 'increases', 'period', 'both', 'interchangeably', 'as', 'term', 'levels', 'currently']\n"
     ]
    }
   ],
   "source": [
    "data=input(\"Enter the paragraph-->> \")\n",
    "\n",
    "# Q1\n",
    "data_list= data.split(\" \")\n",
    "\n",
    "# Q2\n",
    "no_duplicate=set(data_list)\n",
    "\n",
    "# Q3\n",
    "my_dict={}\n",
    "for i in no_duplicate:\n",
    "    my_dict[i]=\"akshat\"\n",
    "# my_dict\n",
    "\n",
    "# Q4\n",
    "tup_list=[]\n",
    "for i in my_dict.keys():\n",
    "    tup_list.append(my_dict[i])\n",
    "\n",
    "print(\"Tuple List-->> \",tuple(tup_list))\n",
    "\n",
    "\n",
    "    \n",
    "# Q5\n",
    "list_keys=[]\n",
    "for i in my_dict.keys():\n",
    "    list_keys.append(i)\n",
    "\n",
    "print(\"List Keys-->> \",list_keys)\n"
   ]
  },
  {
   "cell_type": "code",
   "execution_count": 9,
   "metadata": {},
   "outputs": [
    {
     "name": "stdout",
     "output_type": "stream",
     "text": [
      "Enter the paragraph-->>Global warming is the long-term heating of Earth’s climate system observed since the pre-industrial period (between 1850 and 1900) due to human activities, primarily fossil fuel burning, which increases heat-trapping greenhouse gas levels in Earth’s atmosphere. The term is frequently used interchangeably with the term climate change, though the latter refers to both human- and naturally produced warming and the effects it has on our planet. It is most commonly measured as the average increase in Earth’s global surface temperature.  Since the pre-industrial period, human activities are estimated to have increased Earth’s global average temperature by about 1 degree Celsius (1.8 degrees Fahrenheit), a number that is currently increasing by 0.2 degrees Celsius (0.36 degrees Fahrenheit) per decade. Most of the current warming trend is extremely likely (greater than 95 percent probability) the result of human activity since the 1950s and is proceeding at an unprecedented rate over decades to millennia.\n",
      "All dictionary is  {'': 'sanjeev', 'number': 'sanjeev', 'about': 'sanjeev', '0.2': 'sanjeev', 'millennia.': 'sanjeev', '1950s': 'sanjeev', '(0.36': 'sanjeev', 'result': 'sanjeev', 'human-': 'sanjeev', 'a': 'sanjeev', 'greenhouse': 'sanjeev', 'fossil': 'sanjeev', 'have': 'sanjeev', 'likely': 'sanjeev', 'activities': 'sanjeev', 'effects': 'sanjeev', 'the': 'sanjeev', 'unprecedented': 'sanjeev', 'Fahrenheit),': 'sanjeev', 'burning,': 'sanjeev', 'increased': 'sanjeev', 'increase': 'sanjeev', 'heat-trapping': 'sanjeev', 'decades': 'sanjeev', 'system': 'sanjeev', 'long-term': 'sanjeev', 'Celsius': 'sanjeev', 'Fahrenheit)': 'sanjeev', 'measured': 'sanjeev', 'refers': 'sanjeev', 'surface': 'sanjeev', '1': 'sanjeev', 'at': 'sanjeev', 'by': 'sanjeev', 'our': 'sanjeev', 'due': 'sanjeev', 'is': 'sanjeev', 'activities,': 'sanjeev', 'produced': 'sanjeev', '(between': 'sanjeev', 'to': 'sanjeev', 'increasing': 'sanjeev', 'frequently': 'sanjeev', 'estimated': 'sanjeev', 'global': 'sanjeev', 'average': 'sanjeev', 'commonly': 'sanjeev', 'of': 'sanjeev', 'Most': 'sanjeev', '1850': 'sanjeev', 'are': 'sanjeev', 'in': 'sanjeev', 'naturally': 'sanjeev', 'observed': 'sanjeev', 'degree': 'sanjeev', 'degrees': 'sanjeev', 'used': 'sanjeev', 'an': 'sanjeev', 'decade.': 'sanjeev', 'Since': 'sanjeev', 'gas': 'sanjeev', 'period,': 'sanjeev', 'primarily': 'sanjeev', 'Global': 'sanjeev', 'over': 'sanjeev', 'activity': 'sanjeev', 'that': 'sanjeev', 'percent': 'sanjeev', 'temperature': 'sanjeev', 'extremely': 'sanjeev', 'heating': 'sanjeev', 'probability)': 'sanjeev', 'temperature.': 'sanjeev', 'pre-industrial': 'sanjeev', '1900)': 'sanjeev', 'warming': 'sanjeev', 'Earth’s': 'sanjeev', 'which': 'sanjeev', '(1.8': 'sanjeev', 'latter': 'sanjeev', 'rate': 'sanjeev', 'most': 'sanjeev', '(greater': 'sanjeev', 'since': 'sanjeev', 'The': 'sanjeev', 'per': 'sanjeev', 'human': 'sanjeev', 'change,': 'sanjeev', 'and': 'sanjeev', 'than': 'sanjeev', 'it': 'sanjeev', 'It': 'sanjeev', 'climate': 'sanjeev', 'trend': 'sanjeev', 'though': 'sanjeev', '95': 'sanjeev', 'planet.': 'sanjeev', 'fuel': 'sanjeev', 'with': 'sanjeev', 'proceeding': 'sanjeev', 'on': 'sanjeev', 'atmosphere.': 'sanjeev', 'has': 'sanjeev', 'current': 'sanjeev', 'increases': 'sanjeev', 'period': 'sanjeev', 'both': 'sanjeev', 'interchangeably': 'sanjeev', 'as': 'sanjeev', 'term': 'sanjeev', 'levels': 'sanjeev', 'currently': 'sanjeev'}\n",
      "{'': 'sanjeev', 'number': 'sanjeev', 'about': 'sanjeev', '0.2': 'sanjeev', 'millennia.': 'sanjeev', '1950s': 'sanjeev', '(0.36': 'sanjeev', 'result': 'sanjeev', 'human-': 'sanjeev', 'a': 'sanjeev', 'greenhouse': 'sanjeev', 'fossil': 'sanjeev', 'have': 'sanjeev', 'likely': 'sanjeev', 'activities': 'sanjeev', 'effects': 'sanjeev', 'the': 'sanjeev', 'unprecedented': 'sanjeev', 'Fahrenheit),': 'sanjeev', 'burning,': 'sanjeev', 'increased': 'sanjeev', 'increase': 'sanjeev', 'heat-trapping': 'sanjeev', 'decades': 'sanjeev', 'system': 'sanjeev', 'long-term': 'sanjeev', 'Celsius': 'sanjeev', 'Fahrenheit)': 'sanjeev', 'measured': 'sanjeev', 'refers': 'sanjeev', 'surface': 'sanjeev', '1': 'sanjeev', 'at': 'sanjeev', 'by': 'sanjeev', 'our': 'sanjeev', 'due': 'sanjeev', 'is': 'sanjeev', 'activities,': 'sanjeev', 'produced': 'sanjeev', '(between': 'sanjeev', 'to': 'sanjeev', 'increasing': 'sanjeev', 'frequently': 'sanjeev', 'estimated': 'sanjeev', 'global': 'sanjeev', 'average': 'sanjeev', 'commonly': 'sanjeev', 'of': 'sanjeev', 'Most': 'sanjeev', '1850': 'sanjeev', 'are': 'sanjeev', 'in': 'sanjeev', 'naturally': 'sanjeev', 'observed': 'sanjeev', 'degree': 'sanjeev', 'degrees': 'sanjeev', 'used': 'sanjeev', 'an': 'sanjeev', 'decade.': 'sanjeev', 'Since': 'sanjeev', 'gas': 'sanjeev', 'period,': 'sanjeev', 'primarily': 'sanjeev', 'Global': 'sanjeev', 'over': 'sanjeev', 'activity': 'sanjeev', 'that': 'sanjeev', 'percent': 'sanjeev', 'temperature': 'sanjeev', 'extremely': 'sanjeev', 'heating': 'sanjeev', 'probability)': 'sanjeev', 'temperature.': 'sanjeev', 'pre-industrial': 'sanjeev', '1900)': 'sanjeev', 'warming': 'sanjeev', 'Earth’s': 'sanjeev', 'which': 'sanjeev', '(1.8': 'sanjeev', 'latter': 'sanjeev', 'rate': 'sanjeev', 'most': 'sanjeev', '(greater': 'sanjeev', 'since': 'sanjeev', 'The': 'sanjeev', 'per': 'sanjeev', 'human': 'sanjeev', 'change,': 'sanjeev', 'and': 'sanjeev', 'than': 'sanjeev', 'it': 'sanjeev', 'It': 'sanjeev', 'climate': 'sanjeev', 'trend': 'sanjeev', 'though': 'sanjeev', '95': 'sanjeev', 'planet.': 'sanjeev', 'fuel': 'sanjeev', 'with': 'sanjeev', 'proceeding': 'sanjeev', 'on': 'sanjeev', 'atmosphere.': 'sanjeev', 'has': 'sanjeev', 'current': 'sanjeev', 'increases': 'sanjeev', 'period': 'sanjeev', 'both': 'sanjeev', 'interchangeably': 'sanjeev', 'as': 'sanjeev', 'term': 'sanjeev', 'levels': 'sanjeev', 'currently': 'sanjeev'}\n"
     ]
    }
   ],
   "source": [
    "k = input(\"Enter the paragraph-->>\")\n",
    "\n",
    "data = k.split(\" \")\n",
    "no_duplicates = set(data)\n",
    "my_dict = {}\n",
    "for i in no_duplicates:\n",
    "    my_dict[i] = 'sanjeev'\n",
    "print(\"All dictionary is \", my_dict)\n",
    "    \n",
    "tup_list = []\n",
    "for i in my_dict.keys():\n",
    "    tup_list.append(my_dict[i])\n",
    "\n",
    "print(my_dict)"
   ]
  },
  {
   "cell_type": "code",
   "execution_count": 10,
   "metadata": {},
   "outputs": [
    {
     "name": "stdout",
     "output_type": "stream",
     "text": [
      "sanjeev\n"
     ]
    }
   ],
   "source": [
    "print(my_dict['as'])"
   ]
  },
  {
   "cell_type": "code",
   "execution_count": 21,
   "metadata": {},
   "outputs": [],
   "source": [
    "# list values\n",
    "list_values = []\n",
    "for i in my_dict.keys():\n",
    "    list_values.append(my_dict[i])"
   ]
  },
  {
   "cell_type": "code",
   "execution_count": 22,
   "metadata": {},
   "outputs": [
    {
     "name": "stdout",
     "output_type": "stream",
     "text": [
      "['sanjeev', 'sanjeev', 'sanjeev', 'sanjeev', 'sanjeev', 'sanjeev', 'sanjeev', 'sanjeev', 'sanjeev', 'sanjeev', 'sanjeev', 'sanjeev', 'sanjeev', 'sanjeev', 'sanjeev', 'sanjeev', 'sanjeev', 'sanjeev', 'sanjeev', 'sanjeev', 'sanjeev', 'sanjeev', 'sanjeev', 'sanjeev', 'sanjeev', 'sanjeev', 'sanjeev', 'sanjeev', 'sanjeev', 'sanjeev', 'sanjeev', 'sanjeev', 'sanjeev', 'sanjeev', 'sanjeev', 'sanjeev', 'sanjeev', 'sanjeev', 'sanjeev', 'sanjeev', 'sanjeev', 'sanjeev', 'sanjeev', 'sanjeev', 'sanjeev', 'sanjeev', 'sanjeev', 'sanjeev', 'sanjeev', 'sanjeev', 'sanjeev', 'sanjeev', 'sanjeev', 'sanjeev', 'sanjeev', 'sanjeev', 'sanjeev', 'sanjeev', 'sanjeev', 'sanjeev', 'sanjeev', 'sanjeev', 'sanjeev', 'sanjeev', 'sanjeev', 'sanjeev', 'sanjeev', 'sanjeev', 'sanjeev', 'sanjeev', 'sanjeev', 'sanjeev', 'sanjeev', 'sanjeev', 'sanjeev', 'sanjeev', 'sanjeev', 'sanjeev', 'sanjeev', 'sanjeev', 'sanjeev', 'sanjeev', 'sanjeev', 'sanjeev', 'sanjeev', 'sanjeev', 'sanjeev', 'sanjeev', 'sanjeev', 'sanjeev', 'sanjeev', 'sanjeev', 'sanjeev', 'sanjeev', 'sanjeev', 'sanjeev', 'sanjeev', 'sanjeev', 'sanjeev', 'sanjeev', 'sanjeev', 'sanjeev', 'sanjeev', 'sanjeev', 'sanjeev', 'sanjeev', 'sanjeev', 'sanjeev', 'sanjeev', 'sanjeev', 'sanjeev', 'sanjeev']\n"
     ]
    }
   ],
   "source": [
    "print(list_values)"
   ]
  },
  {
   "cell_type": "markdown",
   "metadata": {},
   "source": [
    "## Question i have to ask.\n",
    "it is working on list.keys() when i append into it. \n",
    "but it is not wokring on list.value() when i append it to a list. "
   ]
  },
  {
   "cell_type": "code",
   "execution_count": 28,
   "metadata": {},
   "outputs": [],
   "source": [
    "my_real_value = []\n",
    "for i in my_dict.values():\n",
    "    my_real_value.append(i)"
   ]
  },
  {
   "cell_type": "code",
   "execution_count": 29,
   "metadata": {},
   "outputs": [
    {
     "name": "stdout",
     "output_type": "stream",
     "text": [
      "['sanjeev', 'sanjeev', 'sanjeev', 'sanjeev', 'sanjeev', 'sanjeev', 'sanjeev', 'sanjeev', 'sanjeev', 'sanjeev', 'sanjeev', 'sanjeev', 'sanjeev', 'sanjeev', 'sanjeev', 'sanjeev', 'sanjeev', 'sanjeev', 'sanjeev', 'sanjeev', 'sanjeev', 'sanjeev', 'sanjeev', 'sanjeev', 'sanjeev', 'sanjeev', 'sanjeev', 'sanjeev', 'sanjeev', 'sanjeev', 'sanjeev', 'sanjeev', 'sanjeev', 'sanjeev', 'sanjeev', 'sanjeev', 'sanjeev', 'sanjeev', 'sanjeev', 'sanjeev', 'sanjeev', 'sanjeev', 'sanjeev', 'sanjeev', 'sanjeev', 'sanjeev', 'sanjeev', 'sanjeev', 'sanjeev', 'sanjeev', 'sanjeev', 'sanjeev', 'sanjeev', 'sanjeev', 'sanjeev', 'sanjeev', 'sanjeev', 'sanjeev', 'sanjeev', 'sanjeev', 'sanjeev', 'sanjeev', 'sanjeev', 'sanjeev', 'sanjeev', 'sanjeev', 'sanjeev', 'sanjeev', 'sanjeev', 'sanjeev', 'sanjeev', 'sanjeev', 'sanjeev', 'sanjeev', 'sanjeev', 'sanjeev', 'sanjeev', 'sanjeev', 'sanjeev', 'sanjeev', 'sanjeev', 'sanjeev', 'sanjeev', 'sanjeev', 'sanjeev', 'sanjeev', 'sanjeev', 'sanjeev', 'sanjeev', 'sanjeev', 'sanjeev', 'sanjeev', 'sanjeev', 'sanjeev', 'sanjeev', 'sanjeev', 'sanjeev', 'sanjeev', 'sanjeev', 'sanjeev', 'sanjeev', 'sanjeev', 'sanjeev', 'sanjeev', 'sanjeev', 'sanjeev', 'sanjeev', 'sanjeev', 'sanjeev', 'sanjeev', 'sanjeev', 'sanjeev']\n"
     ]
    }
   ],
   "source": [
    "print(my_real_value)"
   ]
  },
  {
   "cell_type": "code",
   "execution_count": null,
   "metadata": {},
   "outputs": [],
   "source": []
  }
 ],
 "metadata": {
  "kernelspec": {
   "display_name": "Python 3",
   "language": "python",
   "name": "python3"
  },
  "language_info": {
   "codemirror_mode": {
    "name": "ipython",
    "version": 3
   },
   "file_extension": ".py",
   "mimetype": "text/x-python",
   "name": "python",
   "nbconvert_exporter": "python",
   "pygments_lexer": "ipython3",
   "version": "3.7.3"
  }
 },
 "nbformat": 4,
 "nbformat_minor": 2
}
