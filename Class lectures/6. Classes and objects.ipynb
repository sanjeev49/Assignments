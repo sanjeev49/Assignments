{
 "cells": [
  {
   "cell_type": "markdown",
   "metadata": {},
   "source": [
    "### Ojbect is varaible of the class."
   ]
  },
  {
   "cell_type": "code",
   "execution_count": null,
   "metadata": {},
   "outputs": [],
   "source": [
    "import logging as lg\n",
    "lg.basicConfig(filename = 'result.log', level = lg.INFO,format = '%(name)s -%(message)s')\n",
    "def even(num):\n",
    "    evn = []\n",
    "    try:\n",
    "    \n",
    "        for i in num:\n",
    "            if type(i) == int:\n",
    "                if i%2 == 0:\n",
    "                    evn.append(i)\n",
    "            elif type(i) == str:\n",
    "                \n",
    "                lg.info(\"This is a string sir: \", i)\n",
    "            elif type(i) == bool:\n",
    "                lg.info(\"this is not even a integer: \", i)\n",
    "            elif type(i) == list:\n",
    "                lg.info(\"Anothe list is not allowed...\")\n",
    "            else:\n",
    "                lg.info(\"This is next level of error...\")\n",
    "    except Exception as e:\n",
    "        lg.info(\"there is an exception...\")\n",
    "    else:\n",
    "        lg.info(\"Program runs successfully and the even numbers are....\", evn)\n",
    "        return evn\n",
    "        \n",
    "    "
   ]
  },
  {
   "cell_type": "code",
   "execution_count": null,
   "metadata": {},
   "outputs": [],
   "source": []
  },
  {
   "cell_type": "markdown",
   "metadata": {},
   "source": [
    "### Classes and objects"
   ]
  },
  {
   "cell_type": "code",
   "execution_count": 1,
   "metadata": {},
   "outputs": [],
   "source": [
    "class car:\n",
    "    pass"
   ]
  },
  {
   "cell_type": "code",
   "execution_count": 2,
   "metadata": {},
   "outputs": [],
   "source": [
    "audiq7 = car()"
   ]
  },
  {
   "cell_type": "code",
   "execution_count": 10,
   "metadata": {},
   "outputs": [],
   "source": [
    "audiq7.milage = 20\n",
    "audiq7.year  = 2021\n",
    "audiq7.make = 345\n",
    "audiq7.model = 'fasl'"
   ]
  },
  {
   "cell_type": "code",
   "execution_count": 11,
   "metadata": {},
   "outputs": [
    {
     "data": {
      "text/plain": [
       "20"
      ]
     },
     "execution_count": 11,
     "metadata": {},
     "output_type": "execute_result"
    }
   ],
   "source": [
    "audiq7.milage"
   ]
  },
  {
   "cell_type": "code",
   "execution_count": 12,
   "metadata": {},
   "outputs": [],
   "source": [
    "nano = car()\n",
    "nano.milage = 10\n",
    "nano.year = 2020\n",
    "nano.make = 3423\n",
    "nano.model = 'asdklfj'\n",
    "nano.enginenumber = '2342354'"
   ]
  },
  {
   "cell_type": "code",
   "execution_count": 13,
   "metadata": {},
   "outputs": [
    {
     "data": {
      "text/plain": [
       "'2342354'"
      ]
     },
     "execution_count": 13,
     "metadata": {},
     "output_type": "execute_result"
    }
   ],
   "source": [
    "nano.enginenumber"
   ]
  },
  {
   "cell_type": "code",
   "execution_count": 14,
   "metadata": {},
   "outputs": [
    {
     "name": "stdout",
     "output_type": "stream",
     "text": [
      "10 20\n"
     ]
    }
   ],
   "source": [
    "print(nano.milage, audiq7.milage)"
   ]
  },
  {
   "cell_type": "markdown",
   "metadata": {},
   "source": [
    "##### This is a bad way of coding.."
   ]
  },
  {
   "cell_type": "code",
   "execution_count": 15,
   "metadata": {},
   "outputs": [],
   "source": [
    "# this is the recommended way of coding by object oriented programming."
   ]
  },
  {
   "cell_type": "code",
   "execution_count": 16,
   "metadata": {},
   "outputs": [],
   "source": [
    "class car:\n",
    "    def __init__(self, milage, year, make, model):\n",
    "        self.milage = milage\n",
    "        self.year = year\n",
    "        self.make = make\n",
    "        self.model  = model"
   ]
  },
  {
   "cell_type": "code",
   "execution_count": 17,
   "metadata": {},
   "outputs": [],
   "source": [
    "nano = car(10, 2012, '324234', 'adskflj43')"
   ]
  },
  {
   "cell_type": "code",
   "execution_count": 19,
   "metadata": {},
   "outputs": [
    {
     "name": "stdout",
     "output_type": "stream",
     "text": [
      "<__main__.car object at 0x000002273E1CC880>\n"
     ]
    }
   ],
   "source": [
    "print(nano)"
   ]
  },
  {
   "cell_type": "code",
   "execution_count": 20,
   "metadata": {},
   "outputs": [
    {
     "ename": "TypeError",
     "evalue": "'car' object is not iterable",
     "output_type": "error",
     "traceback": [
      "\u001b[1;31m---------------------------------------------------------------------------\u001b[0m",
      "\u001b[1;31mTypeError\u001b[0m                                 Traceback (most recent call last)",
      "\u001b[1;32m<ipython-input-20-e65cbb4b3984>\u001b[0m in \u001b[0;36m<module>\u001b[1;34m\u001b[0m\n\u001b[1;32m----> 1\u001b[1;33m \u001b[1;32mfor\u001b[0m \u001b[0mi\u001b[0m \u001b[1;32min\u001b[0m \u001b[0mnano\u001b[0m\u001b[1;33m:\u001b[0m\u001b[1;33m\u001b[0m\u001b[1;33m\u001b[0m\u001b[0m\n\u001b[0m\u001b[0;32m      2\u001b[0m     \u001b[0mprint\u001b[0m\u001b[1;33m(\u001b[0m\u001b[0mtype\u001b[0m\u001b[1;33m(\u001b[0m\u001b[0mi\u001b[0m\u001b[1;33m)\u001b[0m\u001b[1;33m)\u001b[0m\u001b[1;33m\u001b[0m\u001b[1;33m\u001b[0m\u001b[0m\n",
      "\u001b[1;31mTypeError\u001b[0m: 'car' object is not iterable"
     ]
    }
   ],
   "source": [
    "for i in nano:\n",
    "    print(type(i))"
   ]
  },
  {
   "cell_type": "code",
   "execution_count": 21,
   "metadata": {},
   "outputs": [
    {
     "name": "stdout",
     "output_type": "stream",
     "text": [
      "<class '__main__.car'>\n"
     ]
    }
   ],
   "source": [
    "print(type(nano))"
   ]
  },
  {
   "cell_type": "code",
   "execution_count": 22,
   "metadata": {},
   "outputs": [
    {
     "data": {
      "text/plain": [
       "10"
      ]
     },
     "execution_count": 22,
     "metadata": {},
     "output_type": "execute_result"
    }
   ],
   "source": [
    "audiq7 = car(350, 2018, '32423', 'asdfj32')\n",
    "nano.milage"
   ]
  },
  {
   "cell_type": "code",
   "execution_count": 24,
   "metadata": {},
   "outputs": [
    {
     "data": {
      "text/plain": [
       "'asdfj32'"
      ]
     },
     "execution_count": 24,
     "metadata": {},
     "output_type": "execute_result"
    }
   ],
   "source": [
    "audiq7.model"
   ]
  },
  {
   "cell_type": "code",
   "execution_count": 27,
   "metadata": {},
   "outputs": [],
   "source": [
    "class car:\n",
    "    # by default our first variale is behave as a pointer (self)\n",
    "    def __init__(a,milage, year, make, model):\n",
    "        a.milage = milage\n",
    "        a.year = year\n",
    "        a.make = make\n",
    "        a.model  = model"
   ]
  },
  {
   "cell_type": "code",
   "execution_count": 28,
   "metadata": {},
   "outputs": [
    {
     "data": {
      "text/plain": [
       "20"
      ]
     },
     "execution_count": 28,
     "metadata": {},
     "output_type": "execute_result"
    }
   ],
   "source": [
    "nano2 = car(10,20,30,40)\n",
    "nano2.year"
   ]
  },
  {
   "cell_type": "code",
   "execution_count": 31,
   "metadata": {},
   "outputs": [],
   "source": [
    "class car:\n",
    "    def __init__(a,m,y,ma,mo):\n",
    "        a.milage = m\n",
    "        a.year = y\n",
    "        a.make  = ma\n",
    "        a.model = mo"
   ]
  },
  {
   "cell_type": "code",
   "execution_count": 33,
   "metadata": {},
   "outputs": [
    {
     "data": {
      "text/plain": [
       "60"
      ]
     },
     "execution_count": 33,
     "metadata": {},
     "output_type": "execute_result"
    }
   ],
   "source": [
    "nano67 = car(10,20,20,60)\n",
    "nano67.model"
   ]
  },
  {
   "cell_type": "code",
   "execution_count": 34,
   "metadata": {},
   "outputs": [
    {
     "data": {
      "text/plain": [
       "20"
      ]
     },
     "execution_count": 34,
     "metadata": {},
     "output_type": "execute_result"
    }
   ],
   "source": [
    "nano67.year"
   ]
  },
  {
   "cell_type": "code",
   "execution_count": 35,
   "metadata": {},
   "outputs": [
    {
     "ename": "AttributeError",
     "evalue": "'car' object has no attribute 'y'",
     "output_type": "error",
     "traceback": [
      "\u001b[1;31m---------------------------------------------------------------------------\u001b[0m",
      "\u001b[1;31mAttributeError\u001b[0m                            Traceback (most recent call last)",
      "\u001b[1;32m<ipython-input-35-f5ec9eb28f34>\u001b[0m in \u001b[0;36m<module>\u001b[1;34m\u001b[0m\n\u001b[1;32m----> 1\u001b[1;33m \u001b[0mnano67\u001b[0m\u001b[1;33m.\u001b[0m\u001b[0my\u001b[0m\u001b[1;33m\u001b[0m\u001b[1;33m\u001b[0m\u001b[0m\n\u001b[0m",
      "\u001b[1;31mAttributeError\u001b[0m: 'car' object has no attribute 'y'"
     ]
    }
   ],
   "source": [
    "nano67.y"
   ]
  },
  {
   "cell_type": "code",
   "execution_count": 56,
   "metadata": {},
   "outputs": [],
   "source": [
    "class car:\n",
    "    def __init__(a,m,y,ma,mo):\n",
    "        a.milage = m\n",
    "        a.year = y\n",
    "        a.make  = ma\n",
    "        a.model = mo\n",
    "    # we can use any local pointer insted of a or b.\n",
    "    def age(self, current_year):\n",
    "        return current_year-self.year\n",
    "    def milage1(b):\n",
    "        print('Print a milage of car: ', b.milage)\n",
    "    # This will print our message to the console whenever someone will going to print our object.\n",
    "    def __str__(c):\n",
    "        return \"This is my car class that i have created..\""
   ]
  },
  {
   "cell_type": "code",
   "execution_count": 57,
   "metadata": {},
   "outputs": [
    {
     "data": {
      "text/plain": [
       "3"
      ]
     },
     "execution_count": 57,
     "metadata": {},
     "output_type": "execute_result"
    }
   ],
   "source": [
    "a = car(30,2018,32432,\"342ksadf\")\n",
    "a.age(2021)"
   ]
  },
  {
   "cell_type": "code",
   "execution_count": 58,
   "metadata": {},
   "outputs": [
    {
     "name": "stdout",
     "output_type": "stream",
     "text": [
      "Print a milage of car:  30\n"
     ]
    }
   ],
   "source": [
    "a.milage1()"
   ]
  },
  {
   "cell_type": "code",
   "execution_count": 59,
   "metadata": {},
   "outputs": [
    {
     "data": {
      "text/plain": [
       "<__main__.car at 0x2273e1ff5e0>"
      ]
     },
     "execution_count": 59,
     "metadata": {},
     "output_type": "execute_result"
    }
   ],
   "source": [
    "a"
   ]
  },
  {
   "cell_type": "code",
   "execution_count": 60,
   "metadata": {},
   "outputs": [
    {
     "name": "stdout",
     "output_type": "stream",
     "text": [
      "This is my car class that i have created..\n"
     ]
    }
   ],
   "source": [
    "print(a)"
   ]
  },
  {
   "cell_type": "code",
   "execution_count": 79,
   "metadata": {},
   "outputs": [],
   "source": [
    "class student:\n",
    "    def __init__(self, name ,roll_no, joining_date, current_topic):\n",
    "        self.name = name\n",
    "        self.roll_no  = roll_no\n",
    "        self.joining_date = joining_date\n",
    "        self.current_topic = current_topic\n",
    "    def name_parsing(self):\n",
    "        if type(self.name) == list:\n",
    "            for i in self.name:\n",
    "                print(\"Name of the student is\",i)\n",
    "        else:\n",
    "            print(\"Provided name is not in a form of list\")\n",
    "    def crt_topic(self):\n",
    "        print(\"Current topic of discussion is \", self.current_topic)\n",
    "    def str_rollNo(self):\n",
    "        try:\n",
    "            if type(self.roll_no) == str:\n",
    "                print(\"Wronng format\")\n",
    "            else:\n",
    "                return str(self.roll_no)\n",
    "        except Exception as e:\n",
    "            print(e)\n",
    "    def duration(self , current_data):\n",
    "        print(\"THe duraton of my student class is \", current_data-self.joining_date)\n",
    "    def __str__(self):\n",
    "        return \"This is the class by which  i am learning.\""
   ]
  },
  {
   "cell_type": "code",
   "execution_count": 80,
   "metadata": {},
   "outputs": [],
   "source": [
    "marur = student(['ram', 'sham', 'sita', 'babita'], 1712196, 2017, 'oops')"
   ]
  },
  {
   "cell_type": "code",
   "execution_count": 81,
   "metadata": {},
   "outputs": [
    {
     "data": {
      "text/plain": [
       "'1712196'"
      ]
     },
     "execution_count": 81,
     "metadata": {},
     "output_type": "execute_result"
    }
   ],
   "source": [
    "marur.str_rollNo()"
   ]
  },
  {
   "cell_type": "code",
   "execution_count": 82,
   "metadata": {},
   "outputs": [
    {
     "name": "stdout",
     "output_type": "stream",
     "text": [
      "Name of the student is ram\n",
      "Name of the student is sham\n",
      "Name of the student is sita\n",
      "Name of the student is babita\n"
     ]
    }
   ],
   "source": [
    "marur.name_parsing()"
   ]
  },
  {
   "cell_type": "code",
   "execution_count": 10,
   "metadata": {},
   "outputs": [],
   "source": [
    "class data:\n",
    "    def __init__(self, file_name, file_tye, date ,size):\n",
    "        self.file_name = file_name\n",
    "        self.file_tye = file_tye\n",
    "        self.date = date\n",
    "        self.size = size\n",
    "    def create_file(self):\n",
    "        a  = open(self.file_name, 'w')\n",
    "        for i in range(10):\n",
    "            a.write(\"This is line number {} \".format(i))\n",
    "        a.close()\n",
    "    def read_file(self):\n",
    "        a = open(self.file_name ,'r')\n",
    "        for i in a:\n",
    "            print(i)\n",
    "            print()\n",
    "        a.close()\n",
    "    def append_file(self):\n",
    "        b = open(self.file_name, 'a+')\n",
    "        b.write(\"This is the last line of code\")\n",
    "        for i in b:\n",
    "            print(i)\n",
    "\n",
    "            \n",
    "        "
   ]
  },
  {
   "cell_type": "code",
   "execution_count": 11,
   "metadata": {},
   "outputs": [],
   "source": [
    "d = data('file.txt', 'text', '2021', 34)"
   ]
  },
  {
   "cell_type": "markdown",
   "metadata": {},
   "source": [
    "level2, \n",
    "write a method which will be open a file a write something into it.\n",
    "- perform a read operation in same file name\n",
    "- append in the same file\n",
    "- exception handling\n",
    "\n",
    "level 3\n",
    "- create a function with logger\n"
   ]
  },
  {
   "cell_type": "code",
   "execution_count": 12,
   "metadata": {},
   "outputs": [],
   "source": [
    "d.create_file()"
   ]
  },
  {
   "cell_type": "code",
   "execution_count": 13,
   "metadata": {},
   "outputs": [
    {
     "name": "stdout",
     "output_type": "stream",
     "text": [
      "This is line number 0 This is line number 1 This is line number 2 This is line number 3 This is line number 4 This is line number 5 This is line number 6 This is line number 7 This is line number 8 This is line number 9 \n",
      "\n"
     ]
    }
   ],
   "source": [
    "d.read_file()"
   ]
  },
  {
   "cell_type": "code",
   "execution_count": 14,
   "metadata": {},
   "outputs": [],
   "source": [
    "d.append_file()"
   ]
  },
  {
   "cell_type": "code",
   "execution_count": 15,
   "metadata": {},
   "outputs": [
    {
     "name": "stdout",
     "output_type": "stream",
     "text": [
      "This is line number 0 This is line number 1 This is line number 2 This is line number 3 This is line number 4 This is line number 5 This is line number 6 This is line number 7 This is line number 8 This is line number 9 This is the last line of code\n",
      "\n"
     ]
    }
   ],
   "source": [
    "d.read_file()"
   ]
  },
  {
   "cell_type": "code",
   "execution_count": 16,
   "metadata": {},
   "outputs": [],
   "source": [
    "class student:\n",
    "    def __init__(self, file_name, file_type , date, size):\n",
    "        self.file_name   = file_name\n",
    "        self.file_type  = file_type\n",
    "        self.date = date\n",
    "        self.size = size\n",
    "    def create_file(self):\n",
    "        try:\n",
    "            with open(self.file_name + self.file_type, 'w') as f:\n",
    "                for i in range(10):\n",
    "                    f.write(\"This is {}th line of the code\".format(i))\n",
    "            f.close()\n",
    "        except Exception as e:\n",
    "            print(e)\n",
    "    def read_file(self):\n",
    "        try:\n",
    "            with open(self.file_name+self.file_type, 'r')  as f:\n",
    "                f = f.readlines()\n",
    "                for i in f:\n",
    "                    print(i)\n",
    "        except Exception as f:\n",
    "            print(f)\n",
    "    def append(self):\n",
    "        try:\n",
    "            with open(self.file_name+self.file_type, 'a+') as f:\n",
    "                f.append('this is new line')\n",
    "        except Exception as f:\n",
    "            print(f)"
   ]
  },
  {
   "cell_type": "code",
   "execution_count": 65,
   "metadata": {},
   "outputs": [],
   "source": [
    "import logging as lg\n",
    "class student2:\n",
    "    def __init__(self, file_name , file_type, data, size):\n",
    "        self.file_name = file_name\n",
    "        self.file_type  = file_type\n",
    "        self.data  = data\n",
    "        self.size = size\n",
    "    def create_file(self):\n",
    "        try:\n",
    "            \n",
    "            with open(self.file_name + self.file_type, 'w') as f:\n",
    "                f.write(self.data)\n",
    "                f.close()\n",
    "        except Exception as e:\n",
    "            self.logging(e)\n",
    "    def read_file(self):\n",
    "        try:\n",
    "            with open(self.file_name + self.file_type, 'r') as a:\n",
    "                a = a.readlines()\n",
    "                for i in a:\n",
    "                    print(i)\n",
    "        except FileNotFoundError as e:\n",
    "            self.logging(e)\n",
    "        except Exception as e:\n",
    "            self.logging(e)\n",
    "    def append_file(self):\n",
    "        try:\n",
    "            with open(self.file_name + self.file_type, 'a+') as f:\n",
    "                f.write(self.data)\n",
    "            f.close()\n",
    "        except FileNotFoundError as e:\n",
    "            self.logging(e)\n",
    "        except Exception as e:\n",
    "            self.logging(e)\n",
    "    def logging(self, log):\n",
    "        lg.basicConfig(filename = 'error.log' ,level = lg.INFO)\n",
    "        lg.error(log)\n",
    "        \n",
    "        \n",
    "        "
   ]
  },
  {
   "cell_type": "code",
   "execution_count": 66,
   "metadata": {},
   "outputs": [],
   "source": [
    "d = student2('d', '.txt' ,'hi', 2)"
   ]
  },
  {
   "cell_type": "code",
   "execution_count": 67,
   "metadata": {},
   "outputs": [],
   "source": [
    "d.create_file()"
   ]
  },
  {
   "cell_type": "code",
   "execution_count": 68,
   "metadata": {},
   "outputs": [
    {
     "name": "stdout",
     "output_type": "stream",
     "text": [
      "hi\n"
     ]
    }
   ],
   "source": [
    "d.read_file()"
   ]
  },
  {
   "cell_type": "code",
   "execution_count": 69,
   "metadata": {},
   "outputs": [
    {
     "name": "stdout",
     "output_type": "stream",
     "text": [
      "['hi']\n"
     ]
    }
   ],
   "source": [
    "with open('d.txt' , 'r') as f:\n",
    "    a = f.readlines()\n",
    "    print(a)"
   ]
  },
  {
   "cell_type": "code",
   "execution_count": 70,
   "metadata": {},
   "outputs": [],
   "source": [
    "d.append_file()"
   ]
  },
  {
   "cell_type": "code",
   "execution_count": 71,
   "metadata": {},
   "outputs": [
    {
     "name": "stdout",
     "output_type": "stream",
     "text": [
      "hihi\n"
     ]
    }
   ],
   "source": [
    "d.read_file()"
   ]
  },
  {
   "cell_type": "code",
   "execution_count": 64,
   "metadata": {},
   "outputs": [
    {
     "name": "stdout",
     "output_type": "stream",
     "text": [
      "Hi, i am sanjeev kumar....\n"
     ]
    }
   ],
   "source": [
    "print(\"Hi, i am sanjeev kumar....\")"
   ]
  },
  {
   "cell_type": "code",
   "execution_count": 22,
   "metadata": {},
   "outputs": [],
   "source": [
    "import logging as lg\n",
    "class Data:\n",
    "    def __init__(self, file_n, file_t, date, size):\n",
    "        self.file_n = file_n\n",
    "        self.file_t = file_t\n",
    "        self.date = date\n",
    "        self.size =size\n",
    "    def create_file(self):\n",
    "        try:\n",
    "            with open(self.file_n+self.file_t, 'w') as f:\n",
    "                for i in range(10):\n",
    "                    f.write(\"I am sanjeev. This is {} number of code: \".format(i))\n",
    "            f.close()\n",
    "        except Exception as e:\n",
    "            commit(e)\n",
    "    def read_file(self):\n",
    "        try:\n",
    "            with open(self.file_n+self.file_t, 'r') as f:\n",
    "                a = f.readlines()\n",
    "                for i in a:\n",
    "                    print(i)\n",
    "            f.close()\n",
    "        except FileNotFoundError as e:\n",
    "            lg.commit(e)\n",
    "        except Exception as e:\n",
    "            lg.commit(e)\n",
    "    def append_file(self):\n",
    "        try:\n",
    "            with open(self.file_n+ self.file_t, 'a+') as f:\n",
    "                f.write(\"\\nThis is last line of the code...\")\n",
    "            f.close()\n",
    "        except FileNotFoundError as e:\n",
    "            lg.commit(e)\n",
    "        except Exception as e:\n",
    "            lg.commit(e)\n",
    "    def commit(self, n):\n",
    "        lg.basicConfig(filename = 'speaker.log', level = lg.INFO)\n",
    "        lg.error(n)\n",
    "        "
   ]
  },
  {
   "cell_type": "code",
   "execution_count": 23,
   "metadata": {},
   "outputs": [],
   "source": [
    "gl = Data('text2', '.txt', \"Hi, i am sanjeev\", 23)"
   ]
  },
  {
   "cell_type": "code",
   "execution_count": 24,
   "metadata": {},
   "outputs": [],
   "source": [
    "gl.create_file()"
   ]
  },
  {
   "cell_type": "code",
   "execution_count": 25,
   "metadata": {},
   "outputs": [
    {
     "name": "stdout",
     "output_type": "stream",
     "text": [
      "I am sanjeev. This is 0 number of code: I am sanjeev. This is 1 number of code: I am sanjeev. This is 2 number of code: I am sanjeev. This is 3 number of code: I am sanjeev. This is 4 number of code: I am sanjeev. This is 5 number of code: I am sanjeev. This is 6 number of code: I am sanjeev. This is 7 number of code: I am sanjeev. This is 8 number of code: I am sanjeev. This is 9 number of code: \n"
     ]
    }
   ],
   "source": [
    "gl.read_file()"
   ]
  },
  {
   "cell_type": "code",
   "execution_count": 26,
   "metadata": {},
   "outputs": [
    {
     "ename": "FileNotFoundError",
     "evalue": "[Errno 2] No such file or directory: 'speaker.log'",
     "output_type": "error",
     "traceback": [
      "\u001b[1;31m---------------------------------------------------------------------------\u001b[0m",
      "\u001b[1;31mFileNotFoundError\u001b[0m                         Traceback (most recent call last)",
      "\u001b[1;32m<ipython-input-26-c34ec2d564e7>\u001b[0m in \u001b[0;36m<module>\u001b[1;34m\u001b[0m\n\u001b[1;32m----> 1\u001b[1;33m \u001b[1;32mwith\u001b[0m \u001b[0mopen\u001b[0m\u001b[1;33m(\u001b[0m\u001b[1;34m'speaker.log'\u001b[0m\u001b[1;33m,\u001b[0m \u001b[1;34m'r'\u001b[0m\u001b[1;33m)\u001b[0m \u001b[1;32mas\u001b[0m \u001b[0mf\u001b[0m\u001b[1;33m:\u001b[0m\u001b[1;33m\u001b[0m\u001b[1;33m\u001b[0m\u001b[0m\n\u001b[0m\u001b[0;32m      2\u001b[0m     \u001b[0ma\u001b[0m \u001b[1;33m=\u001b[0m \u001b[0mf\u001b[0m\u001b[1;33m.\u001b[0m\u001b[0mreadlines\u001b[0m\u001b[1;33m(\u001b[0m\u001b[1;33m)\u001b[0m\u001b[1;33m\u001b[0m\u001b[1;33m\u001b[0m\u001b[0m\n\u001b[0;32m      3\u001b[0m     \u001b[1;32mfor\u001b[0m \u001b[0mi\u001b[0m \u001b[1;32min\u001b[0m \u001b[0ma\u001b[0m\u001b[1;33m:\u001b[0m\u001b[1;33m\u001b[0m\u001b[1;33m\u001b[0m\u001b[0m\n\u001b[0;32m      4\u001b[0m         \u001b[0mprint\u001b[0m\u001b[1;33m(\u001b[0m\u001b[0mI\u001b[0m\u001b[1;33m)\u001b[0m\u001b[1;33m\u001b[0m\u001b[1;33m\u001b[0m\u001b[0m\n",
      "\u001b[1;31mFileNotFoundError\u001b[0m: [Errno 2] No such file or directory: 'speaker.log'"
     ]
    }
   ],
   "source": [
    "with open('speaker.log', 'r') as f:\n",
    "    a = f.readlines()\n",
    "    for i in a:\n",
    "        print(I)"
   ]
  },
  {
   "cell_type": "code",
   "execution_count": 27,
   "metadata": {},
   "outputs": [
    {
     "data": {
      "text/plain": [
       "'C:\\\\Users\\\\Sanjeev\\\\ineuron\\\\Class lectures'"
      ]
     },
     "execution_count": 27,
     "metadata": {},
     "output_type": "execute_result"
    }
   ],
   "source": [
    "pwd"
   ]
  },
  {
   "cell_type": "code",
   "execution_count": 28,
   "metadata": {},
   "outputs": [
    {
     "name": "stdout",
     "output_type": "stream",
     "text": [
      " Volume in drive C is OS\n",
      " Volume Serial Number is B8FD-3B7C\n",
      "\n",
      " Directory of C:\\Users\\Sanjeev\\ineuron\\Class lectures\n",
      "\n",
      "11-04-2021  23:38    <DIR>          .\n",
      "11-04-2021  23:38    <DIR>          ..\n",
      "11-04-2021  15:30    <DIR>          .ipynb_checkpoints\n",
      "10-04-2021  18:54            17,047 5. Module.ipynb\n",
      "11-04-2021  23:38            27,560 6. Classes and objects.ipynb\n",
      "11-04-2021  22:16                 4 d.txt\n",
      "02-04-2021  10:38             6,319 database programming.ipynb\n",
      "08-04-2021  19:54            17,733 Day_3Functions.ipynb\n",
      "08-04-2021  20:09            14,810 Day4_function.ipynb\n",
      "11-04-2021  18:46               494 error.log\n",
      "11-04-2021  18:07               249 file.txt\n",
      "21-03-2021  17:33            18,172 function.ipynb\n",
      "26-03-2021  02:35            11,903 glass.data\n",
      "08-04-2021  12:16             4,149 Gui app.ipynb\n",
      "04-04-2021  16:31    <DIR>          login\n",
      "11-04-2021  01:16            41,508 Rest api and nosql.ipynb\n",
      "11-04-2021  18:04                32 sdf.txt\n",
      "10-04-2021  19:00    <DIR>          test\n",
      "10-04-2021  16:17    <DIR>          test1\n",
      "10-04-2021  17:53                 0 test1.txt\n",
      "11-04-2021  23:38               400 text2.txt\n",
      "08-04-2021  20:08    <DIR>          txt operations\n",
      "26-03-2021  16:01                72 WebScrapper.ipynb\n",
      "              16 File(s)        160,452 bytes\n",
      "               7 Dir(s)  361,768,914,944 bytes free\n"
     ]
    }
   ],
   "source": [
    "ls"
   ]
  },
  {
   "cell_type": "code",
   "execution_count": null,
   "metadata": {},
   "outputs": [],
   "source": []
  },
  {
   "cell_type": "code",
   "execution_count": null,
   "metadata": {},
   "outputs": [],
   "source": [
    "\n"
   ]
  }
 ],
 "metadata": {
  "kernelspec": {
   "display_name": "Python 3",
   "language": "python",
   "name": "python3"
  },
  "language_info": {
   "codemirror_mode": {
    "name": "ipython",
    "version": 3
   },
   "file_extension": ".py",
   "mimetype": "text/x-python",
   "name": "python",
   "nbconvert_exporter": "python",
   "pygments_lexer": "ipython3",
   "version": "3.8.5"
  }
 },
 "nbformat": 4,
 "nbformat_minor": 4
}
