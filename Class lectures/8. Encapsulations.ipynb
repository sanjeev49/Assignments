{
 "cells": [
  {
   "cell_type": "code",
   "execution_count": 1,
   "metadata": {},
   "outputs": [],
   "source": [
    "class parent:\n",
    "    a = 10\n",
    "    b = 40\n",
    "    def __init__(self, parent_a, parent_b):\n",
    "        self.parent_a = parent_a\n",
    "        self.parent_b = parent_b\n",
    "class child(parent):\n",
    "    def __init__(self, *args):\n",
    "        super(child, self).__init__(*args)"
   ]
  },
  {
   "cell_type": "code",
   "execution_count": null,
   "metadata": {},
   "outputs": [],
   "source": []
  },
  {
   "cell_type": "code",
   "execution_count": 7,
   "metadata": {},
   "outputs": [],
   "source": [
    "class dog:\n",
    "    def __init__(self , name  , year_of_birth, breed):\n",
    "        self.name = name\n",
    "        self.year_of_birth = year_of_birth\n",
    "        self.breed = breed\n",
    "    def __str__(self):\n",
    "        return \"%s is a %s born in %d\" %(self.name, self.breed, self.year_of_birth)\n",
    "    "
   ]
  },
  {
   "cell_type": "code",
   "execution_count": 8,
   "metadata": {},
   "outputs": [],
   "source": [
    "d  = dog('tommy', 2921, 'daf')\n",
    "dog1 = dog()"
   ]
  },
  {
   "cell_type": "code",
   "execution_count": 9,
   "metadata": {},
   "outputs": [
    {
     "name": "stdout",
     "output_type": "stream",
     "text": [
      "tommy is a daf born in 2921\n"
     ]
    }
   ],
   "source": [
    "print(d)"
   ]
  },
  {
   "cell_type": "code",
   "execution_count": null,
   "metadata": {},
   "outputs": [],
   "source": []
  },
  {
   "cell_type": "code",
   "execution_count": null,
   "metadata": {},
   "outputs": [],
   "source": []
  },
  {
   "cell_type": "code",
   "execution_count": 10,
   "metadata": {},
   "outputs": [],
   "source": [
    "class student:\n",
    "    def __init__(self, name, student_id, school_name, address):\n",
    "        self.name = name\n",
    "        self.student_id = student_id\n",
    "        self.school_name  = school_name\n",
    "        self.address = address\n",
    "    def __str__(self):\n",
    "        return str(self.name)+\" \"+str(self.student_id)+\" \"+str(self.school_name)"
   ]
  },
  {
   "cell_type": "code",
   "execution_count": 14,
   "metadata": {},
   "outputs": [
    {
     "name": "stdout",
     "output_type": "stream",
     "text": [
      "sanjeev 1712196 sus tangori\n"
     ]
    }
   ],
   "source": [
    "stu  = student('sanjeev', 1712196, 'sus tangori', 'bihar')\n",
    "print(stu)"
   ]
  },
  {
   "cell_type": "code",
   "execution_count": 17,
   "metadata": {},
   "outputs": [],
   "source": [
    "dog = student(d, 45, 'dog_sch', 'sdf')\n",
    "# This is called encapsulation"
   ]
  },
  {
   "cell_type": "code",
   "execution_count": 18,
   "metadata": {},
   "outputs": [
    {
     "name": "stdout",
     "output_type": "stream",
     "text": [
      "tommy is a daf born in 2921 45 dog_sch\n"
     ]
    }
   ],
   "source": [
    "print(dog)"
   ]
  },
  {
   "cell_type": "code",
   "execution_count": 19,
   "metadata": {},
   "outputs": [],
   "source": [
    "\n",
    "# another way of encapsulations."
   ]
  },
  {
   "cell_type": "code",
   "execution_count": 1,
   "metadata": {},
   "outputs": [],
   "source": [
    "class BonusDescription:\n",
    "    def __init__(self, employeeId, employeeRating):\n",
    "        self.empId = employeeId\n",
    "        self.empRating = employeeRating\n",
    "        self.__bonusRatingA = \"70%\"\n",
    "        self.__bonusRatingB = \"60%\"\n",
    "        self.__bonusRatingC = \"50%\"\n",
    "        self.__bonusRatingD = \"30%\"\n",
    "        self.__bonusforRatingForRest = \"No Bonus\"\n",
    "    def bonusCalculator(self):\n",
    "        if self.empRating == 'A':\n",
    "            bonus = self.__bonusRatingA\n",
    "            msg = \"Bonus for this employee is \"+ bonus\n",
    "            return msg\n",
    "        elif self.empRating == 'B':\n",
    "            bonus = self.__bonusRatingB\n",
    "            msg = \"Bonus for this employee is \"+bonus\n",
    "            return msg\n",
    "        elif self.empRating == \"C\":\n",
    "            bonus = self.__bonusRatingC\n",
    "            msg = \"bonus for this employee is \"+ bonus\n",
    "            return msg\n",
    "        elif self.empRating == 'D':\n",
    "            bonus = self.__bonusRatingD\n",
    "            msg = \"bonus for this employee is\"+bonus\n",
    "            return msg\n",
    "        else:\n",
    "            bonus = self.__bonusforRatingForRest\n",
    "            msg = \"bonus for this employee is \"+bonus\n",
    "            return msg"
   ]
  },
  {
   "cell_type": "code",
   "execution_count": 2,
   "metadata": {},
   "outputs": [],
   "source": [
    "emp1 = BonusDescription(123, 'B')"
   ]
  },
  {
   "cell_type": "code",
   "execution_count": 3,
   "metadata": {},
   "outputs": [
    {
     "data": {
      "text/plain": [
       "'Bonus for this employee is 60%'"
      ]
     },
     "execution_count": 3,
     "metadata": {},
     "output_type": "execute_result"
    }
   ],
   "source": [
    "emp1.bonusCalculator()"
   ]
  },
  {
   "cell_type": "code",
   "execution_count": 7,
   "metadata": {},
   "outputs": [],
   "source": [
    "# Below is the way of overidin the variable of the value."
   ]
  },
  {
   "cell_type": "code",
   "execution_count": 5,
   "metadata": {},
   "outputs": [],
   "source": [
    "emp1._BonusDescription__bonusRatingB = \"90\""
   ]
  },
  {
   "cell_type": "code",
   "execution_count": 6,
   "metadata": {},
   "outputs": [
    {
     "data": {
      "text/plain": [
       "'Bonus for this employee is 90'"
      ]
     },
     "execution_count": 6,
     "metadata": {},
     "output_type": "execute_result"
    }
   ],
   "source": [
    "emp1.bonusCalculator()"
   ]
  },
  {
   "cell_type": "code",
   "execution_count": null,
   "metadata": {},
   "outputs": [],
   "source": []
  },
  {
   "cell_type": "code",
   "execution_count": null,
   "metadata": {},
   "outputs": [],
   "source": []
  }
 ],
 "metadata": {
  "kernelspec": {
   "display_name": "Python 3",
   "language": "python",
   "name": "python3"
  },
  "language_info": {
   "codemirror_mode": {
    "name": "ipython",
    "version": 3
   },
   "file_extension": ".py",
   "mimetype": "text/x-python",
   "name": "python",
   "nbconvert_exporter": "python",
   "pygments_lexer": "ipython3",
   "version": "3.8.5"
  }
 },
 "nbformat": 4,
 "nbformat_minor": 4
}
