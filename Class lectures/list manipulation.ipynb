{
 "cells": [
  {
   "cell_type": "code",
   "execution_count": 3,
   "metadata": {},
   "outputs": [
    {
     "name": "stdout",
     "output_type": "stream",
     "text": [
      "sanjeev\n",
      "23\n",
      "ram\n",
      "sonal\n",
      "[1, 2, 3, 4, 5]\n",
      "True\n"
     ]
    }
   ],
   "source": [
    "li = [\"sanjeev\", 23,'ram', 'sonal', [1,2,3,4,5], True]\n",
    "for i in li:\n",
    "    print(i)"
   ]
  },
  {
   "cell_type": "code",
   "execution_count": 4,
   "metadata": {},
   "outputs": [
    {
     "name": "stdout",
     "output_type": "stream",
     "text": [
      "[True, [1, 2, 3, 4, 5], 'sonal', 'ram', 23, 'sanjeev']\n"
     ]
    }
   ],
   "source": [
    "print(li[::-1])"
   ]
  },
  {
   "cell_type": "code",
   "execution_count": 6,
   "metadata": {},
   "outputs": [
    {
     "name": "stdout",
     "output_type": "stream",
     "text": [
      "this element is not a number sanjeev\n",
      "this is a number 23\n",
      "this element is not a number ram\n",
      "this element is not a number sonal\n",
      "this element is not a number [1, 2, 3, 4, 5]\n",
      "this element is not a number True\n"
     ]
    }
   ],
   "source": [
    "for i in li:\n",
    "    if type(i) == int:\n",
    "        print(\"this is a number\", i)\n",
    "    else:\n",
    "        print(\"this element is not a number\", i)"
   ]
  },
  {
   "cell_type": "code",
   "execution_count": 8,
   "metadata": {},
   "outputs": [
    {
     "data": {
      "text/plain": [
       "[1234, 98343, 'sanjeev', 'sanjeev', 23, 'ram', 'sonal', [1, 2, 3, 4, 5], True]"
      ]
     },
     "execution_count": 8,
     "metadata": {},
     "output_type": "execute_result"
    }
   ],
   "source": [
    "l = [1234, 98343, 'sanjeev']\n",
    "k = l + li\n",
    "k"
   ]
  },
  {
   "cell_type": "code",
   "execution_count": 10,
   "metadata": {},
   "outputs": [
    {
     "data": {
      "text/plain": [
       "[1234, 98343, 'sanjeev', 'sanjeev', 23, 'ram', 'sonal', [1, 2, 3, 4, 5], True]"
      ]
     },
     "execution_count": 10,
     "metadata": {},
     "output_type": "execute_result"
    }
   ],
   "source": [
    "k *1"
   ]
  },
  {
   "cell_type": "code",
   "execution_count": 11,
   "metadata": {},
   "outputs": [
    {
     "data": {
      "text/plain": [
       "9"
      ]
     },
     "execution_count": 11,
     "metadata": {},
     "output_type": "execute_result"
    }
   ],
   "source": [
    "len(k)"
   ]
  },
  {
   "cell_type": "code",
   "execution_count": 12,
   "metadata": {},
   "outputs": [
    {
     "data": {
      "text/plain": [
       "True"
      ]
     },
     "execution_count": 12,
     "metadata": {},
     "output_type": "execute_result"
    }
   ],
   "source": [
    "1234 in k"
   ]
  },
  {
   "cell_type": "code",
   "execution_count": 13,
   "metadata": {},
   "outputs": [
    {
     "data": {
      "text/plain": [
       "False"
      ]
     },
     "execution_count": 13,
     "metadata": {},
     "output_type": "execute_result"
    }
   ],
   "source": [
    "5 in k"
   ]
  },
  {
   "cell_type": "code",
   "execution_count": 15,
   "metadata": {},
   "outputs": [
    {
     "ename": "TypeError",
     "evalue": "'>' not supported between instances of 'str' and 'int'",
     "output_type": "error",
     "traceback": [
      "\u001b[1;31m---------------------------------------------------------------------------\u001b[0m",
      "\u001b[1;31mTypeError\u001b[0m                                 Traceback (most recent call last)",
      "\u001b[1;32m<ipython-input-15-2358f4c922f4>\u001b[0m in \u001b[0;36m<module>\u001b[1;34m\u001b[0m\n\u001b[1;32m----> 1\u001b[1;33m \u001b[0mmax\u001b[0m\u001b[1;33m(\u001b[0m\u001b[0mk\u001b[0m\u001b[1;33m)\u001b[0m\u001b[1;33m\u001b[0m\u001b[1;33m\u001b[0m\u001b[0m\n\u001b[0m",
      "\u001b[1;31mTypeError\u001b[0m: '>' not supported between instances of 'str' and 'int'"
     ]
    }
   ],
   "source": [
    "max(k)"
   ]
  },
  {
   "cell_type": "code",
   "execution_count": 16,
   "metadata": {},
   "outputs": [
    {
     "ename": "NameError",
     "evalue": "name 'docs' is not defined",
     "output_type": "error",
     "traceback": [
      "\u001b[1;31m---------------------------------------------------------------------------\u001b[0m",
      "\u001b[1;31mNameError\u001b[0m                                 Traceback (most recent call last)",
      "\u001b[1;32m<ipython-input-16-d41f13cb18b3>\u001b[0m in \u001b[0;36m<module>\u001b[1;34m\u001b[0m\n\u001b[1;32m----> 1\u001b[1;33m \u001b[0mdocs\u001b[0m\u001b[1;33m(\u001b[0m\u001b[0mlist\u001b[0m\u001b[1;33m)\u001b[0m\u001b[1;33m\u001b[0m\u001b[1;33m\u001b[0m\u001b[0m\n\u001b[0m",
      "\u001b[1;31mNameError\u001b[0m: name 'docs' is not defined"
     ]
    }
   ],
   "source": [
    "docs(list)"
   ]
  },
  {
   "cell_type": "code",
   "execution_count": 19,
   "metadata": {},
   "outputs": [
    {
     "data": {
      "text/plain": [
       "'science'"
      ]
     },
     "execution_count": 19,
     "metadata": {},
     "output_type": "execute_result"
    }
   ],
   "source": [
    "max(\"sanjeev', 'ineuron\", \"data \", \"science\")"
   ]
  },
  {
   "cell_type": "code",
   "execution_count": 20,
   "metadata": {},
   "outputs": [],
   "source": [
    "# if we try to take the combination of integer and strings the max fucntion will never gonna work."
   ]
  },
  {
   "cell_type": "code",
   "execution_count": 21,
   "metadata": {},
   "outputs": [
    {
     "data": {
      "text/plain": [
       "1"
      ]
     },
     "execution_count": 21,
     "metadata": {},
     "output_type": "execute_result"
    }
   ],
   "source": [
    "min([1,2,3,4,5])"
   ]
  },
  {
   "cell_type": "code",
   "execution_count": 22,
   "metadata": {},
   "outputs": [
    {
     "data": {
      "text/plain": [
       "-238493984"
      ]
     },
     "execution_count": 22,
     "metadata": {},
     "output_type": "execute_result"
    }
   ],
   "source": [
    "min([0, 343834, 928374, -238493984])"
   ]
  },
  {
   "cell_type": "code",
   "execution_count": 26,
   "metadata": {},
   "outputs": [
    {
     "ename": "TypeError",
     "evalue": "'<' not supported between instances of 'str' and 'int'",
     "output_type": "error",
     "traceback": [
      "\u001b[1;31m---------------------------------------------------------------------------\u001b[0m",
      "\u001b[1;31mTypeError\u001b[0m                                 Traceback (most recent call last)",
      "\u001b[1;32m<ipython-input-26-f373fc992692>\u001b[0m in \u001b[0;36m<module>\u001b[1;34m\u001b[0m\n\u001b[0;32m      1\u001b[0m \u001b[1;31m# same as max function min function will also not working properly in min function\u001b[0m\u001b[1;33m\u001b[0m\u001b[1;33m\u001b[0m\u001b[1;33m\u001b[0m\u001b[0m\n\u001b[1;32m----> 2\u001b[1;33m \u001b[0mmin\u001b[0m\u001b[1;33m(\u001b[0m\u001b[1;33m[\u001b[0m\u001b[1;36m1\u001b[0m\u001b[1;33m,\u001b[0m\u001b[1;36m2\u001b[0m\u001b[1;33m,\u001b[0m\u001b[1;34m'3'\u001b[0m\u001b[1;33m,\u001b[0m \u001b[1;36m4\u001b[0m\u001b[1;33m,\u001b[0m \u001b[1;34m'5'\u001b[0m\u001b[1;33m]\u001b[0m\u001b[1;33m)\u001b[0m\u001b[1;33m\u001b[0m\u001b[1;33m\u001b[0m\u001b[0m\n\u001b[0m",
      "\u001b[1;31mTypeError\u001b[0m: '<' not supported between instances of 'str' and 'int'"
     ]
    }
   ],
   "source": [
    "# same as max function min function will also not working properly in min function\n",
    "min([1,2,'3', 4, '5'])"
   ]
  },
  {
   "cell_type": "code",
   "execution_count": 28,
   "metadata": {},
   "outputs": [
    {
     "data": {
      "text/plain": [
       "[1, 2, 3, 4, 5, 6, 7, 8, 9]"
      ]
     },
     "execution_count": 28,
     "metadata": {},
     "output_type": "execute_result"
    }
   ],
   "source": [
    "# extent always accept iterable object\n",
    "p  = [1,2,3,4,5]\n",
    "p.extend([6,7,8,9])\n",
    "p"
   ]
  },
  {
   "cell_type": "code",
   "execution_count": 29,
   "metadata": {},
   "outputs": [
    {
     "data": {
      "text/plain": [
       "['l', 'i', 's', 't']"
      ]
     },
     "execution_count": 29,
     "metadata": {},
     "output_type": "execute_result"
    }
   ],
   "source": [
    "s = \"list\"\n",
    "list(s)"
   ]
  },
  {
   "cell_type": "code",
   "execution_count": 30,
   "metadata": {},
   "outputs": [
    {
     "data": {
      "text/plain": [
       "1"
      ]
     },
     "execution_count": 30,
     "metadata": {},
     "output_type": "execute_result"
    }
   ],
   "source": [
    "p.index(2)"
   ]
  },
  {
   "cell_type": "code",
   "execution_count": 31,
   "metadata": {},
   "outputs": [
    {
     "data": {
      "text/plain": [
       "9"
      ]
     },
     "execution_count": 31,
     "metadata": {},
     "output_type": "execute_result"
    }
   ],
   "source": [
    "p.pop()"
   ]
  },
  {
   "cell_type": "code",
   "execution_count": 32,
   "metadata": {},
   "outputs": [
    {
     "data": {
      "text/plain": [
       "[1, 2, 3, 4, 5, 6, 7, 8]"
      ]
     },
     "execution_count": 32,
     "metadata": {},
     "output_type": "execute_result"
    }
   ],
   "source": [
    "p"
   ]
  },
  {
   "cell_type": "code",
   "execution_count": 34,
   "metadata": {},
   "outputs": [],
   "source": [
    "k = [23, 343, 332, 3832, 32]\n",
    "k.remove(343)"
   ]
  },
  {
   "cell_type": "code",
   "execution_count": 35,
   "metadata": {},
   "outputs": [
    {
     "data": {
      "text/plain": [
       "[23, 332, 3832, 32]"
      ]
     },
     "execution_count": 35,
     "metadata": {},
     "output_type": "execute_result"
    }
   ],
   "source": [
    "k"
   ]
  },
  {
   "cell_type": "code",
   "execution_count": 36,
   "metadata": {},
   "outputs": [],
   "source": [
    "k.sort()"
   ]
  },
  {
   "cell_type": "code",
   "execution_count": 37,
   "metadata": {},
   "outputs": [
    {
     "data": {
      "text/plain": [
       "[23, 32, 332, 3832]"
      ]
     },
     "execution_count": 37,
     "metadata": {},
     "output_type": "execute_result"
    }
   ],
   "source": [
    "k"
   ]
  },
  {
   "cell_type": "code",
   "execution_count": 39,
   "metadata": {},
   "outputs": [
    {
     "ename": "TypeError",
     "evalue": "'<' not supported between instances of 'str' and 'int'",
     "output_type": "error",
     "traceback": [
      "\u001b[1;31m---------------------------------------------------------------------------\u001b[0m",
      "\u001b[1;31mTypeError\u001b[0m                                 Traceback (most recent call last)",
      "\u001b[1;32m<ipython-input-39-b5bf6d1f5b7e>\u001b[0m in \u001b[0;36m<module>\u001b[1;34m\u001b[0m\n\u001b[0;32m      1\u001b[0m \u001b[0mk\u001b[0m\u001b[1;33m.\u001b[0m\u001b[0mextend\u001b[0m\u001b[1;33m(\u001b[0m\u001b[1;33m[\u001b[0m\u001b[1;34m'sanjeev'\u001b[0m \u001b[1;33m,\u001b[0m\u001b[1;36m23\u001b[0m\u001b[1;33m,\u001b[0m \u001b[1;34m'kumar'\u001b[0m\u001b[1;33m]\u001b[0m\u001b[1;33m)\u001b[0m\u001b[1;33m\u001b[0m\u001b[1;33m\u001b[0m\u001b[0m\n\u001b[1;32m----> 2\u001b[1;33m \u001b[0mk\u001b[0m\u001b[1;33m.\u001b[0m\u001b[0msort\u001b[0m\u001b[1;33m(\u001b[0m\u001b[1;33m)\u001b[0m\u001b[1;33m\u001b[0m\u001b[1;33m\u001b[0m\u001b[0m\n\u001b[0m\u001b[0;32m      3\u001b[0m \u001b[1;31m# sort will also not work between str and integer sets.\u001b[0m\u001b[1;33m\u001b[0m\u001b[1;33m\u001b[0m\u001b[1;33m\u001b[0m\u001b[0m\n",
      "\u001b[1;31mTypeError\u001b[0m: '<' not supported between instances of 'str' and 'int'"
     ]
    }
   ],
   "source": [
    "k.extend(['sanjeev' ,23, 'kumar'])\n",
    "k.sort()\n",
    "# sort will also not work between str and integer sets. "
   ]
  },
  {
   "cell_type": "markdown",
   "metadata": {},
   "source": [
    "### append two more lists and one complex number in the list in between  a existing list\n"
   ]
  },
  {
   "cell_type": "code",
   "execution_count": 2,
   "metadata": {},
   "outputs": [
    {
     "name": "stdout",
     "output_type": "stream",
     "text": [
      "[[43, 23, 43, 'russia'], ['ram', 'shyam', 34, 23, 'sita'], ['hi', 'how', 'are', 232, 'you'], ['i', 'am', 'fine', 'how ', 32, 'rashmi'], ['spain', 'bala', 1.2, 83.4, -32], ['hi', 'bye', 'ciao'], (8+6j)]\n"
     ]
    }
   ],
   "source": [
    "j = [[43, 23 ,43, 'russia'], ['ram', 'shyam', 34, 23,'sita'], ['spain', 'bala', 1.2, 83.4, -32], ['hi', 'bye', 'ciao']]\n",
    "j.insert(2, ['hi', 'how', 'are', 232, 'you'])\n",
    "j.insert(3, ['i', 'am', 'fine', 'how ',  32 ,'rashmi'])\n",
    "j.append(8+6j)\n",
    "print(j)"
   ]
  },
  {
   "cell_type": "code",
   "execution_count": 5,
   "metadata": {},
   "outputs": [],
   "source": [
    "for i in j:\n",
    "    if type(i) == list:\n",
    "        for k in i:\n",
    "            if type(j) == str:\n",
    "                print(j)\n",
    "                \n",
    "                "
   ]
  },
  {
   "cell_type": "code",
   "execution_count": 6,
   "metadata": {},
   "outputs": [
    {
     "name": "stdout",
     "output_type": "stream",
     "text": [
      "[[43, 23, 43, 'russia'], ['ram', 'shyam', 34, 23, 'sita'], ['hi', 'how', 'are', 232, 'you'], ['i', 'am', 'fine', 'how ', 32, 'rashmi'], ['spain', 'bala', 1.2, 83.4, -32], ['hi', 'bye', 'ciao'], (8+6j)]\n"
     ]
    }
   ],
   "source": [
    "## Extracting second element of each nested list\n",
    "print(j)"
   ]
  },
  {
   "cell_type": "code",
   "execution_count": 16,
   "metadata": {},
   "outputs": [
    {
     "name": "stdout",
     "output_type": "stream",
     "text": [
      "[43, 23, 43, 'russia']\n",
      "[43, 23, 43, 'russia']\n",
      "[43, 23, 43, 'russia']\n",
      "[43, 23, 43, 'russia']\n",
      "['ram', 'shyam', 34, 23, 'sita']\n",
      "['ram', 'shyam', 34, 23, 'sita']\n",
      "['ram', 'shyam', 34, 23, 'sita']\n",
      "['ram', 'shyam', 34, 23, 'sita']\n",
      "['ram', 'shyam', 34, 23, 'sita']\n",
      "['hi', 'how', 'are', 232, 'you']\n",
      "['hi', 'how', 'are', 232, 'you']\n",
      "['hi', 'how', 'are', 232, 'you']\n",
      "['hi', 'how', 'are', 232, 'you']\n",
      "['hi', 'how', 'are', 232, 'you']\n",
      "['i', 'am', 'fine', 'how ', 32, 'rashmi']\n",
      "['i', 'am', 'fine', 'how ', 32, 'rashmi']\n",
      "['i', 'am', 'fine', 'how ', 32, 'rashmi']\n",
      "['i', 'am', 'fine', 'how ', 32, 'rashmi']\n",
      "['i', 'am', 'fine', 'how ', 32, 'rashmi']\n",
      "['i', 'am', 'fine', 'how ', 32, 'rashmi']\n",
      "['spain', 'bala', 1.2, 83.4, -32]\n",
      "['spain', 'bala', 1.2, 83.4, -32]\n",
      "['spain', 'bala', 1.2, 83.4, -32]\n",
      "['spain', 'bala', 1.2, 83.4, -32]\n",
      "['spain', 'bala', 1.2, 83.4, -32]\n",
      "['hi', 'bye', 'ciao']\n",
      "['hi', 'bye', 'ciao']\n",
      "['hi', 'bye', 'ciao']\n"
     ]
    }
   ],
   "source": [
    "for i in j:\n",
    "    if type(i) == list:\n",
    "        for l in i:\n",
    "            print(i)"
   ]
  },
  {
   "cell_type": "code",
   "execution_count": 1,
   "metadata": {},
   "outputs": [],
   "source": [
    "lr = [[1,2,3],\n",
    "    [11, 12, 'b', 'b', 'b'],\n",
    "    [21, 't', 223], \n",
    "    [4,5,6], \n",
    "    'demo',\n",
    "    12.5]"
   ]
  },
  {
   "cell_type": "code",
   "execution_count": 2,
   "metadata": {},
   "outputs": [
    {
     "name": "stdout",
     "output_type": "stream",
     "text": [
      "[[1, 2, 3], [11, 12, 'b', 'b', 'b'], ['ramu', 'sad', 343], [21, 't', 223], [234, 234, 'fa'], [4, 5, 6], 'demo', 12.5]\n"
     ]
    }
   ],
   "source": [
    "lr.insert(2, ['ramu', 'sad', 343])\n",
    "lr.insert(4, [234, 234, 'fa'])\n",
    "print(lr)"
   ]
  },
  {
   "cell_type": "code",
   "execution_count": 4,
   "metadata": {},
   "outputs": [
    {
     "name": "stdout",
     "output_type": "stream",
     "text": [
      "the index of string b is 2\n",
      "the index of string b is 3\n",
      "the index of string b is 4\n",
      "the string in the nested list is b \n",
      "the string in the nested list is b \n",
      "the string in the nested list is b \n",
      "the index of string ramu is 0\n",
      "the index of string sad is 1\n",
      "the string in the nested list is ramu \n",
      "the string in the nested list is sad \n",
      "the index of string t is 1\n",
      "the string in the nested list is t \n",
      "the index of string fa is 2\n",
      "the string in the nested list is fa \n",
      "list after removal of string from the nested list is\r",
      "  [[1, 2, 3], [11, 12], [343], [21, 223], [234, 234], [4, 5, 6], 'demo', 12.5] \t\n"
     ]
    }
   ],
   "source": [
    "for i in lr:\n",
    "    if type(i) == list:\n",
    "        count = 0\n",
    "        while count <len(i):\n",
    "            if type(i[count]) is str:\n",
    "                print(\"the index of string {} is\" .format(i[count]), count)\n",
    "            count += 1\n",
    "        count = 0\n",
    "        while count <len(i):\n",
    "            if type(i[count]) is str:\n",
    "                print(\"the string in the nested list is {} \" .format(i[count]))\n",
    "                i.remove(i[count])\n",
    "                continue\n",
    "            count += 1\n",
    "            \n",
    "print(\"list after removal of string from the nested list is\\r \", lr, '\\t')"
   ]
  },
  {
   "cell_type": "code",
   "execution_count": 3,
   "metadata": {},
   "outputs": [
    {
     "name": "stdout",
     "output_type": "stream",
     "text": [
      "the string b is at index 2\n",
      "the string b is going to be deleted\n",
      "the string b is at index 2\n",
      "the string b is going to be deleted\n",
      "the string b is at index 2\n",
      "the string b is going to be deleted\n",
      "the string ramu is at index 0\n",
      "the string ramu is going to be deleted\n",
      "the string sad is at index 0\n",
      "the string sad is going to be deleted\n",
      "the string t is at index 1\n",
      "the string t is going to be deleted\n",
      "the string fa is at index 2\n",
      "the string fa is going to be deleted\n",
      "after removing all strings from a nested list the finally list is [[1, 2, 3], [11, 12], [343], [21, 223], [234, 234], [4, 5, 6], 'demo', 12.5]\n"
     ]
    }
   ],
   "source": [
    "# same code by myself\n",
    "for i in lr:\n",
    "    if type(i) == list:\n",
    "        c = 0\n",
    "        while c < len(i):\n",
    "            if type(i[c]) is str:\n",
    "                print(\"the string {} is at index\".format(i[c]), c)\n",
    "                \n",
    "                print(\"the string {} is going to be deleted\".format(i[c]))\n",
    "                i.remove(i[c])\n",
    "                continue\n",
    "                \n",
    "            c += 1\n",
    "print(\"after removing all strings from a nested list the finally list is {}\".format(lr))"
   ]
  },
  {
   "cell_type": "markdown",
   "metadata": {},
   "source": [
    "## list comprehension\n"
   ]
  },
  {
   "cell_type": "code",
   "execution_count": 7,
   "metadata": {},
   "outputs": [
    {
     "data": {
      "text/plain": [
       "[['s', 's'],\n",
       " ['a', 'a'],\n",
       " ['n', 'n'],\n",
       " ['j', 'j'],\n",
       " ['e', 'e'],\n",
       " ['e', 'e'],\n",
       " ['v', 'v']]"
      ]
     },
     "execution_count": 7,
     "metadata": {},
     "output_type": "execute_result"
    }
   ],
   "source": [
    "[[i]*2 for i in 'sanjeev']"
   ]
  },
  {
   "cell_type": "code",
   "execution_count": 8,
   "metadata": {},
   "outputs": [
    {
     "data": {
      "text/plain": [
       "[0, 2, 4, 6, 8]"
      ]
     },
     "execution_count": 8,
     "metadata": {},
     "output_type": "execute_result"
    }
   ],
   "source": [
    "[i for i in range(10) if i%2 == 0]"
   ]
  },
  {
   "cell_type": "code",
   "execution_count": 10,
   "metadata": {},
   "outputs": [
    {
     "data": {
      "text/plain": [
       "[1, 3, 5, 7, 9, 11]"
      ]
     },
     "execution_count": 10,
     "metadata": {},
     "output_type": "execute_result"
    }
   ],
   "source": [
    "[i for i in range(12) if i%2 != 0]"
   ]
  },
  {
   "cell_type": "code",
   "execution_count": 12,
   "metadata": {},
   "outputs": [
    {
     "data": {
      "text/plain": [
       "['even', 'odd', 'even', 'odd', 'even', 'odd', 'even', 'odd', 'even', 'odd']"
      ]
     },
     "execution_count": 12,
     "metadata": {},
     "output_type": "execute_result"
    }
   ],
   "source": [
    "['odd' if i%2 != 0 else 'even' for i in range(10)]"
   ]
  },
  {
   "cell_type": "code",
   "execution_count": 15,
   "metadata": {},
   "outputs": [
    {
     "data": {
      "text/plain": [
       "[[0, 1, 2], [0, 1, 2], [0, 1, 2]]"
      ]
     },
     "execution_count": 15,
     "metadata": {},
     "output_type": "execute_result"
    }
   ],
   "source": [
    "mat = []\n",
    "for i in range(3):\n",
    "    mat.append([])\n",
    "    for j in range(3):\n",
    "        mat[i].append(j)\n",
    "mat"
   ]
  },
  {
   "cell_type": "code",
   "execution_count": 16,
   "metadata": {},
   "outputs": [
    {
     "data": {
      "text/plain": [
       "[[0, 1, 2], [0, 1, 2], [0, 1, 2]]"
      ]
     },
     "execution_count": 16,
     "metadata": {},
     "output_type": "execute_result"
    }
   ],
   "source": [
    "[[j for j in range(3)]for i in range(3)]"
   ]
  },
  {
   "cell_type": "code",
   "execution_count": 18,
   "metadata": {},
   "outputs": [
    {
     "data": {
      "text/plain": [
       "[0, 6]"
      ]
     },
     "execution_count": 18,
     "metadata": {},
     "output_type": "execute_result"
    }
   ],
   "source": [
    "[i for i in range(8) if i %2 == 0 if i%3 == 0]"
   ]
  },
  {
   "cell_type": "code",
   "execution_count": 19,
   "metadata": {},
   "outputs": [
    {
     "name": "stdout",
     "output_type": "stream",
     "text": [
      "0\n",
      "6\n"
     ]
    }
   ],
   "source": [
    "for i in range(8):\n",
    "    if i%2 == 0:\n",
    "        if i%3 == 0:\n",
    "            print(i)"
   ]
  },
  {
   "cell_type": "code",
   "execution_count": 20,
   "metadata": {},
   "outputs": [
    {
     "data": {
      "text/plain": [
       "['yes', 'no', 'test', 'test', 'test', 'test', 'test', 'test', 'test']"
      ]
     },
     "execution_count": 20,
     "metadata": {},
     "output_type": "execute_result"
    }
   ],
   "source": [
    "l = [1,2,3,4,5,6,7,8,9]\n",
    "\n",
    "['yes' if i == 1 else 'no' if i == 2 else 'test' for i in l]"
   ]
  },
  {
   "cell_type": "code",
   "execution_count": null,
   "metadata": {},
   "outputs": [],
   "source": []
  }
 ],
 "metadata": {
  "kernelspec": {
   "display_name": "Python 3",
   "language": "python",
   "name": "python3"
  },
  "language_info": {
   "codemirror_mode": {
    "name": "ipython",
    "version": 3
   },
   "file_extension": ".py",
   "mimetype": "text/x-python",
   "name": "python",
   "nbconvert_exporter": "python",
   "pygments_lexer": "ipython3",
   "version": "3.7.3"
  }
 },
 "nbformat": 4,
 "nbformat_minor": 2
}
