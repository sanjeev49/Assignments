{
 "cells": [
  {
   "cell_type": "code",
   "execution_count": 14,
   "id": "a18ed25a",
   "metadata": {},
   "outputs": [],
   "source": [
    "class dataCleaner:\n",
    "    import pandas as pd\n",
    "    def __init__(self, data_path):\n",
    "        self.data_path = data_path\n",
    "    def printhead(self):\n",
    "        df = self.pd.read_csv(self.data_path)\n",
    "        return df.head()\n",
    "        \n",
    "        \n",
    "        "
   ]
  },
  {
   "cell_type": "code",
   "execution_count": 15,
   "id": "94af22c7",
   "metadata": {},
   "outputs": [],
   "source": [
    "da = dataCleaner('carbon_nanotubes.csv')"
   ]
  },
  {
   "cell_type": "code",
   "execution_count": 16,
   "id": "3d9a35a0",
   "metadata": {},
   "outputs": [
    {
     "data": {
      "text/html": [
       "<div>\n",
       "<style scoped>\n",
       "    .dataframe tbody tr th:only-of-type {\n",
       "        vertical-align: middle;\n",
       "    }\n",
       "\n",
       "    .dataframe tbody tr th {\n",
       "        vertical-align: top;\n",
       "    }\n",
       "\n",
       "    .dataframe thead th {\n",
       "        text-align: right;\n",
       "    }\n",
       "</style>\n",
       "<table border=\"1\" class=\"dataframe\">\n",
       "  <thead>\n",
       "    <tr style=\"text-align: right;\">\n",
       "      <th></th>\n",
       "      <th></th>\n",
       "      <th></th>\n",
       "      <th></th>\n",
       "      <th></th>\n",
       "      <th></th>\n",
       "      <th>Chiral indice n;Chiral indice m;Initial atomic coordinate u;Initial atomic coordinate v;Initial atomic coordinate w;Calculated atomic coordinates u';Calculated atomic coordinates v';Calculated atomic coordinates w'</th>\n",
       "    </tr>\n",
       "  </thead>\n",
       "  <tbody>\n",
       "    <tr>\n",
       "      <th rowspan=\"5\" valign=\"top\">2;1;0</th>\n",
       "      <th>679005;0</th>\n",
       "      <th>701318;0</th>\n",
       "      <th>017033;0</th>\n",
       "      <th>721039;0</th>\n",
       "      <th>730232;0</th>\n",
       "      <td>17014.0</td>\n",
       "    </tr>\n",
       "    <tr>\n",
       "      <th>717298;0</th>\n",
       "      <th>642129;0</th>\n",
       "      <th>231319;0</th>\n",
       "      <th>738414;0</th>\n",
       "      <th>65675;0</th>\n",
       "      <td>232369.0</td>\n",
       "    </tr>\n",
       "    <tr>\n",
       "      <th>489336;0</th>\n",
       "      <th>303751;0</th>\n",
       "      <th>088462;0</th>\n",
       "      <th>477676;0</th>\n",
       "      <th>263221;0</th>\n",
       "      <td>88712.0</td>\n",
       "    </tr>\n",
       "    <tr>\n",
       "      <th>413957;0</th>\n",
       "      <th>632996;0</th>\n",
       "      <th>040843;0</th>\n",
       "      <th>408823;0</th>\n",
       "      <th>657897;0</th>\n",
       "      <td>39796.0</td>\n",
       "    </tr>\n",
       "    <tr>\n",
       "      <th>334292;0</th>\n",
       "      <th>543401;0</th>\n",
       "      <th>15989;0</th>\n",
       "      <th>303349;0</th>\n",
       "      <th>558807;0</th>\n",
       "      <td>157373.0</td>\n",
       "    </tr>\n",
       "  </tbody>\n",
       "</table>\n",
       "</div>"
      ],
      "text/plain": [
       "                                                    Chiral indice n;Chiral indice m;Initial atomic coordinate u;Initial atomic coordinate v;Initial atomic coordinate w;Calculated atomic coordinates u';Calculated atomic coordinates v';Calculated atomic coordinates w'\n",
       "2;1;0 679005;0 701318;0 017033;0 721039;0 730232;0                                            17014.0                                                                                                                                                                     \n",
       "      717298;0 642129;0 231319;0 738414;0 65675;0                                            232369.0                                                                                                                                                                     \n",
       "      489336;0 303751;0 088462;0 477676;0 263221;0                                            88712.0                                                                                                                                                                     \n",
       "      413957;0 632996;0 040843;0 408823;0 657897;0                                            39796.0                                                                                                                                                                     \n",
       "      334292;0 543401;0 15989;0  303349;0 558807;0                                           157373.0                                                                                                                                                                     "
      ]
     },
     "execution_count": 16,
     "metadata": {},
     "output_type": "execute_result"
    }
   ],
   "source": [
    "da.printhead()"
   ]
  },
  {
   "cell_type": "code",
   "execution_count": 18,
   "id": "8371fcbe",
   "metadata": {},
   "outputs": [
    {
     "data": {
      "text/html": [
       "<div>\n",
       "<style scoped>\n",
       "    .dataframe tbody tr th:only-of-type {\n",
       "        vertical-align: middle;\n",
       "    }\n",
       "\n",
       "    .dataframe tbody tr th {\n",
       "        vertical-align: top;\n",
       "    }\n",
       "\n",
       "    .dataframe thead th {\n",
       "        text-align: right;\n",
       "    }\n",
       "</style>\n",
       "<table border=\"1\" class=\"dataframe\">\n",
       "  <thead>\n",
       "    <tr style=\"text-align: right;\">\n",
       "      <th></th>\n",
       "      <th></th>\n",
       "      <th></th>\n",
       "      <th></th>\n",
       "      <th></th>\n",
       "      <th></th>\n",
       "      <th>Chiral indice n;Chiral indice m;Initial atomic coordinate u;Initial atomic coordinate v;Initial atomic coordinate w;Calculated atomic coordinates u';Calculated atomic coordinates v';Calculated atomic coordinates w'</th>\n",
       "    </tr>\n",
       "  </thead>\n",
       "  <tbody>\n",
       "    <tr>\n",
       "      <th rowspan=\"5\" valign=\"top\">2;1;0</th>\n",
       "      <th>679005;0</th>\n",
       "      <th>701318;0</th>\n",
       "      <th>017033;0</th>\n",
       "      <th>721039;0</th>\n",
       "      <th>730232;0</th>\n",
       "      <td>17014.0</td>\n",
       "    </tr>\n",
       "    <tr>\n",
       "      <th>717298;0</th>\n",
       "      <th>642129;0</th>\n",
       "      <th>231319;0</th>\n",
       "      <th>738414;0</th>\n",
       "      <th>65675;0</th>\n",
       "      <td>232369.0</td>\n",
       "    </tr>\n",
       "    <tr>\n",
       "      <th>489336;0</th>\n",
       "      <th>303751;0</th>\n",
       "      <th>088462;0</th>\n",
       "      <th>477676;0</th>\n",
       "      <th>263221;0</th>\n",
       "      <td>88712.0</td>\n",
       "    </tr>\n",
       "    <tr>\n",
       "      <th>413957;0</th>\n",
       "      <th>632996;0</th>\n",
       "      <th>040843;0</th>\n",
       "      <th>408823;0</th>\n",
       "      <th>657897;0</th>\n",
       "      <td>39796.0</td>\n",
       "    </tr>\n",
       "    <tr>\n",
       "      <th>334292;0</th>\n",
       "      <th>543401;0</th>\n",
       "      <th>15989;0</th>\n",
       "      <th>303349;0</th>\n",
       "      <th>558807;0</th>\n",
       "      <td>157373.0</td>\n",
       "    </tr>\n",
       "  </tbody>\n",
       "</table>\n",
       "</div>"
      ],
      "text/plain": [
       "                                                    Chiral indice n;Chiral indice m;Initial atomic coordinate u;Initial atomic coordinate v;Initial atomic coordinate w;Calculated atomic coordinates u';Calculated atomic coordinates v';Calculated atomic coordinates w'\n",
       "2;1;0 679005;0 701318;0 017033;0 721039;0 730232;0                                            17014.0                                                                                                                                                                     \n",
       "      717298;0 642129;0 231319;0 738414;0 65675;0                                            232369.0                                                                                                                                                                     \n",
       "      489336;0 303751;0 088462;0 477676;0 263221;0                                            88712.0                                                                                                                                                                     \n",
       "      413957;0 632996;0 040843;0 408823;0 657897;0                                            39796.0                                                                                                                                                                     \n",
       "      334292;0 543401;0 15989;0  303349;0 558807;0                                           157373.0                                                                                                                                                                     "
      ]
     },
     "execution_count": 18,
     "metadata": {},
     "output_type": "execute_result"
    }
   ],
   "source": [
    "import pandas as pd\n",
    "df1 = pd.read_csv('carbon_nanotubes.csv')\n",
    "df1.head()"
   ]
  },
  {
   "cell_type": "code",
   "execution_count": 19,
   "id": "c68c82b0",
   "metadata": {},
   "outputs": [
    {
     "data": {
      "text/plain": [
       "(10721, 1)"
      ]
     },
     "execution_count": 19,
     "metadata": {},
     "output_type": "execute_result"
    }
   ],
   "source": [
    "df1.shape"
   ]
  },
  {
   "cell_type": "code",
   "execution_count": null,
   "id": "abdf5ebd",
   "metadata": {},
   "outputs": [],
   "source": []
  }
 ],
 "metadata": {
  "kernelspec": {
   "display_name": "Python 3 (ipykernel)",
   "language": "python",
   "name": "python3"
  },
  "language_info": {
   "codemirror_mode": {
    "name": "ipython",
    "version": 3
   },
   "file_extension": ".py",
   "mimetype": "text/x-python",
   "name": "python",
   "nbconvert_exporter": "python",
   "pygments_lexer": "ipython3",
   "version": "3.8.10"
  }
 },
 "nbformat": 4,
 "nbformat_minor": 5
}
