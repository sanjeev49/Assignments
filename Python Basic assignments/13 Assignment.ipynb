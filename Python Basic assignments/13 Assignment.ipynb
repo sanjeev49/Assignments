{
 "cells": [
  {
   "cell_type": "markdown",
   "metadata": {},
   "source": [
    "## Answer 1"
   ]
  },
  {
   "cell_type": "markdown",
   "metadata": {},
   "source": [
    "- CSV file can’t perform operations on data while Excel can perform operations on the data.\n",
    "- CSV is a plain text format with a series of values separated by commas whereas Excel is a binary file that holds information about all the worksheets in a workbook.\n"
   ]
  },
  {
   "cell_type": "code",
   "execution_count": null,
   "metadata": {},
   "outputs": [],
   "source": []
  },
  {
   "cell_type": "markdown",
   "metadata": {},
   "source": [
    "## Answer 2"
   ]
  },
  {
   "cell_type": "code",
   "execution_count": 1,
   "metadata": {},
   "outputs": [],
   "source": [
    "import csv"
   ]
  },
  {
   "cell_type": "code",
   "execution_count": 7,
   "metadata": {},
   "outputs": [
    {
     "name": "stdout",
     "output_type": "stream",
     "text": [
      "[\"'Name'\", \" 'Age'\", \" 'Profession'\"]\n",
      "[\"'Jack'\", \" '23'\", \" 'Doctor']\"]\n",
      "[\"'Miller'\", \" '22'\", \" 'Engineer'\"]\n"
     ]
    }
   ],
   "source": [
    "with open(r'C:\\Users\\Sanjeev\\Desktop\\san.csv', 'r') as file:\n",
    "    \n",
    "    reader = csv.reader(file)\n",
    "    for row in reader:\n",
    "        print(row)"
   ]
  },
  {
   "cell_type": "code",
   "execution_count": 8,
   "metadata": {},
   "outputs": [],
   "source": [
    "import csv\n",
    "with open('protagonist.csv', 'w', newline='') as file:\n",
    "    writer = csv.writer(file)\n",
    "    writer.writerow([\"SN\", \"Movie\", \"Protagonist\"])\n",
    "    writer.writerow([1, \"Lord of the Rings\", \"Frodo Baggins\"])\n",
    "    writer.writerow([2, \"Harry Potter\", \"Harry Potter\"])"
   ]
  },
  {
   "cell_type": "code",
   "execution_count": null,
   "metadata": {},
   "outputs": [],
   "source": []
  },
  {
   "cell_type": "markdown",
   "metadata": {},
   "source": [
    "## Answer 3"
   ]
  },
  {
   "cell_type": "code",
   "execution_count": 9,
   "metadata": {},
   "outputs": [],
   "source": [
    "# To read a file the file object should be opened in 'r' model\n",
    "# to write something into a file the file object should be opened in 'w' mode."
   ]
  },
  {
   "cell_type": "code",
   "execution_count": null,
   "metadata": {},
   "outputs": [],
   "source": []
  },
  {
   "cell_type": "markdown",
   "metadata": {},
   "source": [
    "## Answer 4"
   ]
  },
  {
   "cell_type": "code",
   "execution_count": 10,
   "metadata": {},
   "outputs": [],
   "source": [
    "import csv\n",
    "csv_rowlist = [[\"SN\", \"Movie\", \"Protagonist\"], [1, \"Lord of the Rings\", \"Frodo Baggins\"],\n",
    "               [2, \"Harry Potter\", \"Harry Potter\"]]\n",
    "with open('protagonist.csv', 'w') as file:\n",
    "    writer = csv.writer(file)\n",
    "    writer.writerows(csv_rowlist)"
   ]
  },
  {
   "cell_type": "code",
   "execution_count": 13,
   "metadata": {},
   "outputs": [
    {
     "name": "stdout",
     "output_type": "stream",
     "text": [
      "['SN', 'Movie', 'Protagonist']\n",
      "[]\n",
      "['1', 'Lord of the Rings', 'Frodo Baggins']\n",
      "[]\n",
      "['2', 'Harry Potter', 'Harry Potter']\n",
      "[]\n"
     ]
    }
   ],
   "source": [
    "# To write lists in to the csv file we need to make a list then put it inot writerows() method\n",
    "# to open the file.\n",
    "with open('protagonist.csv','r') as f:\n",
    "    read = csv.reader(f)\n",
    "    for re in read:\n",
    "        print(re)"
   ]
  },
  {
   "cell_type": "code",
   "execution_count": null,
   "metadata": {},
   "outputs": [],
   "source": []
  },
  {
   "cell_type": "markdown",
   "metadata": {},
   "source": [
    "## Answer 5"
   ]
  },
  {
   "cell_type": "markdown",
   "metadata": {},
   "source": [
    "The delimiter is the character that appears between cells on a row. By default, the delimiter for a CSV file is a comma. The line terminator is the character that comes at the end of a row. By default, the line terminator is a newline."
   ]
  },
  {
   "cell_type": "code",
   "execution_count": null,
   "metadata": {},
   "outputs": [],
   "source": []
  },
  {
   "cell_type": "markdown",
   "metadata": {},
   "source": [
    "## Answer 6"
   ]
  },
  {
   "cell_type": "code",
   "execution_count": 15,
   "metadata": {},
   "outputs": [
    {
     "name": "stdout",
     "output_type": "stream",
     "text": [
      "{'person': {'name': 'Kenn', 'sex': 'male', 'age': 28}}\n",
      "Type of dict_obj <class 'dict'>\n",
      "Person...... {'name': 'Kenn', 'sex': 'male', 'age': 28}\n"
     ]
    }
   ],
   "source": [
    "import json  # json library imported\n",
    "# json data string\n",
    "person_data = '{  \"person\":  { \"name\":  \"Kenn\",  \"sex\":  \"male\",  \"age\":  28}}'\n",
    "# Decoding or converting JSON format in dictionary using loads()\n",
    "dict_obj = json.loads(person_data)\n",
    "print(dict_obj)\n",
    "# check type of dict_obj\n",
    "print(\"Type of dict_obj\", type(dict_obj))\n",
    "# get human object details\n",
    "print(\"Person......\",  dict_obj.get('person'))"
   ]
  },
  {
   "cell_type": "markdown",
   "metadata": {},
   "source": [
    "## Answer 7"
   ]
  },
  {
   "cell_type": "markdown",
   "metadata": {},
   "source": [
    "json.dumps() in Python is a method that converts dictionary objects of Python into JSON string data format. It is useful when the objects are required to be in string format for the operations like parsing, printing, etc."
   ]
  },
  {
   "cell_type": "code",
   "execution_count": 16,
   "metadata": {},
   "outputs": [
    {
     "name": "stdout",
     "output_type": "stream",
     "text": [
      "{\n",
      "    \"age\": 45,\n",
      "    \"cars\": [\n",
      "        {\n",
      "            \"model\": \"Audi A1\",\n",
      "            \"mpg\": 15.1\n",
      "        },\n",
      "        {\n",
      "            \"model\": \"Zeep Compass\",\n",
      "            \"mpg\": 18.1\n",
      "        }\n",
      "    ],\n",
      "    \"children\": [\n",
      "        \"Alice\",\n",
      "        \"Bob\"\n",
      "    ],\n",
      "    \"married\": true,\n",
      "    \"name\": \"Ken\",\n",
      "    \"pets\": [\n",
      "        \"Dog\"\n",
      "    ]\n",
      "}\n"
     ]
    }
   ],
   "source": [
    "import json\n",
    "\n",
    "x = {\n",
    "  \"name\": \"Ken\",\n",
    "  \"age\": 45,\n",
    "  \"married\": True,\n",
    "  \"children\": (\"Alice\",\"Bob\"),\n",
    "  \"pets\": ['Dog'],\n",
    "  \"cars\": [\n",
    "    {\"model\": \"Audi A1\", \"mpg\": 15.1},\n",
    "    {\"model\": \"Zeep Compass\", \"mpg\": 18.1}\n",
    "  ]\n",
    "}\n",
    "# sorting result in asscending order by keys:\n",
    "sorted_string = json.dumps(x, indent=4, sort_keys=True)\n",
    "print(sorted_string)"
   ]
  },
  {
   "cell_type": "code",
   "execution_count": null,
   "metadata": {},
   "outputs": [],
   "source": []
  }
 ],
 "metadata": {
  "kernelspec": {
   "display_name": "Python 3",
   "language": "python",
   "name": "python3"
  },
  "language_info": {
   "codemirror_mode": {
    "name": "ipython",
    "version": 3
   },
   "file_extension": ".py",
   "mimetype": "text/x-python",
   "name": "python",
   "nbconvert_exporter": "python",
   "pygments_lexer": "ipython3",
   "version": "3.7.3"
  }
 },
 "nbformat": 4,
 "nbformat_minor": 2
}
