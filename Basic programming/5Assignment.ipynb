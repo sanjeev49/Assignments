{
 "cells": [
  {
   "cell_type": "markdown",
   "metadata": {},
   "source": [
    "## Assignment -1"
   ]
  },
  {
   "cell_type": "code",
   "execution_count": 1,
   "metadata": {},
   "outputs": [],
   "source": [
    "# Program to find Lcm\n",
    "def lcm(num1, num2):\n",
    "    if num1>num2:\n",
    "        greater = num1\n",
    "    else:\n",
    "        greater = num2\n",
    "    while True:\n",
    "        if (greater%num1 == 0) and (greater %num2) == 0:\n",
    "            lcm = greater\n",
    "            break\n",
    "        greater +=1\n",
    "    return greater"
   ]
  },
  {
   "cell_type": "code",
   "execution_count": 2,
   "metadata": {},
   "outputs": [
    {
     "data": {
      "text/plain": [
       "60"
      ]
     },
     "execution_count": 2,
     "metadata": {},
     "output_type": "execute_result"
    }
   ],
   "source": [
    "lcm(12, 5)"
   ]
  },
  {
   "cell_type": "markdown",
   "metadata": {},
   "source": [
    "## Answer -2"
   ]
  },
  {
   "cell_type": "code",
   "execution_count": 4,
   "metadata": {},
   "outputs": [
    {
     "data": {
      "text/plain": [
       "6"
      ]
     },
     "execution_count": 4,
     "metadata": {},
     "output_type": "execute_result"
    }
   ],
   "source": [
    "# Program to find hcf\n",
    "def hcf(x, y):  \n",
    "   if x > y:  \n",
    "       smaller = y  \n",
    "   else:  \n",
    "       smaller = x  \n",
    "   for i in range(1,smaller + 1):  \n",
    "       if((x % i == 0) and (y % i == 0)):  \n",
    "           hcf = i  \n",
    "   return hcf  \n",
    "hcf(12,18)"
   ]
  },
  {
   "cell_type": "markdown",
   "metadata": {},
   "source": [
    "## Answer -3"
   ]
  },
  {
   "cell_type": "code",
   "execution_count": 12,
   "metadata": {},
   "outputs": [
    {
     "name": "stdout",
     "output_type": "stream",
     "text": [
      "43\n",
      "101011\n",
      "0o53\n",
      "0x2b\n"
     ]
    }
   ],
   "source": [
    "# Program to convert\n",
    "def decimalToBinary(n):\n",
    "    return bin(n).replace(\"0b\", \"\")\n",
    "def decimalToOctal(f):\n",
    "    return oct(f)\n",
    "def decimalTohex(x):\n",
    "    return hex(x)\n",
    "intt = int(input())\n",
    "print(decimalToBinary(intt))\n",
    "print(decimalToOctal(intt))\n",
    "print(decimalTohex(intt))"
   ]
  },
  {
   "cell_type": "markdown",
   "metadata": {},
   "source": [
    "## Answer 4"
   ]
  },
  {
   "cell_type": "code",
   "execution_count": 13,
   "metadata": {},
   "outputs": [
    {
     "name": "stdout",
     "output_type": "stream",
     "text": [
      "f\n",
      "The ord of f is:  102\n"
     ]
    }
   ],
   "source": [
    "# Program to print the ord of a character\n",
    "c = input()\n",
    "print(\"The ord of {} is: \".format(c), ord(c))"
   ]
  },
  {
   "cell_type": "markdown",
   "metadata": {},
   "source": [
    "## Answer 5"
   ]
  },
  {
   "cell_type": "code",
   "execution_count": 4,
   "metadata": {},
   "outputs": [
    {
     "name": "stdout",
     "output_type": "stream",
     "text": [
      "First number..43\n",
      "Second number...23\n",
      "Any one of them (+, -, *, /).. *\n"
     ]
    },
    {
     "data": {
      "text/plain": [
       "989"
      ]
     },
     "execution_count": 4,
     "metadata": {},
     "output_type": "execute_result"
    }
   ],
   "source": [
    "def calculator(x, y, n):\n",
    "    if n == '+':\n",
    "        return x+y\n",
    "    elif n == '-':\n",
    "        return x-y\n",
    "    elif n == '*':\n",
    "        return x*y\n",
    "    if n == '/':\n",
    "        return x/y\n",
    "x = int(input(\"First number..\"))\n",
    "y = int(input(\"Second number...\"))\n",
    "n = input(\"Any one of them (+, -, *, /).. \")\n",
    "\n",
    "calculator(x,y,n)\n",
    "    "
   ]
  },
  {
   "cell_type": "code",
   "execution_count": null,
   "metadata": {},
   "outputs": [],
   "source": []
  }
 ],
 "metadata": {
  "kernelspec": {
   "display_name": "Python 3",
   "language": "python",
   "name": "python3"
  },
  "language_info": {
   "codemirror_mode": {
    "name": "ipython",
    "version": 3
   },
   "file_extension": ".py",
   "mimetype": "text/x-python",
   "name": "python",
   "nbconvert_exporter": "python",
   "pygments_lexer": "ipython3",
   "version": "3.7.3"
  }
 },
 "nbformat": 4,
 "nbformat_minor": 2
}
