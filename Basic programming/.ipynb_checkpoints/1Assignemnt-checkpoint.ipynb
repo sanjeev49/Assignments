{
 "cells": [
  {
   "cell_type": "markdown",
   "metadata": {},
   "source": [
    "## Answer 1"
   ]
  },
  {
   "cell_type": "code",
   "execution_count": 2,
   "metadata": {},
   "outputs": [
    {
     "name": "stdout",
     "output_type": "stream",
     "text": [
      "\u001b[31mHello Python\n"
     ]
    }
   ],
   "source": [
    "from colorama import Fore, Style\n",
    "print(Fore.RED + \"Hello Python\")"
   ]
  },
  {
   "cell_type": "markdown",
   "metadata": {},
   "source": [
    "## Answer 2"
   ]
  },
  {
   "cell_type": "code",
   "execution_count": 8,
   "metadata": {},
   "outputs": [
    {
     "name": "stdout",
     "output_type": "stream",
     "text": [
      "the result of addition is 15 and the result of division is 0.5\n"
     ]
    }
   ],
   "source": [
    "# program to addition and division\n",
    "a , b = 5, 10\n",
    "c = a+b\n",
    "d = a/b\n",
    "print(\"the result of addition is {} and the result of division is {}\".format(c,d))"
   ]
  },
  {
   "cell_type": "markdown",
   "metadata": {},
   "source": [
    "## Answer 3"
   ]
  },
  {
   "cell_type": "code",
   "execution_count": 9,
   "metadata": {},
   "outputs": [
    {
     "name": "stdout",
     "output_type": "stream",
     "text": [
      "\u001b[94mThe area of triange is  252.0\n"
     ]
    }
   ],
   "source": [
    "base = 42\n",
    "height = 12\n",
    "area = 1/2*base*height\n",
    "print(Fore.LIGHTBLUE_EX + \"The area of triange is \", area)"
   ]
  },
  {
   "cell_type": "markdown",
   "metadata": {},
   "source": [
    "## Answer 4"
   ]
  },
  {
   "cell_type": "code",
   "execution_count": 4,
   "metadata": {},
   "outputs": [
    {
     "name": "stdout",
     "output_type": "stream",
     "text": [
      "The value of a is ..>>43\n",
      "The value of b is ..>>87\n",
      "\u001b[96mThe value of a is now 87\n",
      "\u001b[97mthe value of b is now43\n"
     ]
    }
   ],
   "source": [
    "# A program to swap two variables\n",
    "a = input(\"The value of a is ..>>\")\n",
    "b = input(Fore.LIGHTMAGENTA_EX+\"The value of b is ..>>\")\n",
    "\n",
    "temp = a\n",
    "a = b\n",
    "b = temp\n",
    "print(Fore.YELLOW+\"Swapping is in the process..........................\")\n",
    "print(Fore.LIGHTCYAN_EX + \"The value of a is now {}\".format(a))\n",
    "print(Fore.LIGHTWHITE_EX +\"the value of b is now{}\".format(b))"
   ]
  },
  {
   "cell_type": "code",
   "execution_count": null,
   "metadata": {},
   "outputs": [],
   "source": []
  }
 ],
 "metadata": {
  "kernelspec": {
   "display_name": "Python 3",
   "language": "python",
   "name": "python3"
  },
  "language_info": {
   "codemirror_mode": {
    "name": "ipython",
    "version": 3
   },
   "file_extension": ".py",
   "mimetype": "text/x-python",
   "name": "python",
   "nbconvert_exporter": "python",
   "pygments_lexer": "ipython3",
   "version": "3.7.3"
  }
 },
 "nbformat": 4,
 "nbformat_minor": 2
}
