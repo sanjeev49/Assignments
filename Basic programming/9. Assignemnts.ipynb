{
 "cells": [
  {
   "cell_type": "markdown",
   "metadata": {},
   "source": [
    "## Answer 1"
   ]
  },
  {
   "cell_type": "code",
   "execution_count": 12,
   "metadata": {},
   "outputs": [
    {
     "name": "stdin",
     "output_type": "stream",
     "text": [
      " 123\n"
     ]
    },
    {
     "name": "stdout",
     "output_type": "stream",
     "text": [
      "the number is nnt disarium\n"
     ]
    }
   ],
   "source": [
    "def calcualteNumber(n):\n",
    "    count = 0\n",
    "    while n!=0:\n",
    "        count += 1\n",
    "        n = n//10\n",
    "    return count\n",
    "\n",
    "num  = int(input())\n",
    "rem = su = 0\n",
    "len = calcualteNumber(num)\n",
    "\n",
    "n = num\n",
    "while (num>0):\n",
    "    rem = num %10\n",
    "    sum = su + int(rem**len);    \n",
    "    num = num //10\n",
    "    len = len -1\n",
    "    \n",
    "if (sum == n):\n",
    "    print(\"the number is disarium\")\n",
    "else:\n",
    "    print(\"the number is nnt disarium\")\n",
    "        "
   ]
  },
  {
   "cell_type": "code",
   "execution_count": null,
   "metadata": {},
   "outputs": [],
   "source": []
  },
  {
   "cell_type": "markdown",
   "metadata": {},
   "source": [
    "## Answer 2"
   ]
  },
  {
   "cell_type": "code",
   "execution_count": 15,
   "metadata": {},
   "outputs": [
    {
     "name": "stdout",
     "output_type": "stream",
     "text": [
      "Disarium numbers between 1 and 100 are\n",
      "1 ,2 ,3 ,4 ,5 ,6 ,7 ,8 ,9 ,89 ,"
     ]
    }
   ],
   "source": [
    "# Proram to check disarim number between 1 and 100\n",
    "#calculateLength() will count the digits present in a number    \n",
    "def calculateLength(n):    \n",
    "    length = 0    \n",
    "    while(n != 0):    \n",
    "        length = length + 1    \n",
    "        n = n//10    \n",
    "    return length    \n",
    "     \n",
    "#sumOfDigits() will calculates the sum of digits powered with their respective position    \n",
    "def sumOfDigits(num):    \n",
    "    rem = sum = 0    \n",
    "    len = calculateLength(num)    \n",
    "        \n",
    "    while(num > 0):    \n",
    "        rem = num%10    \n",
    "        sum = sum + (rem**len)    \n",
    "        num = num//10 \n",
    "        len = len - 1    \n",
    "    return sum\n",
    "      \n",
    "result = 0;    \n",
    "     \n",
    "#Displays all disarium numbers between 1 and 100    \n",
    "print(\"Disarium numbers between 1 and 100 are\");    \n",
    "for i in range(1, 101):    \n",
    "    result = sumOfDigits(i)\n",
    "        \n",
    "    if(result == i): \n",
    "        print(i,end = \" ,\") "
   ]
  },
  {
   "cell_type": "code",
   "execution_count": null,
   "metadata": {},
   "outputs": [],
   "source": []
  },
  {
   "cell_type": "markdown",
   "metadata": {},
   "source": [
    "## Answer 3"
   ]
  },
  {
   "cell_type": "code",
   "execution_count": 29,
   "metadata": {},
   "outputs": [],
   "source": [
    "def sqsum(num):\n",
    "    result = 0\n",
    "    while num>0:\n",
    "        r = num%10\n",
    "        result = result + r *r\n",
    "        num = num//10\n",
    "    return result\n",
    "def checkhappy(n):\n",
    "    seen = set()\n",
    "    while sqsum(n) not in seen:\n",
    "        sum1 = sqsum(n)\n",
    "        if sum1 == 1:\n",
    "            return True\n",
    "        else:\n",
    "            seen.add(sum1)\n",
    "            n = sum1\n",
    "    return False\n",
    "\n"
   ]
  },
  {
   "cell_type": "code",
   "execution_count": 31,
   "metadata": {},
   "outputs": [
    {
     "name": "stdin",
     "output_type": "stream",
     "text": [
      " 19\n"
     ]
    },
    {
     "name": "stdout",
     "output_type": "stream",
     "text": [
      "The number 19 is happy number\n"
     ]
    }
   ],
   "source": [
    "n = int(input())\n",
    "if checkhappy(n):\n",
    "    print(\"The number {} is happy number\".format(n))\n",
    "else:\n",
    "    print(\"the number {} is not a happy number\".format(n))"
   ]
  },
  {
   "cell_type": "code",
   "execution_count": null,
   "metadata": {},
   "outputs": [],
   "source": []
  },
  {
   "cell_type": "markdown",
   "metadata": {},
   "source": [
    "## Answer 4"
   ]
  },
  {
   "cell_type": "code",
   "execution_count": 1,
   "metadata": {},
   "outputs": [],
   "source": [
    "# an integer number in base 10 which is divisible by sum of its digits is called harshad number."
   ]
  },
  {
   "cell_type": "code",
   "execution_count": 19,
   "metadata": {},
   "outputs": [
    {
     "name": "stdin",
     "output_type": "stream",
     "text": [
      " 156\n"
     ]
    },
    {
     "name": "stdout",
     "output_type": "stream",
     "text": [
      "The number 156 is a harshad number\n"
     ]
    }
   ],
   "source": [
    "def sumofdigits(num):\n",
    "    result = 0\n",
    "    while num!=0:\n",
    "        r = num%10\n",
    "        result = result + r\n",
    "        num = num//10\n",
    "    return result\n",
    "n = int(input())\n",
    "if n % sumofdigits(n) == 0:\n",
    "    print(\"The number {} is a harshad number\".format(n))\n",
    "else:\n",
    "    print(\"The number {} is not a harshad number\".format(n))"
   ]
  },
  {
   "cell_type": "markdown",
   "metadata": {},
   "source": [
    "## Answer 5"
   ]
  },
  {
   "cell_type": "code",
   "execution_count": 16,
   "metadata": {},
   "outputs": [
    {
     "name": "stdout",
     "output_type": "stream",
     "text": [
      "2 ,6 ,12 ,20 ,30 ,42 ,56 ,72 ,90 ,"
     ]
    }
   ],
   "source": [
    "# A pronic number is a prouct of two consecutive integer of the form n*(n+1)\n",
    "def isPronicNumber(n):\n",
    "    flag = False\n",
    "    for i in range(1, n+1):\n",
    "        # Check for pronic number by multiplying continuos number\n",
    "        \n",
    "        \n",
    "        if ((i*(i+1)) == n):\n",
    "            flag  = True\n",
    "            break\n",
    "    return flag\n",
    "for i in range(1, 101):\n",
    "    if isPronicNumber(i):\n",
    "        print(i,end = \" ,\")"
   ]
  },
  {
   "cell_type": "code",
   "execution_count": null,
   "metadata": {},
   "outputs": [],
   "source": []
  }
 ],
 "metadata": {
  "kernelspec": {
   "display_name": "Python 3",
   "language": "python",
   "name": "python3"
  },
  "language_info": {
   "codemirror_mode": {
    "name": "ipython",
    "version": 3
   },
   "file_extension": ".py",
   "mimetype": "text/x-python",
   "name": "python",
   "nbconvert_exporter": "python",
   "pygments_lexer": "ipython3",
   "version": "3.7.3"
  }
 },
 "nbformat": 4,
 "nbformat_minor": 4
}
