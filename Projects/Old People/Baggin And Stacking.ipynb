{
 "cells": [
  {
   "cell_type": "code",
   "execution_count": 35,
   "id": "117090b2",
   "metadata": {},
   "outputs": [],
   "source": [
    "import pandas as pd\n",
    "import numpy as np\n",
    "import seaborn as sns\n",
    "from sklearn.ensemble import BaggingClassifier\n",
    "from sklearn.tree import DecisionTreeClassifier\n",
    "from sklearn.ensemble import StackingClassifier\n",
    "from sklearn.model_selection import train_test_split\n",
    "import pickle\n",
    "from sklearn.ensemble import RandomForestClassifier\n",
    "from sklearn.pipeline import make_pipeline\n",
    "from sklearn.preprocessing import StandardScaler\n",
    "from sklearn.svm import LinearSVC\n",
    "from sklearn.linear_model import LogisticRegression\n"
   ]
  },
  {
   "cell_type": "code",
   "execution_count": 25,
   "id": "da466a27",
   "metadata": {},
   "outputs": [],
   "source": [
    "df = pd.read_csv('real_data.csv')"
   ]
  },
  {
   "cell_type": "markdown",
   "id": "b9cc9c24",
   "metadata": {},
   "source": [
    "### Above data is a clean and preprocessed data. Refer Notebook older_people for detail explanation."
   ]
  },
  {
   "cell_type": "code",
   "execution_count": 26,
   "id": "2019b566",
   "metadata": {},
   "outputs": [],
   "source": [
    "x, y  = df.iloc[:, :-1], df.iloc[:, -1]"
   ]
  },
  {
   "cell_type": "code",
   "execution_count": 27,
   "id": "5a875f83",
   "metadata": {},
   "outputs": [],
   "source": [
    "x_train ,x_test ,y_train ,y_test = train_test_split(x,y,test_size=0.25,random_state= 1234)"
   ]
  },
  {
   "cell_type": "code",
   "execution_count": 28,
   "id": "ff0ef449",
   "metadata": {},
   "outputs": [],
   "source": [
    "# Fitting the BaggingClassifier with its default base_estimator"
   ]
  },
  {
   "cell_type": "code",
   "execution_count": 29,
   "id": "acd20de0",
   "metadata": {},
   "outputs": [],
   "source": [
    "bag_dt = BaggingClassifier(DecisionTreeClassifier(), n_estimators=100)"
   ]
  },
  {
   "cell_type": "code",
   "execution_count": 30,
   "id": "6d6e735b",
   "metadata": {},
   "outputs": [
    {
     "name": "stdout",
     "output_type": "stream",
     "text": [
      "Wall time: 24.9 s\n"
     ]
    },
    {
     "data": {
      "text/plain": [
       "BaggingClassifier(base_estimator=DecisionTreeClassifier(), n_estimators=100)"
      ]
     },
     "execution_count": 30,
     "metadata": {},
     "output_type": "execute_result"
    }
   ],
   "source": [
    "%%time\n",
    "bag_dt.fit(x_train ,y_train)"
   ]
  },
  {
   "cell_type": "code",
   "execution_count": 31,
   "id": "6d0fdd3c",
   "metadata": {},
   "outputs": [
    {
     "data": {
      "text/plain": [
       "0.994348551390733"
      ]
     },
     "execution_count": 31,
     "metadata": {},
     "output_type": "execute_result"
    }
   ],
   "source": [
    "bag_dt.score(x_train ,y_train)"
   ]
  },
  {
   "cell_type": "code",
   "execution_count": 32,
   "id": "b2cf6bd5",
   "metadata": {},
   "outputs": [
    {
     "data": {
      "text/plain": [
       "0.9906546828720253"
      ]
     },
     "execution_count": 32,
     "metadata": {},
     "output_type": "execute_result"
    }
   ],
   "source": [
    "bag_dt.score(x_test, y_test)"
   ]
  },
  {
   "cell_type": "markdown",
   "id": "bf8ad308",
   "metadata": {},
   "source": [
    "### The score of these algorithm is 99% . So, no need to prune it or hyperparameters tunning"
   ]
  },
  {
   "cell_type": "code",
   "execution_count": 33,
   "id": "1685f92b",
   "metadata": {},
   "outputs": [],
   "source": [
    "pickle.dump(bag_dt, open('bagginwRf.pkl', 'wb'))"
   ]
  },
  {
   "cell_type": "markdown",
   "id": "e5696e26",
   "metadata": {},
   "source": [
    "# Now we will fit our data on Stacking algorithm.\n",
    "which is combinatins of multiple models."
   ]
  },
  {
   "cell_type": "code",
   "execution_count": 37,
   "id": "99cf4fba",
   "metadata": {},
   "outputs": [],
   "source": [
    "estimators = [\n",
    "...     ('rf', RandomForestClassifier(n_estimators=10, random_state=42)),\n",
    "...     ('svr', make_pipeline(StandardScaler(),\n",
    "...                           LinearSVC(random_state=42)))]"
   ]
  },
  {
   "cell_type": "code",
   "execution_count": 39,
   "id": "c7790b99",
   "metadata": {},
   "outputs": [],
   "source": [
    "clf = StackingClassifier(estimators=estimators, final_estimator=LogisticRegression())"
   ]
  },
  {
   "cell_type": "code",
   "execution_count": 40,
   "id": "ca602006",
   "metadata": {},
   "outputs": [
    {
     "name": "stderr",
     "output_type": "stream",
     "text": [
      "C:\\Users\\Sanjeev\\anaconda3\\lib\\site-packages\\sklearn\\svm\\_base.py:985: ConvergenceWarning: Liblinear failed to converge, increase the number of iterations.\n",
      "  warnings.warn(\"Liblinear failed to converge, increase \"\n",
      "C:\\Users\\Sanjeev\\anaconda3\\lib\\site-packages\\sklearn\\svm\\_base.py:985: ConvergenceWarning: Liblinear failed to converge, increase the number of iterations.\n",
      "  warnings.warn(\"Liblinear failed to converge, increase \"\n",
      "C:\\Users\\Sanjeev\\anaconda3\\lib\\site-packages\\sklearn\\svm\\_base.py:985: ConvergenceWarning: Liblinear failed to converge, increase the number of iterations.\n",
      "  warnings.warn(\"Liblinear failed to converge, increase \"\n",
      "C:\\Users\\Sanjeev\\anaconda3\\lib\\site-packages\\sklearn\\svm\\_base.py:985: ConvergenceWarning: Liblinear failed to converge, increase the number of iterations.\n",
      "  warnings.warn(\"Liblinear failed to converge, increase \"\n",
      "C:\\Users\\Sanjeev\\anaconda3\\lib\\site-packages\\sklearn\\svm\\_base.py:985: ConvergenceWarning: Liblinear failed to converge, increase the number of iterations.\n",
      "  warnings.warn(\"Liblinear failed to converge, increase \"\n",
      "C:\\Users\\Sanjeev\\anaconda3\\lib\\site-packages\\sklearn\\svm\\_base.py:985: ConvergenceWarning: Liblinear failed to converge, increase the number of iterations.\n",
      "  warnings.warn(\"Liblinear failed to converge, increase \"\n",
      "C:\\Users\\Sanjeev\\anaconda3\\lib\\site-packages\\sklearn\\linear_model\\_logistic.py:763: ConvergenceWarning: lbfgs failed to converge (status=1):\n",
      "STOP: TOTAL NO. of ITERATIONS REACHED LIMIT.\n",
      "\n",
      "Increase the number of iterations (max_iter) or scale the data as shown in:\n",
      "    https://scikit-learn.org/stable/modules/preprocessing.html\n",
      "Please also refer to the documentation for alternative solver options:\n",
      "    https://scikit-learn.org/stable/modules/linear_model.html#logistic-regression\n",
      "  n_iter_i = _check_optimize_result(\n"
     ]
    },
    {
     "data": {
      "text/plain": [
       "StackingClassifier(estimators=[('rf',\n",
       "                                RandomForestClassifier(n_estimators=10,\n",
       "                                                       random_state=42)),\n",
       "                               ('svr',\n",
       "                                Pipeline(steps=[('standardscaler',\n",
       "                                                 StandardScaler()),\n",
       "                                                ('linearsvc',\n",
       "                                                 LinearSVC(random_state=42))]))],\n",
       "                   final_estimator=LogisticRegression())"
      ]
     },
     "execution_count": 40,
     "metadata": {},
     "output_type": "execute_result"
    }
   ],
   "source": [
    "clf.fit(x_train ,y_train)"
   ]
  },
  {
   "cell_type": "code",
   "execution_count": 41,
   "id": "7e227a25",
   "metadata": {},
   "outputs": [
    {
     "data": {
      "text/plain": [
       "0.9940251251149015"
      ]
     },
     "execution_count": 41,
     "metadata": {},
     "output_type": "execute_result"
    }
   ],
   "source": [
    "clf.score(x_train, y_train)"
   ]
  },
  {
   "cell_type": "code",
   "execution_count": 42,
   "id": "f5f26e75",
   "metadata": {},
   "outputs": [
    {
     "data": {
      "text/plain": [
       "0.9906291492186702"
      ]
     },
     "execution_count": 42,
     "metadata": {},
     "output_type": "execute_result"
    }
   ],
   "source": [
    "clf.score(x_test ,y_test)"
   ]
  },
  {
   "cell_type": "code",
   "execution_count": 43,
   "id": "3b77dcfc",
   "metadata": {},
   "outputs": [],
   "source": [
    "pickle.dump(clf, open('Stackingclf.pkl','wb'))"
   ]
  },
  {
   "cell_type": "code",
   "execution_count": 44,
   "id": "fcda5050",
   "metadata": {},
   "outputs": [],
   "source": [
    "# So, this is giving 99% accuracy so, no need to do hyperparameter tunning."
   ]
  },
  {
   "cell_type": "code",
   "execution_count": null,
   "id": "569d82b6",
   "metadata": {},
   "outputs": [],
   "source": []
  }
 ],
 "metadata": {
  "kernelspec": {
   "display_name": "Python 3 (ipykernel)",
   "language": "python",
   "name": "python3"
  },
  "language_info": {
   "codemirror_mode": {
    "name": "ipython",
    "version": 3
   },
   "file_extension": ".py",
   "mimetype": "text/x-python",
   "name": "python",
   "nbconvert_exporter": "python",
   "pygments_lexer": "ipython3",
   "version": "3.8.5"
  }
 },
 "nbformat": 4,
 "nbformat_minor": 5
}
