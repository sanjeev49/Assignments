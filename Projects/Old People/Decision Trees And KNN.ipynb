{
 "cells": [
  {
   "cell_type": "code",
   "execution_count": 31,
   "id": "c276cbff",
   "metadata": {},
   "outputs": [],
   "source": [
    "import pandas as pd\n",
    "import numpy as np\n",
    "import matplotlib.pyplot as plt\n",
    "import seaborn as sns\n",
    "LABELS=[\"sit on bed\", \" sit on chair\", \"lying\", \"ambulating\"]\n",
    "from sklearn.model_selection import train_test_split\n",
    "from sklearn.tree import DecisionTreeClassifier\n"
   ]
  },
  {
   "cell_type": "code",
   "execution_count": 32,
   "id": "6632a428",
   "metadata": {},
   "outputs": [],
   "source": [
    "# Import the dataset which we clean and preprocessed."
   ]
  },
  {
   "cell_type": "code",
   "execution_count": 33,
   "id": "3ea02026",
   "metadata": {},
   "outputs": [],
   "source": [
    "df = pd.read_csv('real_data.csv')"
   ]
  },
  {
   "cell_type": "code",
   "execution_count": 34,
   "id": "f5b7b66d",
   "metadata": {},
   "outputs": [],
   "source": [
    "x,y = df.iloc[:, :-1], df.iloc[:, -1]"
   ]
  },
  {
   "cell_type": "code",
   "execution_count": 9,
   "id": "f305f981",
   "metadata": {},
   "outputs": [
    {
     "data": {
      "image/png": "[encoded data removed]",
      "text/plain": [
       "<Figure size 432x288 with 1 Axes>"
      ]
     },
     "metadata": {
      "needs_background": "light"
     },
     "output_type": "display_data"
    }
   ],
   "source": [
    "count_class = pd.value_counts(y, sort=True)\n",
    "count_class.plot(kind=  'bar')\n",
    "plt.title(\"Activity Label Distribution\")\n",
    "plt.xticks(range(4),LABELS)\n",
    "plt.xlabel('Activity Label')\n",
    "plt.ylabel('Frequence')\n",
    "plt.show()"
   ]
  },
  {
   "cell_type": "code",
   "execution_count": 12,
   "id": "6fe6f207",
   "metadata": {},
   "outputs": [],
   "source": [
    "# There is no any outliers."
   ]
  },
  {
   "cell_type": "code",
   "execution_count": 35,
   "id": "e7928160",
   "metadata": {},
   "outputs": [],
   "source": [
    "x_train ,x_test , y_train ,y_test = train_test_split(x,y,test_size = 0.25, random_state = 1234)"
   ]
  },
  {
   "cell_type": "code",
   "execution_count": 15,
   "id": "59816ddb",
   "metadata": {},
   "outputs": [],
   "source": [
    "dec_clf = DecisionTreeClassifier()"
   ]
  },
  {
   "cell_type": "code",
   "execution_count": 16,
   "id": "91d50af9",
   "metadata": {},
   "outputs": [
    {
     "data": {
      "text/plain": [
       "DecisionTreeClassifier()"
      ]
     },
     "execution_count": 16,
     "metadata": {},
     "output_type": "execute_result"
    }
   ],
   "source": [
    "dec_clf.fit(x_train, y_train)"
   ]
  },
  {
   "cell_type": "code",
   "execution_count": 17,
   "id": "249f3e15",
   "metadata": {},
   "outputs": [
    {
     "data": {
      "text/plain": [
       "0.994357062608518"
      ]
     },
     "execution_count": 17,
     "metadata": {},
     "output_type": "execute_result"
    }
   ],
   "source": [
    "dec_clf.score(x_train, y_train)"
   ]
  },
  {
   "cell_type": "code",
   "execution_count": 18,
   "id": "60a6dce5",
   "metadata": {},
   "outputs": [],
   "source": [
    "# It is giving 99% accuracy on test data."
   ]
  },
  {
   "cell_type": "code",
   "execution_count": 19,
   "id": "01d2b496",
   "metadata": {},
   "outputs": [
    {
     "data": {
      "text/plain": [
       "0.9909866203656419"
      ]
     },
     "execution_count": 19,
     "metadata": {},
     "output_type": "execute_result"
    }
   ],
   "source": [
    "dec_clf.score(x_test ,y_test)"
   ]
  },
  {
   "cell_type": "code",
   "execution_count": 20,
   "id": "273e2c1d",
   "metadata": {},
   "outputs": [],
   "source": [
    "# this model is giving 99% accuray . Then there is no need of hyperparameter tunnings."
   ]
  },
  {
   "cell_type": "code",
   "execution_count": 23,
   "id": "d8252c47",
   "metadata": {},
   "outputs": [],
   "source": [
    "import pickle\n",
    "pickle.dump(dec_clf, open('dec_wih.pkl', 'wb'))"
   ]
  },
  {
   "cell_type": "code",
   "execution_count": 30,
   "id": "36572568",
   "metadata": {},
   "outputs": [],
   "source": [
    "import pickle\n",
    "dec_clf = pickle.load(open('dec_wih.pkl','rb'))\n",
    "svc_clf = pickle.load(open('svc_wiht.pkl','rb'))\n"
   ]
  },
  {
   "cell_type": "code",
   "execution_count": 36,
   "id": "c29565c4",
   "metadata": {},
   "outputs": [],
   "source": [
    "y_dec_clf = dec_clf.predict(x_test)"
   ]
  },
  {
   "cell_type": "code",
   "execution_count": 37,
   "id": "e06fc3fc",
   "metadata": {},
   "outputs": [
    {
     "data": {
      "text/plain": [
       "0.9909866203656419"
      ]
     },
     "execution_count": 37,
     "metadata": {},
     "output_type": "execute_result"
    }
   ],
   "source": [
    "from sklearn.metrics import accuracy_score\n",
    "accuracy_score(y_test, y_dec_clf)"
   ]
  },
  {
   "cell_type": "code",
   "execution_count": 38,
   "id": "221ddbcc",
   "metadata": {},
   "outputs": [
    {
     "data": {
      "text/plain": [
       "array([4, 3, 4, ..., 2, 4, 3], dtype=int64)"
      ]
     },
     "execution_count": 38,
     "metadata": {},
     "output_type": "execute_result"
    }
   ],
   "source": [
    "y_dec_clf"
   ]
  },
  {
   "cell_type": "code",
   "execution_count": 48,
   "id": "86a52bfc",
   "metadata": {},
   "outputs": [
    {
     "data": {
      "text/plain": [
       "array([ 3.0080e+02,  9.5210e-01,  3.0775e-01, -3.6490e-02,  1.0000e+00,\n",
       "       -5.7500e+01,  4.4577e+00,  9.2325e+02])"
      ]
     },
     "execution_count": 48,
     "metadata": {},
     "output_type": "execute_result"
    }
   ],
   "source": [
    "x_test.iloc[12].values"
   ]
  },
  {
   "cell_type": "code",
   "execution_count": 67,
   "id": "45412f92",
   "metadata": {},
   "outputs": [
    {
     "data": {
      "text/plain": [
       "array([4], dtype=int64)"
      ]
     },
     "execution_count": 67,
     "metadata": {},
     "output_type": "execute_result"
    }
   ],
   "source": [
    "from sklearn.preprocessing import StandardScaler\n",
    "sc= StandardScaler()\n",
    "sc.fit_transform(x_train)\n",
    "dec_clf.predict([x_test.loc[142570].values])"
   ]
  },
  {
   "cell_type": "code",
   "execution_count": 69,
   "id": "2eb2571c",
   "metadata": {},
   "outputs": [
    {
     "data": {
      "text/plain": [
       "array([4], dtype=int64)"
      ]
     },
     "execution_count": 69,
     "metadata": {},
     "output_type": "execute_result"
    }
   ],
   "source": [
    "svc_clf.predict([x_test.loc[142570].values])"
   ]
  },
  {
   "cell_type": "code",
   "execution_count": 60,
   "id": "3c52f83a",
   "metadata": {},
   "outputs": [
    {
     "data": {
      "text/plain": [
       "((39164, 8),)"
      ]
     },
     "execution_count": 60,
     "metadata": {},
     "output_type": "execute_result"
    }
   ],
   "source": [
    "x_test.shape, "
   ]
  },
  {
   "cell_type": "code",
   "execution_count": 55,
   "id": "c205cc25",
   "metadata": {},
   "outputs": [
    {
     "data": {
      "text/html": [
       "<div>\n",
       "<style scoped>\n",
       "    .dataframe tbody tr th:only-of-type {\n",
       "        vertical-align: middle;\n",
       "    }\n",
       "\n",
       "    .dataframe tbody tr th {\n",
       "        vertical-align: top;\n",
       "    }\n",
       "\n",
       "    .dataframe thead th {\n",
       "        text-align: right;\n",
       "    }\n",
       "</style>\n",
       "<table border=\"1\" class=\"dataframe\">\n",
       "  <thead>\n",
       "    <tr style=\"text-align: right;\">\n",
       "      <th></th>\n",
       "      <th>Time</th>\n",
       "      <th>Acc. Front</th>\n",
       "      <th>Acc. vert</th>\n",
       "      <th>Acc. Lat</th>\n",
       "      <th>id</th>\n",
       "      <th>RSSI</th>\n",
       "      <th>Phase</th>\n",
       "      <th>Freq</th>\n",
       "    </tr>\n",
       "  </thead>\n",
       "  <tbody>\n",
       "    <tr>\n",
       "      <th>142570</th>\n",
       "      <td>298.25</td>\n",
       "      <td>0.94038</td>\n",
       "      <td>0.296270</td>\n",
       "      <td>-0.036490</td>\n",
       "      <td>2</td>\n",
       "      <td>-57.5</td>\n",
       "      <td>4.4117</td>\n",
       "      <td>923.25</td>\n",
       "    </tr>\n",
       "    <tr>\n",
       "      <th>54038</th>\n",
       "      <td>716.33</td>\n",
       "      <td>1.28040</td>\n",
       "      <td>0.996740</td>\n",
       "      <td>0.180170</td>\n",
       "      <td>3</td>\n",
       "      <td>-49.0</td>\n",
       "      <td>6.1068</td>\n",
       "      <td>925.75</td>\n",
       "    </tr>\n",
       "    <tr>\n",
       "      <th>5832</th>\n",
       "      <td>146.25</td>\n",
       "      <td>0.37756</td>\n",
       "      <td>0.020670</td>\n",
       "      <td>-0.150520</td>\n",
       "      <td>1</td>\n",
       "      <td>-61.0</td>\n",
       "      <td>1.2931</td>\n",
       "      <td>921.25</td>\n",
       "    </tr>\n",
       "    <tr>\n",
       "      <th>137180</th>\n",
       "      <td>353.85</td>\n",
       "      <td>1.05760</td>\n",
       "      <td>0.514450</td>\n",
       "      <td>-0.002281</td>\n",
       "      <td>1</td>\n",
       "      <td>-56.5</td>\n",
       "      <td>5.0713</td>\n",
       "      <td>923.75</td>\n",
       "    </tr>\n",
       "    <tr>\n",
       "      <th>147090</th>\n",
       "      <td>187.50</td>\n",
       "      <td>0.45964</td>\n",
       "      <td>0.078086</td>\n",
       "      <td>-0.116310</td>\n",
       "      <td>4</td>\n",
       "      <td>-59.5</td>\n",
       "      <td>1.7395</td>\n",
       "      <td>921.75</td>\n",
       "    </tr>\n",
       "  </tbody>\n",
       "</table>\n",
       "</div>"
      ],
      "text/plain": [
       "          Time  Acc. Front  Acc. vert  Acc. Lat  id  RSSI   Phase    Freq\n",
       "142570  298.25     0.94038   0.296270 -0.036490   2 -57.5  4.4117  923.25\n",
       "54038   716.33     1.28040   0.996740  0.180170   3 -49.0  6.1068  925.75\n",
       "5832    146.25     0.37756   0.020670 -0.150520   1 -61.0  1.2931  921.25\n",
       "137180  353.85     1.05760   0.514450 -0.002281   1 -56.5  5.0713  923.75\n",
       "147090  187.50     0.45964   0.078086 -0.116310   4 -59.5  1.7395  921.75"
      ]
     },
     "execution_count": 55,
     "metadata": {},
     "output_type": "execute_result"
    }
   ],
   "source": [
    "x_test.head(5)"
   ]
  },
  {
   "cell_type": "code",
   "execution_count": 56,
   "id": "14651e56",
   "metadata": {},
   "outputs": [
    {
     "data": {
      "text/plain": [
       "142570    4\n",
       "54038     3\n",
       "5832      4\n",
       "137180    4\n",
       "147090    4\n",
       "Name: Activity Label, dtype: int64"
      ]
     },
     "execution_count": 56,
     "metadata": {},
     "output_type": "execute_result"
    }
   ],
   "source": [
    "y_test.head(5)"
   ]
  },
  {
   "cell_type": "code",
   "execution_count": 63,
   "id": "259dd5fe",
   "metadata": {},
   "outputs": [
    {
     "data": {
      "text/plain": [
       "4"
      ]
     },
     "execution_count": 63,
     "metadata": {},
     "output_type": "execute_result"
    }
   ],
   "source": [
    "y_test.loc[5832]"
   ]
  },
  {
   "cell_type": "code",
   "execution_count": 65,
   "id": "9b9b6d15",
   "metadata": {},
   "outputs": [
    {
     "data": {
      "text/plain": [
       "array([ 2.9825e+02,  9.4038e-01,  2.9627e-01, -3.6490e-02,  2.0000e+00,\n",
       "       -5.7500e+01,  4.4117e+00,  9.2325e+02])"
      ]
     },
     "execution_count": 65,
     "metadata": {},
     "output_type": "execute_result"
    }
   ],
   "source": [
    "x_test.loc[142570].values"
   ]
  },
  {
   "cell_type": "code",
   "execution_count": null,
   "id": "9e2c0a59",
   "metadata": {},
   "outputs": [],
   "source": []
  },
  {
   "cell_type": "markdown",
   "id": "c9ca6ece",
   "metadata": {},
   "source": [
    "#  KNeighborsClassifier"
   ]
  },
  {
   "cell_type": "code",
   "execution_count": 24,
   "id": "c4924dcd",
   "metadata": {},
   "outputs": [],
   "source": [
    "from sklearn.neighbors import KNeighborsClassifier"
   ]
  },
  {
   "cell_type": "code",
   "execution_count": 25,
   "id": "9f4ac57e",
   "metadata": {},
   "outputs": [
    {
     "data": {
      "text/plain": [
       "KNeighborsClassifier()"
      ]
     },
     "execution_count": 25,
     "metadata": {},
     "output_type": "execute_result"
    }
   ],
   "source": [
    "knn = KNeighborsClassifier()\n",
    "knn.fit(x_train ,y_train)"
   ]
  },
  {
   "cell_type": "code",
   "execution_count": 26,
   "id": "bd38749c",
   "metadata": {},
   "outputs": [
    {
     "data": {
      "text/plain": [
       "0.9854373063697954"
      ]
     },
     "execution_count": 26,
     "metadata": {},
     "output_type": "execute_result"
    }
   ],
   "source": [
    "knn.score(x_train ,y_train)"
   ]
  },
  {
   "cell_type": "code",
   "execution_count": 27,
   "id": "00f9a7af",
   "metadata": {},
   "outputs": [
    {
     "data": {
      "text/plain": [
       "0.9817434378510878"
      ]
     },
     "execution_count": 27,
     "metadata": {},
     "output_type": "execute_result"
    }
   ],
   "source": [
    "knn.score(x_test ,y_test)"
   ]
  },
  {
   "cell_type": "code",
   "execution_count": 28,
   "id": "3b94b42e",
   "metadata": {},
   "outputs": [],
   "source": [
    "# Again it is giving 98% accuracy so no  need to model hyperparameters tunning."
   ]
  },
  {
   "cell_type": "code",
   "execution_count": 29,
   "id": "135e113f",
   "metadata": {},
   "outputs": [],
   "source": [
    "pickle.dump(knn, open('knn_wih.pkl', 'wb'))"
   ]
  },
  {
   "cell_type": "code",
   "execution_count": null,
   "id": "052a5ded",
   "metadata": {},
   "outputs": [],
   "source": []
  }
 ],
 "metadata": {
  "kernelspec": {
   "display_name": "Python 3 (ipykernel)",
   "language": "python",
   "name": "python3"
  },
  "language_info": {
   "codemirror_mode": {
    "name": "ipython",
    "version": 3
   },
   "file_extension": ".py",
   "mimetype": "text/x-python",
   "name": "python",
   "nbconvert_exporter": "python",
   "pygments_lexer": "ipython3",
   "version": "3.8.5"
  }
 },
 "nbformat": 4,
 "nbformat_minor": 5
}
