{
 "cells": [
  {
   "cell_type": "code",
   "execution_count": null,
   "id": "dd428ffc",
   "metadata": {},
   "outputs": [],
   "source": []
  },
  {
   "cell_type": "code",
   "execution_count": 2,
   "id": "bc152174",
   "metadata": {},
   "outputs": [],
   "source": [
    "import os\n",
    "import glob\n",
    "LABELS=[\"sit on bed\", \" sit on chair\", \"lying\", \"ambulating\"]\n",
    "import pandas as pd\n",
    "import seaborn as sns\n",
    "import matplotlib.pyplot as plt\n",
    "from sklearn.model_selection import train_test_split, GridSearchCV, RepeatedStratifiedKFold\n",
    "from sklearn.metrics import confusion_matrix, accuracy_score, precision_score, recall_score, f1_score\n",
    "from imblearn.combine import SMOTETomek\n",
    "from sklearn.preprocessing import StandardScaler\n",
    "import pickle\n",
    "import numpy as np\n",
    "from sklearn.linear_model import LogisticRegression\n"
   ]
  },
  {
   "cell_type": "code",
   "execution_count": 2,
   "id": "d00e9334",
   "metadata": {},
   "outputs": [],
   "source": [
    "class data_ana:\n",
    "    def __init__(self, data_path):\n",
    "        self.data_path  = data_path\n",
    "    def whole_data(self):\n",
    "        s1_dataset = glob.glob(self.data_path+'\\S1_Dataset'+'/*')\n",
    "        s2_dataset = glob.glob(self.data_path+'\\S2_Dataset'+'/*')\n",
    "        li_1 = []\n",
    "        li_2 = []\n",
    "        for file in s1_dataset:\n",
    "            if file.endswith('.txt'):\n",
    "                continue\n",
    "            df = pd.read_csv(file, header = None, index_col = None)\n",
    "            li_1.append(df)\n",
    "        for file2 in s2_dataset:\n",
    "            if file2.endswith('.txt'):\n",
    "                continue\n",
    "            df2 = pd.read_csv(file2, header = None, index_col = None)\n",
    "            li_2.append(df2)\n",
    "        df1 = pd.concat(li_1, axis=0, ignore_index=True)\n",
    "        df2 = pd.concat(li_2, axis=0, ignore_index=True)\n",
    "        data = pd.concat((df1,df2),axis=0,ignore_index=True)\n",
    "        data.columns=['Time','Acc. Front','Acc. vert','Acc. Lat','id','RSSI','Phase','Freq','Activity Label']\n",
    "        return data\n",
    "    def female_data(self):\n",
    "        s1_female = glob.glob(self.data_path+'\\S1_Dataset'+'\\*')\n",
    "        s2_female = glob.glob(self.data_path+'\\S2_Dataset'+'\\*')\n",
    "        female1 = []\n",
    "        female2 = []\n",
    "        for female in s1_female:\n",
    "            if female.endswith('F'):\n",
    "                df = pd.read_csv(female, header = None, index_col = None)\n",
    "                female1.append(df)\n",
    "        for female in s2_female:\n",
    "            if female.endswith('F'):\n",
    "                df = pd.read_csv(female, header = None, index_col = None)\n",
    "                female2.append(df)\n",
    "        fs_1 = pd.concat(female1, axis=0, ignore_index=True)\n",
    "        fs_1.columns=['Time','Acc. Front','Acc. vert','Acc. Lat','id','RSSI','Phase','Freq','Activity Label']\n",
    "        fs_2 = pd.concat(female2, axis=0, ignore_index=True)\n",
    "        fs_2.columns=['Time','Acc. Front','Acc. vert','Acc. Lat','id','RSSI','Phase','Freq','Activity Label']\n",
    "        whole_female = pd.concat((fs_1, fs_2))\n",
    "        return fs_1, fs_2, whole_female\n",
    "    def male_data(self):\n",
    "        \n",
    "        s1_male = glob.glob(self.data_path+'\\S1_Dataset'+'\\*')\n",
    "        s2_male = glob.glob(self.data_path+'\\S2_Dataset'+'\\*')\n",
    "        male1 = []\n",
    "        male2 = []\n",
    "        for male in s1_male:\n",
    "             if male.endswith('M'):\n",
    "                df = pd.read_csv(male, header = None, index_col = None)\n",
    "                male1.append(df)\n",
    "        for male in s2_male:\n",
    "             if male.endswith('M'):\n",
    "                df = pd.read_csv(male, header = None, index_col = None)\n",
    "                male2.append(df)\n",
    "        ms_1 = pd.concat(male1, axis=0, ignore_index=True)\n",
    "        ms_1.columns=['Time','Acc. Front','Acc. vert','Acc. Lat','id','RSSI','Phase','Freq','Activity Label']\n",
    "        ms_2 = pd.concat(male2, axis=0, ignore_index=True)\n",
    "        ms_2.columns=['Time','Acc. Front','Acc. vert','Acc. Lat','id','RSSI','Phase','Freq','Activity Label']\n",
    "        whole_male = pd.concat((ms_1, ms_2))\n",
    "        return ms_1, ms_2, whole_male\n",
    "        \n",
    "    \n",
    "        \n",
    "    def data_analysis(self):\n",
    "        a = self.whole_data()\n",
    "        print(\"This is information of the Data\")\n",
    "        a.info()\n",
    "        print()\n",
    "        print()\n",
    "        print(\"This is The description of all the numerical column of  the data\")\n",
    "        print(a.describe())\n",
    "        print()\n",
    "        print()\n",
    "        print(\"Checking if there is any Null values\")\n",
    "        print(a.isnull().sum())\n",
    "        print(\"As We can see there is no any null values.\\nWe check for Duplicate values\")\n",
    "        c = a.duplicated().sum()\n",
    "        if a.duplicated().sum()>=1:\n",
    "            print(c, \"Duplicate values.\")\n",
    "            print(\"removing Duplicates.....\")\n",
    "            a = a.drop_duplicates()\n",
    "            print(\"Duplicat values are removed\")\n",
    "            \n",
    "        else:\n",
    "            print(\"There is no duplicates\")\n",
    "        \n",
    "        return \n",
    "    def clean_data(self):\n",
    "        clean  = self.whole_data()\n",
    "        clean = clean.drop_duplicates()\n",
    "        return clean\n",
    "    def imbalance_checker(self):\n",
    "        data = self.clean_data()\n",
    "        count_class = pd.value_counts(data['Activity Label'], sort=True)\n",
    "        count_class.plot(kind=  'bar')\n",
    "        plt.title(\"Activity Label Distribution\")\n",
    "        plt.xticks(range(4),LABELS)\n",
    "        plt.xlabel('Activity Label')\n",
    "        plt.ylabel('Frequence')\n",
    "        plt.show()\n",
    "    def balance_data_oversampling(self):\n",
    "        x, y= self.x_y_data()\n",
    "        smk = SMOTETomek(random_state =42)\n",
    "        x_res_up , y_res_up = smk.fit_resample(x,y)\n",
    "        return x_res_up, y_res_up\n",
    "    def balance_checker_a_b(self):\n",
    "        x_bal, y_bal = self.balance_data_oversampling()\n",
    "        count_class = pd.value_counts(y_bal, sort = True)\n",
    "        count_class.plot(kind= 'bar')\n",
    "        plt.title('Activity Label Distribution')\n",
    "        plt.xticks(range(4),LABELS)\n",
    "        plt.xlabel('Activity Label')\n",
    "        plt.ylabel('Frequency')\n",
    "        plt.show()\n",
    "    def standard_scaling_feature(self):\n",
    "        x,y = self.balance_data_oversampling()\n",
    "        sc = StandardScaler()\n",
    "        x = sc.fit_transform(x)\n",
    "        return x,y\n",
    "    def x_y_data(self):\n",
    "        data = self.clean_data()\n",
    "        x = data.iloc[:, :-1]\n",
    "        y = data.iloc[:, -1]\n",
    "        return x,y\n",
    "\n",
    "    def split_data(self):\n",
    "        x, y = self.standard_scaling_feature()\n",
    "        x_train, x_test, y_train, y_test = train_test_split(x,y,test_size=0.25, random_state = 42)\n",
    "        return x_train, x_test, y_train, y_test\n",
    "        \n",
    "        \n",
    "\n",
    "        \n",
    "        \n",
    "        \n",
    "        "
   ]
  },
  {
   "cell_type": "code",
   "execution_count": 3,
   "id": "cce295a1",
   "metadata": {},
   "outputs": [],
   "source": [
    "a = data_ana(r'C:\\Users\\Sanjeev\\ineuron\\Projects\\Old People')\n",
    "#a.data_merge()\n",
    "#a.data_analysis()\n",
    "#df = a.clean_data()\n",
    "#s1_fe, s2_fe, whole_female = a.female_data()\n",
    "#male_s1,male_2,male_whole = a.male_data()\n",
    "#a.balance_data_oversampling()\n",
    "#a.standard_scaling_feature()"
   ]
  },
  {
   "cell_type": "markdown",
   "id": "7ca9e5e4",
   "metadata": {},
   "source": [
    "### We are checking for Nan values and duplicates values. There are no Nan values. but two duplicates."
   ]
  },
  {
   "cell_type": "code",
   "execution_count": 4,
   "id": "0bcc7c55",
   "metadata": {},
   "outputs": [
    {
     "name": "stdout",
     "output_type": "stream",
     "text": [
      "This is information of the Data\n",
      "<class 'pandas.core.frame.DataFrame'>\n",
      "RangeIndex: 75128 entries, 0 to 75127\n",
      "Data columns (total 9 columns):\n",
      " #   Column          Non-Null Count  Dtype  \n",
      "---  ------          --------------  -----  \n",
      " 0   Time            75128 non-null  float64\n",
      " 1   Acc. Front      75128 non-null  float64\n",
      " 2   Acc. vert       75128 non-null  float64\n",
      " 3   Acc. Lat        75128 non-null  float64\n",
      " 4   id              75128 non-null  int64  \n",
      " 5   RSSI            75128 non-null  float64\n",
      " 6   Phase           75128 non-null  float64\n",
      " 7   Freq            75128 non-null  float64\n",
      " 8   Activity Label  75128 non-null  int64  \n",
      "dtypes: float64(7), int64(2)\n",
      "memory usage: 5.2 MB\n",
      "\n",
      "\n",
      "This is The description of all the numerical column of  the data\n",
      "               Time    Acc. Front     Acc. vert      Acc. Lat            id  \\\n",
      "count  75128.000000  75128.000000  75128.000000  75128.000000  75128.000000   \n",
      "mean     299.080416      0.714211      0.345199     -0.217477      2.409581   \n",
      "std      257.503002      0.404585      0.419041      0.438219      1.102165   \n",
      "min        0.000000     -0.748080     -0.553490     -1.336400      1.000000   \n",
      "25%      121.250000      0.342380     -0.002297     -0.184730      1.000000   \n",
      "50%      250.715000      0.682420      0.215880     -0.070699      3.000000   \n",
      "75%      402.500000      1.104500      0.858940      0.031928      3.000000   \n",
      "max     1739.400000      1.503200      2.030200      1.217800      4.000000   \n",
      "\n",
      "               RSSI         Phase          Freq  Activity Label  \n",
      "count  75128.000000  75128.000000  75128.000000    75128.000000  \n",
      "mean     -58.277253      3.157279    922.670536        2.528378  \n",
      "std        5.174083      2.182257      1.679093        0.864258  \n",
      "min      -72.000000      0.000000    920.250000        1.000000  \n",
      "25%      -62.000000      1.032400    921.250000        2.000000  \n",
      "50%      -58.000000      2.767300    922.750000        3.000000  \n",
      "75%      -56.000000      5.358575    924.250000        3.000000  \n",
      "max      -38.500000      6.281700    925.750000        4.000000  \n",
      "\n",
      "\n",
      "Checking if there is any Null values\n",
      "Time              0\n",
      "Acc. Front        0\n",
      "Acc. vert         0\n",
      "Acc. Lat          0\n",
      "id                0\n",
      "RSSI              0\n",
      "Phase             0\n",
      "Freq              0\n",
      "Activity Label    0\n",
      "dtype: int64\n",
      "As We can see there is no any null values.\n",
      "We check for Duplicate values\n",
      "2 Duplicate values.\n",
      "removing Duplicates.....\n",
      "Duplicat values are removed\n"
     ]
    }
   ],
   "source": [
    "a.data_analysis()"
   ]
  },
  {
   "cell_type": "markdown",
   "id": "cd60553f",
   "metadata": {},
   "source": [
    "### Now we will import the dataset which we have made throuh the class data_ana"
   ]
  },
  {
   "cell_type": "code",
   "execution_count": 5,
   "id": "b8797ced",
   "metadata": {},
   "outputs": [],
   "source": [
    "df = pd.read_csv('raw_dio.csv')"
   ]
  },
  {
   "cell_type": "code",
   "execution_count": 6,
   "id": "11ada26a",
   "metadata": {},
   "outputs": [
    {
     "data": {
      "text/html": [
       "<div>\n",
       "<style scoped>\n",
       "    .dataframe tbody tr th:only-of-type {\n",
       "        vertical-align: middle;\n",
       "    }\n",
       "\n",
       "    .dataframe tbody tr th {\n",
       "        vertical-align: top;\n",
       "    }\n",
       "\n",
       "    .dataframe thead th {\n",
       "        text-align: right;\n",
       "    }\n",
       "</style>\n",
       "<table border=\"1\" class=\"dataframe\">\n",
       "  <thead>\n",
       "    <tr style=\"text-align: right;\">\n",
       "      <th></th>\n",
       "      <th>Time</th>\n",
       "      <th>Acc. Front</th>\n",
       "      <th>Acc. vert</th>\n",
       "      <th>Acc. Lat</th>\n",
       "      <th>id</th>\n",
       "      <th>RSSI</th>\n",
       "      <th>Phase</th>\n",
       "      <th>Freq</th>\n",
       "      <th>Activity Label</th>\n",
       "    </tr>\n",
       "  </thead>\n",
       "  <tbody>\n",
       "    <tr>\n",
       "      <th>0</th>\n",
       "      <td>0.00</td>\n",
       "      <td>0.27203</td>\n",
       "      <td>1.00820</td>\n",
       "      <td>-0.082102</td>\n",
       "      <td>1</td>\n",
       "      <td>-63.5</td>\n",
       "      <td>2.4252</td>\n",
       "      <td>924.25</td>\n",
       "      <td>1</td>\n",
       "    </tr>\n",
       "    <tr>\n",
       "      <th>1</th>\n",
       "      <td>0.50</td>\n",
       "      <td>0.27203</td>\n",
       "      <td>1.00820</td>\n",
       "      <td>-0.082102</td>\n",
       "      <td>1</td>\n",
       "      <td>-63.0</td>\n",
       "      <td>4.7369</td>\n",
       "      <td>921.75</td>\n",
       "      <td>1</td>\n",
       "    </tr>\n",
       "    <tr>\n",
       "      <th>2</th>\n",
       "      <td>1.50</td>\n",
       "      <td>0.44791</td>\n",
       "      <td>0.91636</td>\n",
       "      <td>-0.013684</td>\n",
       "      <td>1</td>\n",
       "      <td>-63.5</td>\n",
       "      <td>3.0311</td>\n",
       "      <td>923.75</td>\n",
       "      <td>1</td>\n",
       "    </tr>\n",
       "    <tr>\n",
       "      <th>3</th>\n",
       "      <td>1.75</td>\n",
       "      <td>0.44791</td>\n",
       "      <td>0.91636</td>\n",
       "      <td>-0.013684</td>\n",
       "      <td>1</td>\n",
       "      <td>-63.0</td>\n",
       "      <td>2.0371</td>\n",
       "      <td>921.25</td>\n",
       "      <td>1</td>\n",
       "    </tr>\n",
       "    <tr>\n",
       "      <th>4</th>\n",
       "      <td>2.50</td>\n",
       "      <td>0.34238</td>\n",
       "      <td>0.96229</td>\n",
       "      <td>-0.059296</td>\n",
       "      <td>1</td>\n",
       "      <td>-63.5</td>\n",
       "      <td>5.8920</td>\n",
       "      <td>920.25</td>\n",
       "      <td>1</td>\n",
       "    </tr>\n",
       "  </tbody>\n",
       "</table>\n",
       "</div>"
      ],
      "text/plain": [
       "   Time  Acc. Front  Acc. vert  Acc. Lat  id  RSSI   Phase    Freq  \\\n",
       "0  0.00     0.27203    1.00820 -0.082102   1 -63.5  2.4252  924.25   \n",
       "1  0.50     0.27203    1.00820 -0.082102   1 -63.0  4.7369  921.75   \n",
       "2  1.50     0.44791    0.91636 -0.013684   1 -63.5  3.0311  923.75   \n",
       "3  1.75     0.44791    0.91636 -0.013684   1 -63.0  2.0371  921.25   \n",
       "4  2.50     0.34238    0.96229 -0.059296   1 -63.5  5.8920  920.25   \n",
       "\n",
       "   Activity Label  \n",
       "0               1  \n",
       "1               1  \n",
       "2               1  \n",
       "3               1  \n",
       "4               1  "
      ]
     },
     "execution_count": 6,
     "metadata": {},
     "output_type": "execute_result"
    }
   ],
   "source": [
    "df.head()"
   ]
  },
  {
   "cell_type": "code",
   "execution_count": 7,
   "id": "02aaa594",
   "metadata": {},
   "outputs": [],
   "source": [
    "# Now we will check for imbalance dataset for label columns."
   ]
  },
  {
   "cell_type": "code",
   "execution_count": 8,
   "id": "3bb96790",
   "metadata": {},
   "outputs": [
    {
     "data": {
      "image/png": "[encoded data removed]",
      "text/plain": [
       "<Figure size 432x288 with 1 Axes>"
      ]
     },
     "metadata": {
      "needs_background": "light"
     },
     "output_type": "display_data"
    }
   ],
   "source": [
    "count_class = pd.value_counts(df['Activity Label'], sort=True)\n",
    "count_class.plot(kind=  'bar')\n",
    "plt.title(\"Activity Label Distribution\")\n",
    "plt.xticks(range(4),LABELS)\n",
    "plt.xlabel('Activity Label')\n",
    "plt.ylabel('Frequence')\n",
    "plt.show()"
   ]
  },
  {
   "cell_type": "code",
   "execution_count": 9,
   "id": "7917d282",
   "metadata": {},
   "outputs": [],
   "source": [
    "# Now we will remove outliers. We will deal it with later."
   ]
  },
  {
   "cell_type": "code",
   "execution_count": 10,
   "id": "3bb00477",
   "metadata": {},
   "outputs": [],
   "source": [
    "def remove_by_iqr(feature):\n",
    "    data= sorted(feature)\n",
    "    data = pd.DataFrame(data)\n",
    "    quantile1, quantile3= np.percentile(data,[25,75])\n",
    "    iqr_value=quantile3-quantile1\n",
    "    \n",
    "    upper=  np.where(data>=(quantile3+1.5*iqr_value))\n",
    "    lower = np.where(data<=(quantile1-1.5*iqr_value))\n",
    "    data.drop(upper[0],inplace=True,axis=0)\n",
    "    data.drop(lower[0],inplace=True,axis=0)\n",
    "    return data\n"
   ]
  },
  {
   "cell_type": "code",
   "execution_count": 11,
   "id": "e82bee9b",
   "metadata": {},
   "outputs": [],
   "source": [
    "time = remove_by_iqr(df['Time'])\n",
    "front = remove_by_iqr(df['Acc. Front'])\n",
    "vert = remove_by_iqr(df['Acc. vert'])\n",
    "lat = remove_by_iqr(df['Acc. Lat'])\n",
    "rssi = remove_by_iqr(df.RSSI)\n",
    "phase = remove_by_iqr(df.Phase)\n",
    "Freq = remove_by_iqr(df.Freq)"
   ]
  },
  {
   "cell_type": "code",
   "execution_count": 12,
   "id": "dbe2cc90",
   "metadata": {},
   "outputs": [],
   "source": [
    "new_df2 = pd.DataFrame()\n",
    "new_df2['Time'] = time\n",
    "new_df2['Acc. Front'] = front\n",
    "new_df2['Acc. vert'] = vert\n",
    "new_df2['Acc. Lat']  = lat\n",
    "new_df2['id']  = df.id\n",
    "new_df2['RSSI'] = rssi\n",
    "new_df2['Phase'] = phase\n",
    "new_df2['Freq'] = Freq\n",
    "new_df2['Activity Label'] = df['Activity Label']"
   ]
  },
  {
   "cell_type": "code",
   "execution_count": 13,
   "id": "67809b13",
   "metadata": {},
   "outputs": [
    {
     "name": "stdout",
     "output_type": "stream",
     "text": [
      "<class 'pandas.core.frame.DataFrame'>\n",
      "Int64Index: 72488 entries, 0 to 72487\n",
      "Data columns (total 9 columns):\n",
      " #   Column          Non-Null Count  Dtype  \n",
      "---  ------          --------------  -----  \n",
      " 0   Time            72488 non-null  float64\n",
      " 1   Acc. Front      72488 non-null  float64\n",
      " 2   Acc. vert       72488 non-null  float64\n",
      " 3   Acc. Lat        55672 non-null  float64\n",
      " 4   id              72488 non-null  int64  \n",
      " 5   RSSI            72461 non-null  float64\n",
      " 6   Phase           72488 non-null  float64\n",
      " 7   Freq            72488 non-null  float64\n",
      " 8   Activity Label  72488 non-null  int64  \n",
      "dtypes: float64(7), int64(2)\n",
      "memory usage: 7.5 MB\n"
     ]
    }
   ],
   "source": [
    "# As we can see there are so many Nan values. hidden inside the new_df2 we remove it.\n",
    "new_df2.info()"
   ]
  },
  {
   "cell_type": "code",
   "execution_count": 14,
   "id": "66f40608",
   "metadata": {},
   "outputs": [],
   "source": [
    "new_df2.dropna(axis=0, inplace=True)"
   ]
  },
  {
   "cell_type": "code",
   "execution_count": 15,
   "id": "d42b28d7",
   "metadata": {},
   "outputs": [
    {
     "name": "stdout",
     "output_type": "stream",
     "text": [
      "<class 'pandas.core.frame.DataFrame'>\n",
      "Int64Index: 55672 entries, 16816 to 72487\n",
      "Data columns (total 9 columns):\n",
      " #   Column          Non-Null Count  Dtype  \n",
      "---  ------          --------------  -----  \n",
      " 0   Time            55672 non-null  float64\n",
      " 1   Acc. Front      55672 non-null  float64\n",
      " 2   Acc. vert       55672 non-null  float64\n",
      " 3   Acc. Lat        55672 non-null  float64\n",
      " 4   id              55672 non-null  int64  \n",
      " 5   RSSI            55672 non-null  float64\n",
      " 6   Phase           55672 non-null  float64\n",
      " 7   Freq            55672 non-null  float64\n",
      " 8   Activity Label  55672 non-null  int64  \n",
      "dtypes: float64(7), int64(2)\n",
      "memory usage: 4.2 MB\n"
     ]
    }
   ],
   "source": [
    "new_df2.info()"
   ]
  },
  {
   "cell_type": "code",
   "execution_count": 16,
   "id": "79350071",
   "metadata": {},
   "outputs": [],
   "source": [
    "# Now we check for outliers if it is removed."
   ]
  },
  {
   "cell_type": "code",
   "execution_count": 17,
   "id": "342c3e83",
   "metadata": {},
   "outputs": [
    {
     "name": "stderr",
     "output_type": "stream",
     "text": [
      "C:\\Users\\Sanjeev\\anaconda3\\lib\\site-packages\\seaborn\\_decorators.py:36: FutureWarning: Pass the following variable as a keyword arg: x. From version 0.12, the only valid positional argument will be `data`, and passing other arguments without an explicit keyword will result in an error or misinterpretation.\n",
      "  warnings.warn(\n"
     ]
    },
    {
     "data": {
      "text/plain": [
       "<AxesSubplot:xlabel='Time'>"
      ]
     },
     "execution_count": 17,
     "metadata": {},
     "output_type": "execute_result"
    },
    {
     "data": {
      "image/png": "[encoded data removed]",
      "text/plain": [
       "<Figure size 432x288 with 1 Axes>"
      ]
     },
     "metadata": {
      "needs_background": "light"
     },
     "output_type": "display_data"
    }
   ],
   "source": [
    "sns.boxplot(new_df2.Time)"
   ]
  },
  {
   "cell_type": "code",
   "execution_count": 18,
   "id": "83fbf1d3",
   "metadata": {},
   "outputs": [
    {
     "name": "stderr",
     "output_type": "stream",
     "text": [
      "C:\\Users\\Sanjeev\\anaconda3\\lib\\site-packages\\seaborn\\_decorators.py:36: FutureWarning: Pass the following variable as a keyword arg: x. From version 0.12, the only valid positional argument will be `data`, and passing other arguments without an explicit keyword will result in an error or misinterpretation.\n",
      "  warnings.warn(\n"
     ]
    },
    {
     "data": {
      "text/plain": [
       "<AxesSubplot:xlabel='Acc. vert'>"
      ]
     },
     "execution_count": 18,
     "metadata": {},
     "output_type": "execute_result"
    },
    {
     "data": {
      "image/png": "[encoded data removed]",
      "text/plain": [
       "<Figure size 432x288 with 1 Axes>"
      ]
     },
     "metadata": {
      "needs_background": "light"
     },
     "output_type": "display_data"
    }
   ],
   "source": [
    "sns.boxplot(new_df2['Acc. vert'])"
   ]
  },
  {
   "cell_type": "code",
   "execution_count": 19,
   "id": "770ff2ee",
   "metadata": {},
   "outputs": [
    {
     "name": "stderr",
     "output_type": "stream",
     "text": [
      "C:\\Users\\Sanjeev\\anaconda3\\lib\\site-packages\\seaborn\\_decorators.py:36: FutureWarning: Pass the following variable as a keyword arg: x. From version 0.12, the only valid positional argument will be `data`, and passing other arguments without an explicit keyword will result in an error or misinterpretation.\n",
      "  warnings.warn(\n"
     ]
    },
    {
     "data": {
      "text/plain": [
       "<AxesSubplot:xlabel='Acc. Front'>"
      ]
     },
     "execution_count": 19,
     "metadata": {},
     "output_type": "execute_result"
    },
    {
     "data": {
      "image/png": "[encoded data removed]",
      "text/plain": [
       "<Figure size 432x288 with 1 Axes>"
      ]
     },
     "metadata": {
      "needs_background": "light"
     },
     "output_type": "display_data"
    }
   ],
   "source": [
    "sns.boxplot(new_df2['Acc. Front'])"
   ]
  },
  {
   "cell_type": "code",
   "execution_count": 20,
   "id": "2fac7503",
   "metadata": {},
   "outputs": [
    {
     "name": "stderr",
     "output_type": "stream",
     "text": [
      "C:\\Users\\Sanjeev\\anaconda3\\lib\\site-packages\\seaborn\\_decorators.py:36: FutureWarning: Pass the following variable as a keyword arg: x. From version 0.12, the only valid positional argument will be `data`, and passing other arguments without an explicit keyword will result in an error or misinterpretation.\n",
      "  warnings.warn(\n"
     ]
    },
    {
     "data": {
      "text/plain": [
       "<AxesSubplot:xlabel='Acc. Lat'>"
      ]
     },
     "execution_count": 20,
     "metadata": {},
     "output_type": "execute_result"
    },
    {
     "data": {
      "image/png": "[encoded data removed]",
      "text/plain": [
       "<Figure size 432x288 with 1 Axes>"
      ]
     },
     "metadata": {
      "needs_background": "light"
     },
     "output_type": "display_data"
    }
   ],
   "source": [
    "sns.boxplot(new_df2['Acc. Lat'])"
   ]
  },
  {
   "cell_type": "code",
   "execution_count": 21,
   "id": "af464282",
   "metadata": {},
   "outputs": [
    {
     "name": "stderr",
     "output_type": "stream",
     "text": [
      "C:\\Users\\Sanjeev\\anaconda3\\lib\\site-packages\\seaborn\\_decorators.py:36: FutureWarning: Pass the following variable as a keyword arg: x. From version 0.12, the only valid positional argument will be `data`, and passing other arguments without an explicit keyword will result in an error or misinterpretation.\n",
      "  warnings.warn(\n"
     ]
    },
    {
     "data": {
      "text/plain": [
       "<AxesSubplot:xlabel='Phase'>"
      ]
     },
     "execution_count": 21,
     "metadata": {},
     "output_type": "execute_result"
    },
    {
     "data": {
      "image/png": "[encoded data removed]",
      "text/plain": [
       "<Figure size 432x288 with 1 Axes>"
      ]
     },
     "metadata": {
      "needs_background": "light"
     },
     "output_type": "display_data"
    }
   ],
   "source": [
    "sns.boxplot(new_df2['Phase'])"
   ]
  },
  {
   "cell_type": "code",
   "execution_count": 22,
   "id": "9b68ddda",
   "metadata": {},
   "outputs": [
    {
     "name": "stderr",
     "output_type": "stream",
     "text": [
      "C:\\Users\\Sanjeev\\anaconda3\\lib\\site-packages\\seaborn\\_decorators.py:36: FutureWarning: Pass the following variable as a keyword arg: x. From version 0.12, the only valid positional argument will be `data`, and passing other arguments without an explicit keyword will result in an error or misinterpretation.\n",
      "  warnings.warn(\n"
     ]
    },
    {
     "data": {
      "text/plain": [
       "<AxesSubplot:xlabel='Freq'>"
      ]
     },
     "execution_count": 22,
     "metadata": {},
     "output_type": "execute_result"
    },
    {
     "data": {
      "image/png": "[encoded data removed]",
      "text/plain": [
       "<Figure size 432x288 with 1 Axes>"
      ]
     },
     "metadata": {
      "needs_background": "light"
     },
     "output_type": "display_data"
    }
   ],
   "source": [
    "sns.boxplot(new_df2['Freq'])"
   ]
  },
  {
   "cell_type": "code",
   "execution_count": 23,
   "id": "889874d1",
   "metadata": {},
   "outputs": [
    {
     "name": "stderr",
     "output_type": "stream",
     "text": [
      "C:\\Users\\Sanjeev\\anaconda3\\lib\\site-packages\\seaborn\\_decorators.py:36: FutureWarning: Pass the following variable as a keyword arg: x. From version 0.12, the only valid positional argument will be `data`, and passing other arguments without an explicit keyword will result in an error or misinterpretation.\n",
      "  warnings.warn(\n"
     ]
    },
    {
     "data": {
      "text/plain": [
       "<AxesSubplot:xlabel='RSSI'>"
      ]
     },
     "execution_count": 23,
     "metadata": {},
     "output_type": "execute_result"
    },
    {
     "data": {
      "image/png": "[encoded data removed]",
      "text/plain": [
       "<Figure size 432x288 with 1 Axes>"
      ]
     },
     "metadata": {
      "needs_background": "light"
     },
     "output_type": "display_data"
    }
   ],
   "source": [
    "sns.boxplot(new_df2['RSSI'])"
   ]
  },
  {
   "cell_type": "code",
   "execution_count": 24,
   "id": "197e5451",
   "metadata": {},
   "outputs": [],
   "source": [
    "# Most of the outliers are removed."
   ]
  },
  {
   "cell_type": "code",
   "execution_count": null,
   "id": "7ebf7230",
   "metadata": {},
   "outputs": [],
   "source": []
  },
  {
   "cell_type": "code",
   "execution_count": 25,
   "id": "11b1685f",
   "metadata": {},
   "outputs": [],
   "source": [
    "# split feature and labels.\n",
    "x,y = new_df2.iloc[:, :-1], new_df2.iloc[:, -1]"
   ]
  },
  {
   "cell_type": "code",
   "execution_count": 26,
   "id": "12d3f027",
   "metadata": {},
   "outputs": [],
   "source": [
    "# let's look the distribution of the features."
   ]
  },
  {
   "cell_type": "code",
   "execution_count": 27,
   "id": "55a93602",
   "metadata": {},
   "outputs": [
    {
     "data": {
      "image/png": "[encoded data removed]",
      "text/plain": [
       "<Figure size 1440x1800 with 8 Axes>"
      ]
     },
     "metadata": {},
     "output_type": "display_data"
    }
   ],
   "source": [
    "import warnings\n",
    "warnings.filterwarnings('ignore')\n",
    "# Let's see how data is distributed for every column\n",
    "import matplotlib.pyplot as plt\n",
    "import seaborn as sns\n",
    "plt.figure(figsize=(20,25),facecolor= 'white')\n",
    "plotnumber = 1\n",
    "for column in x:\n",
    "    if plotnumber <=8:\n",
    "        ax = plt.subplot(3,3,plotnumber)\n",
    "        sns.distplot(x[column])\n",
    "        plt.xlabel(column,fontsize= 20)\n",
    "    plotnumber+=1\n",
    "plt.show()"
   ]
  },
  {
   "cell_type": "code",
   "execution_count": 28,
   "id": "6e9ea71a",
   "metadata": {},
   "outputs": [],
   "source": [
    "# Now we will check if label data is balanced."
   ]
  },
  {
   "cell_type": "code",
   "execution_count": 29,
   "id": "aa93d802",
   "metadata": {},
   "outputs": [
    {
     "data": {
      "image/png": "[encoded data removed]",
      "text/plain": [
       "<Figure size 432x288 with 1 Axes>"
      ]
     },
     "metadata": {
      "needs_background": "light"
     },
     "output_type": "display_data"
    }
   ],
   "source": [
    "count_class = pd.value_counts(y, sort=True)\n",
    "count_class.plot(kind=  'bar')\n",
    "plt.title(\"Activity Label Distribution\")\n",
    "plt.xticks(range(4),LABELS)\n",
    "plt.xlabel('Activity Label')\n",
    "plt.ylabel('Frequence')\n",
    "plt.show()"
   ]
  },
  {
   "cell_type": "code",
   "execution_count": 30,
   "id": "45f1a352",
   "metadata": {},
   "outputs": [],
   "source": [
    "# This dataset is highly imbalaned."
   ]
  },
  {
   "cell_type": "code",
   "execution_count": 31,
   "id": "ede336da",
   "metadata": {},
   "outputs": [],
   "source": [
    "# To balance the dataset we use Upsampling"
   ]
  },
  {
   "cell_type": "code",
   "execution_count": 32,
   "id": "4774147d",
   "metadata": {},
   "outputs": [],
   "source": [
    "smk = SMOTETomek(random_state =42)\n",
    "x_res_up , y_res_up = smk.fit_resample(x,y)"
   ]
  },
  {
   "cell_type": "code",
   "execution_count": 33,
   "id": "8aeefebb",
   "metadata": {},
   "outputs": [],
   "source": [
    "# Now we have  a balanced dataset."
   ]
  },
  {
   "cell_type": "code",
   "execution_count": 34,
   "id": "18fc3f58",
   "metadata": {},
   "outputs": [
    {
     "data": {
      "image/png": "[encoded data removed]",
      "text/plain": [
       "<Figure size 432x288 with 1 Axes>"
      ]
     },
     "metadata": {
      "needs_background": "light"
     },
     "output_type": "display_data"
    }
   ],
   "source": [
    "count_class = pd.value_counts(y_res_up, sort=True)\n",
    "count_class.plot(kind=  'bar')\n",
    "plt.title(\"Activity Label Distribution\")\n",
    "plt.xticks(range(4),LABELS)\n",
    "plt.xlabel('Activity Label')\n",
    "plt.ylabel('Frequence')\n",
    "plt.show()"
   ]
  },
  {
   "cell_type": "code",
   "execution_count": 35,
   "id": "7e755f21",
   "metadata": {},
   "outputs": [],
   "source": [
    "# As we can see."
   ]
  },
  {
   "cell_type": "code",
   "execution_count": 36,
   "id": "19cf419e",
   "metadata": {},
   "outputs": [],
   "source": [
    "# Now we will scale our dataset by standard scaler."
   ]
  },
  {
   "cell_type": "code",
   "execution_count": 37,
   "id": "6c815dac",
   "metadata": {},
   "outputs": [],
   "source": [
    "sc = StandardScaler()\n",
    "x = sc.fit_transform(x)"
   ]
  },
  {
   "cell_type": "code",
   "execution_count": 38,
   "id": "90521ccd",
   "metadata": {},
   "outputs": [],
   "source": [
    "# Split our dataset into train  and test set\n",
    "x_train ,x_test ,y_train ,y_test = train_test_split(x,y,test_size=0.25,random_state =1234)"
   ]
  },
  {
   "cell_type": "code",
   "execution_count": 39,
   "id": "98b09d7f",
   "metadata": {},
   "outputs": [],
   "source": [
    "# Now we will train our logistic regression."
   ]
  },
  {
   "cell_type": "code",
   "execution_count": 40,
   "id": "3c93c5e9",
   "metadata": {},
   "outputs": [
    {
     "data": {
      "text/plain": [
       "LogisticRegression()"
      ]
     },
     "execution_count": 40,
     "metadata": {},
     "output_type": "execute_result"
    }
   ],
   "source": [
    "lr = LogisticRegression()\n",
    "lr.fit(x_train, y_train)"
   ]
  },
  {
   "cell_type": "code",
   "execution_count": 41,
   "id": "9159b2a6",
   "metadata": {},
   "outputs": [
    {
     "data": {
      "text/plain": [
       "0.7231642477367438"
      ]
     },
     "execution_count": 41,
     "metadata": {},
     "output_type": "execute_result"
    }
   ],
   "source": [
    "lr.score(x_test,y_test)"
   ]
  },
  {
   "cell_type": "code",
   "execution_count": 42,
   "id": "93e95a07",
   "metadata": {},
   "outputs": [
    {
     "data": {
      "text/plain": [
       "0.721918858073478"
      ]
     },
     "execution_count": 42,
     "metadata": {},
     "output_type": "execute_result"
    }
   ],
   "source": [
    "lr.score(x_train,y_train)"
   ]
  },
  {
   "cell_type": "code",
   "execution_count": 43,
   "id": "eac165dc",
   "metadata": {},
   "outputs": [],
   "source": [
    "# 71 % without hyperparameter tunning."
   ]
  },
  {
   "cell_type": "markdown",
   "id": "0faeb6af",
   "metadata": {},
   "source": [
    "### Now we will perform hyper parameter tunning in the model.\n",
    "\n",
    "- We are using lbfgs becuase this is the default one and may give us good fit, while 'sag', 'saga', are good for large  da.\n",
    "- We are using penalty l2 because lbfgs sag saga uses l2 and l1 is utilized by saga\n",
    "- Max_iter will be default becuase it is enough iteration for convergence\n",
    "- Multiclass will be auto becuase it is hard to predict which one is best.\n",
    "- verbose default.\n",
    "- Warm start reuse the previous solution to fit as initialization, otherwise erase the previous solution. We will make it T\n",
    "- n_jobs will be default for faster operations\n",
    "- L1 ration will be none\n",
    "- Taking c penalty value from 100 to 0.01 "
   ]
  },
  {
   "cell_type": "code",
   "execution_count": 44,
   "id": "6c9d0507",
   "metadata": {},
   "outputs": [],
   "source": [
    "model = LogisticRegression()\n",
    "solvers = ['lbfgs', 'sag','saga']\n",
    "warm_start = ['True']\n",
    "penalty = ['l2', 'l1','none']\n",
    "c_values = [100, 10, 1.0, 0.1, 0.01]\n",
    "# define grid search\n",
    "grid = dict(solver=solvers,penalty=penalty,C=c_values, warm_start=warm_start)\n",
    "cv = RepeatedStratifiedKFold(n_splits=10, n_repeats=3, random_state=1)\n",
    "grid_search = GridSearchCV(estimator=model, param_grid=grid, n_jobs=-1, cv=cv, scoring='accuracy',error_score=0)\n",
    "grid_result = grid_search.fit(x_train, y_train)"
   ]
  },
  {
   "cell_type": "code",
   "execution_count": 45,
   "id": "b7e4231e",
   "metadata": {},
   "outputs": [
    {
     "name": "stdout",
     "output_type": "stream",
     "text": [
      "Best: 0.723492 using {'C': 10, 'penalty': 'l2', 'solver': 'sag', 'warm_start': 'True'}\n",
      "0.723460 (0.003629) with: {'C': 100, 'penalty': 'l2', 'solver': 'lbfgs', 'warm_start': 'True'}\n",
      "0.723468 (0.003548) with: {'C': 100, 'penalty': 'l2', 'solver': 'sag', 'warm_start': 'True'}\n",
      "0.723460 (0.003555) with: {'C': 100, 'penalty': 'l2', 'solver': 'saga', 'warm_start': 'True'}\n",
      "0.000000 (0.000000) with: {'C': 100, 'penalty': 'l1', 'solver': 'lbfgs', 'warm_start': 'True'}\n",
      "0.000000 (0.000000) with: {'C': 100, 'penalty': 'l1', 'solver': 'sag', 'warm_start': 'True'}\n",
      "0.723460 (0.003555) with: {'C': 100, 'penalty': 'l1', 'solver': 'saga', 'warm_start': 'True'}\n",
      "0.723348 (0.003621) with: {'C': 100, 'penalty': 'none', 'solver': 'lbfgs', 'warm_start': 'True'}\n",
      "0.723444 (0.003561) with: {'C': 100, 'penalty': 'none', 'solver': 'sag', 'warm_start': 'True'}\n",
      "0.723460 (0.003555) with: {'C': 100, 'penalty': 'none', 'solver': 'saga', 'warm_start': 'True'}\n",
      "0.723108 (0.003614) with: {'C': 10, 'penalty': 'l2', 'solver': 'lbfgs', 'warm_start': 'True'}\n",
      "0.723492 (0.003559) with: {'C': 10, 'penalty': 'l2', 'solver': 'sag', 'warm_start': 'True'}\n",
      "0.723460 (0.003584) with: {'C': 10, 'penalty': 'l2', 'solver': 'saga', 'warm_start': 'True'}\n",
      "0.000000 (0.000000) with: {'C': 10, 'penalty': 'l1', 'solver': 'lbfgs', 'warm_start': 'True'}\n",
      "0.000000 (0.000000) with: {'C': 10, 'penalty': 'l1', 'solver': 'sag', 'warm_start': 'True'}\n",
      "0.723444 (0.003543) with: {'C': 10, 'penalty': 'l1', 'solver': 'saga', 'warm_start': 'True'}\n",
      "0.723348 (0.003621) with: {'C': 10, 'penalty': 'none', 'solver': 'lbfgs', 'warm_start': 'True'}\n",
      "0.723460 (0.003555) with: {'C': 10, 'penalty': 'none', 'solver': 'sag', 'warm_start': 'True'}\n",
      "0.723460 (0.003555) with: {'C': 10, 'penalty': 'none', 'solver': 'saga', 'warm_start': 'True'}\n",
      "0.722789 (0.003188) with: {'C': 1.0, 'penalty': 'l2', 'solver': 'lbfgs', 'warm_start': 'True'}\n",
      "0.722558 (0.003466) with: {'C': 1.0, 'penalty': 'l2', 'solver': 'sag', 'warm_start': 'True'}\n",
      "0.722558 (0.003452) with: {'C': 1.0, 'penalty': 'l2', 'solver': 'saga', 'warm_start': 'True'}\n",
      "0.000000 (0.000000) with: {'C': 1.0, 'penalty': 'l1', 'solver': 'lbfgs', 'warm_start': 'True'}\n",
      "0.000000 (0.000000) with: {'C': 1.0, 'penalty': 'l1', 'solver': 'sag', 'warm_start': 'True'}\n",
      "0.723348 (0.003326) with: {'C': 1.0, 'penalty': 'l1', 'solver': 'saga', 'warm_start': 'True'}\n",
      "0.723348 (0.003621) with: {'C': 1.0, 'penalty': 'none', 'solver': 'lbfgs', 'warm_start': 'True'}\n",
      "0.723460 (0.003563) with: {'C': 1.0, 'penalty': 'none', 'solver': 'sag', 'warm_start': 'True'}\n",
      "0.723460 (0.003555) with: {'C': 1.0, 'penalty': 'none', 'solver': 'saga', 'warm_start': 'True'}\n",
      "0.710120 (0.003864) with: {'C': 0.1, 'penalty': 'l2', 'solver': 'lbfgs', 'warm_start': 'True'}\n",
      "0.709633 (0.003813) with: {'C': 0.1, 'penalty': 'l2', 'solver': 'sag', 'warm_start': 'True'}\n",
      "0.709593 (0.003795) with: {'C': 0.1, 'penalty': 'l2', 'solver': 'saga', 'warm_start': 'True'}\n",
      "0.000000 (0.000000) with: {'C': 0.1, 'penalty': 'l1', 'solver': 'lbfgs', 'warm_start': 'True'}\n",
      "0.000000 (0.000000) with: {'C': 0.1, 'penalty': 'l1', 'solver': 'sag', 'warm_start': 'True'}\n",
      "0.717983 (0.003815) with: {'C': 0.1, 'penalty': 'l1', 'solver': 'saga', 'warm_start': 'True'}\n",
      "0.723348 (0.003621) with: {'C': 0.1, 'penalty': 'none', 'solver': 'lbfgs', 'warm_start': 'True'}\n",
      "0.723468 (0.003554) with: {'C': 0.1, 'penalty': 'none', 'solver': 'sag', 'warm_start': 'True'}\n",
      "0.723460 (0.003555) with: {'C': 0.1, 'penalty': 'none', 'solver': 'saga', 'warm_start': 'True'}\n",
      "0.711221 (0.003985) with: {'C': 0.01, 'penalty': 'l2', 'solver': 'lbfgs', 'warm_start': 'True'}\n",
      "0.711261 (0.003959) with: {'C': 0.01, 'penalty': 'l2', 'solver': 'sag', 'warm_start': 'True'}\n",
      "0.711245 (0.003970) with: {'C': 0.01, 'penalty': 'l2', 'solver': 'saga', 'warm_start': 'True'}\n",
      "0.000000 (0.000000) with: {'C': 0.01, 'penalty': 'l1', 'solver': 'lbfgs', 'warm_start': 'True'}\n",
      "0.000000 (0.000000) with: {'C': 0.01, 'penalty': 'l1', 'solver': 'sag', 'warm_start': 'True'}\n",
      "0.706487 (0.000786) with: {'C': 0.01, 'penalty': 'l1', 'solver': 'saga', 'warm_start': 'True'}\n",
      "0.723348 (0.003621) with: {'C': 0.01, 'penalty': 'none', 'solver': 'lbfgs', 'warm_start': 'True'}\n",
      "0.723484 (0.003517) with: {'C': 0.01, 'penalty': 'none', 'solver': 'sag', 'warm_start': 'True'}\n",
      "0.723460 (0.003555) with: {'C': 0.01, 'penalty': 'none', 'solver': 'saga', 'warm_start': 'True'}\n"
     ]
    }
   ],
   "source": [
    "print(\"Best: %f using %s\" % (grid_result.best_score_, grid_result.best_params_))\n",
    "means = grid_result.cv_results_['mean_test_score']\n",
    "stds = grid_result.cv_results_['std_test_score']\n",
    "params = grid_result.cv_results_['params']\n",
    "for mean, stdev, param in zip(means, stds, params):\n",
    "    print(\"%f (%f) with: %r\" % (mean, stdev, param))"
   ]
  },
  {
   "cell_type": "code",
   "execution_count": 46,
   "id": "00cdd16f",
   "metadata": {},
   "outputs": [
    {
     "data": {
      "text/plain": [
       "{'C': 10, 'penalty': 'l2', 'solver': 'sag', 'warm_start': 'True'}"
      ]
     },
     "execution_count": 46,
     "metadata": {},
     "output_type": "execute_result"
    }
   ],
   "source": [
    "grid_result.best_params_"
   ]
  },
  {
   "cell_type": "code",
   "execution_count": 47,
   "id": "6482c233",
   "metadata": {},
   "outputs": [],
   "source": [
    "new_lgr = LogisticRegression(C= 10, penalty= 'l2', solver= 'sag', warm_start=True)"
   ]
  },
  {
   "cell_type": "code",
   "execution_count": 48,
   "id": "0b11e2ff",
   "metadata": {},
   "outputs": [
    {
     "data": {
      "text/plain": [
       "LogisticRegression(C=10, solver='sag', warm_start=True)"
      ]
     },
     "execution_count": 48,
     "metadata": {},
     "output_type": "execute_result"
    }
   ],
   "source": [
    "new_lgr.fit(x_train ,y_train)\n"
   ]
  },
  {
   "cell_type": "code",
   "execution_count": 49,
   "id": "131757d5",
   "metadata": {},
   "outputs": [],
   "source": [
    "# As we can see our model accuray has improved but very little."
   ]
  },
  {
   "cell_type": "code",
   "execution_count": 50,
   "id": "e84c049c",
   "metadata": {},
   "outputs": [
    {
     "data": {
      "text/plain": [
       "0.7269004167265412"
      ]
     },
     "execution_count": 50,
     "metadata": {},
     "output_type": "execute_result"
    }
   ],
   "source": [
    "new_lgr.score(x_test ,y_test)"
   ]
  },
  {
   "cell_type": "code",
   "execution_count": 51,
   "id": "a9f4dce0",
   "metadata": {},
   "outputs": [],
   "source": [
    "y_pred = new_lgr.predict(x_test)\n"
   ]
  },
  {
   "cell_type": "code",
   "execution_count": 52,
   "id": "b84a0c85",
   "metadata": {},
   "outputs": [
    {
     "data": {
      "text/plain": [
       "0.7269004167265412"
      ]
     },
     "execution_count": 52,
     "metadata": {},
     "output_type": "execute_result"
    }
   ],
   "source": [
    "accuracy_score(y_test, y_pred)"
   ]
  },
  {
   "cell_type": "code",
   "execution_count": null,
   "id": "11c8a312",
   "metadata": {},
   "outputs": [],
   "source": []
  },
  {
   "cell_type": "markdown",
   "id": "e9c3a933",
   "metadata": {},
   "source": [
    "## So by using this hyperparameter our model has not imroved its accuracy significantly."
   ]
  },
  {
   "cell_type": "code",
   "execution_count": 53,
   "id": "e14b0964",
   "metadata": {},
   "outputs": [],
   "source": [
    "# Import this model into pickle file\n"
   ]
  },
  {
   "cell_type": "code",
   "execution_count": 54,
   "id": "7f5cd20e",
   "metadata": {},
   "outputs": [],
   "source": [
    "pickle.dump(new_lgr, open('logistic_wh.pkl','wb'))"
   ]
  },
  {
   "cell_type": "code",
   "execution_count": 55,
   "id": "4a64040d",
   "metadata": {},
   "outputs": [],
   "source": [
    "model = pickle.load(open('logistic_wh.pkl','rb'))"
   ]
  },
  {
   "cell_type": "code",
   "execution_count": null,
   "id": "42c8d4be",
   "metadata": {},
   "outputs": [],
   "source": []
  },
  {
   "cell_type": "code",
   "execution_count": 56,
   "id": "f0da5b5d",
   "metadata": {},
   "outputs": [],
   "source": [
    "# Save this cleaned dataframe for fututre use."
   ]
  },
  {
   "cell_type": "code",
   "execution_count": 57,
   "id": "9ab0a0a0",
   "metadata": {},
   "outputs": [
    {
     "data": {
      "text/html": [
       "<div>\n",
       "<style scoped>\n",
       "    .dataframe tbody tr th:only-of-type {\n",
       "        vertical-align: middle;\n",
       "    }\n",
       "\n",
       "    .dataframe tbody tr th {\n",
       "        vertical-align: top;\n",
       "    }\n",
       "\n",
       "    .dataframe thead th {\n",
       "        text-align: right;\n",
       "    }\n",
       "</style>\n",
       "<table border=\"1\" class=\"dataframe\">\n",
       "  <thead>\n",
       "    <tr style=\"text-align: right;\">\n",
       "      <th></th>\n",
       "      <th>Time</th>\n",
       "      <th>Acc. Front</th>\n",
       "      <th>Acc. vert</th>\n",
       "      <th>Acc. Lat</th>\n",
       "      <th>id</th>\n",
       "      <th>RSSI</th>\n",
       "      <th>Phase</th>\n",
       "      <th>Freq</th>\n",
       "      <th>Activity Label</th>\n",
       "    </tr>\n",
       "  </thead>\n",
       "  <tbody>\n",
       "    <tr>\n",
       "      <th>0</th>\n",
       "      <td>108.700000</td>\n",
       "      <td>0.31893</td>\n",
       "      <td>-0.025263</td>\n",
       "      <td>-0.504010</td>\n",
       "      <td>1</td>\n",
       "      <td>-62.5</td>\n",
       "      <td>0.90045</td>\n",
       "      <td>921.25</td>\n",
       "      <td>1</td>\n",
       "    </tr>\n",
       "    <tr>\n",
       "      <th>1</th>\n",
       "      <td>108.730000</td>\n",
       "      <td>0.31893</td>\n",
       "      <td>-0.025263</td>\n",
       "      <td>-0.504010</td>\n",
       "      <td>1</td>\n",
       "      <td>-62.5</td>\n",
       "      <td>0.90045</td>\n",
       "      <td>921.25</td>\n",
       "      <td>1</td>\n",
       "    </tr>\n",
       "    <tr>\n",
       "      <th>2</th>\n",
       "      <td>108.730000</td>\n",
       "      <td>0.31893</td>\n",
       "      <td>-0.025263</td>\n",
       "      <td>-0.504010</td>\n",
       "      <td>1</td>\n",
       "      <td>-62.5</td>\n",
       "      <td>0.90045</td>\n",
       "      <td>921.25</td>\n",
       "      <td>1</td>\n",
       "    </tr>\n",
       "    <tr>\n",
       "      <th>3</th>\n",
       "      <td>108.730000</td>\n",
       "      <td>0.31893</td>\n",
       "      <td>-0.025263</td>\n",
       "      <td>-0.504010</td>\n",
       "      <td>1</td>\n",
       "      <td>-62.5</td>\n",
       "      <td>0.90045</td>\n",
       "      <td>921.25</td>\n",
       "      <td>1</td>\n",
       "    </tr>\n",
       "    <tr>\n",
       "      <th>4</th>\n",
       "      <td>108.750000</td>\n",
       "      <td>0.31893</td>\n",
       "      <td>-0.025263</td>\n",
       "      <td>-0.504010</td>\n",
       "      <td>1</td>\n",
       "      <td>-62.5</td>\n",
       "      <td>0.90045</td>\n",
       "      <td>921.25</td>\n",
       "      <td>1</td>\n",
       "    </tr>\n",
       "    <tr>\n",
       "      <th>...</th>\n",
       "      <td>...</td>\n",
       "      <td>...</td>\n",
       "      <td>...</td>\n",
       "      <td>...</td>\n",
       "      <td>...</td>\n",
       "      <td>...</td>\n",
       "      <td>...</td>\n",
       "      <td>...</td>\n",
       "      <td>...</td>\n",
       "    </tr>\n",
       "    <tr>\n",
       "      <th>156651</th>\n",
       "      <td>442.750000</td>\n",
       "      <td>1.12800</td>\n",
       "      <td>0.904870</td>\n",
       "      <td>0.054735</td>\n",
       "      <td>3</td>\n",
       "      <td>-55.5</td>\n",
       "      <td>5.56220</td>\n",
       "      <td>924.25</td>\n",
       "      <td>4</td>\n",
       "    </tr>\n",
       "    <tr>\n",
       "      <th>156652</th>\n",
       "      <td>235.225455</td>\n",
       "      <td>0.60034</td>\n",
       "      <td>0.181430</td>\n",
       "      <td>-0.082102</td>\n",
       "      <td>1</td>\n",
       "      <td>-58.5</td>\n",
       "      <td>2.37000</td>\n",
       "      <td>922.25</td>\n",
       "      <td>4</td>\n",
       "    </tr>\n",
       "    <tr>\n",
       "      <th>156653</th>\n",
       "      <td>174.750000</td>\n",
       "      <td>0.43619</td>\n",
       "      <td>0.055119</td>\n",
       "      <td>-0.116310</td>\n",
       "      <td>1</td>\n",
       "      <td>-60.0</td>\n",
       "      <td>1.60450</td>\n",
       "      <td>921.75</td>\n",
       "      <td>4</td>\n",
       "    </tr>\n",
       "    <tr>\n",
       "      <th>156654</th>\n",
       "      <td>228.100000</td>\n",
       "      <td>0.56517</td>\n",
       "      <td>0.169950</td>\n",
       "      <td>-0.082102</td>\n",
       "      <td>1</td>\n",
       "      <td>-59.0</td>\n",
       "      <td>2.23040</td>\n",
       "      <td>922.25</td>\n",
       "      <td>4</td>\n",
       "    </tr>\n",
       "    <tr>\n",
       "      <th>156655</th>\n",
       "      <td>149.000000</td>\n",
       "      <td>0.38928</td>\n",
       "      <td>0.032153</td>\n",
       "      <td>-0.139120</td>\n",
       "      <td>2</td>\n",
       "      <td>-61.0</td>\n",
       "      <td>1.31920</td>\n",
       "      <td>921.25</td>\n",
       "      <td>4</td>\n",
       "    </tr>\n",
       "  </tbody>\n",
       "</table>\n",
       "<p>156656 rows × 9 columns</p>\n",
       "</div>"
      ],
      "text/plain": [
       "              Time  Acc. Front  Acc. vert  Acc. Lat  id  RSSI    Phase  \\\n",
       "0       108.700000     0.31893  -0.025263 -0.504010   1 -62.5  0.90045   \n",
       "1       108.730000     0.31893  -0.025263 -0.504010   1 -62.5  0.90045   \n",
       "2       108.730000     0.31893  -0.025263 -0.504010   1 -62.5  0.90045   \n",
       "3       108.730000     0.31893  -0.025263 -0.504010   1 -62.5  0.90045   \n",
       "4       108.750000     0.31893  -0.025263 -0.504010   1 -62.5  0.90045   \n",
       "...            ...         ...        ...       ...  ..   ...      ...   \n",
       "156651  442.750000     1.12800   0.904870  0.054735   3 -55.5  5.56220   \n",
       "156652  235.225455     0.60034   0.181430 -0.082102   1 -58.5  2.37000   \n",
       "156653  174.750000     0.43619   0.055119 -0.116310   1 -60.0  1.60450   \n",
       "156654  228.100000     0.56517   0.169950 -0.082102   1 -59.0  2.23040   \n",
       "156655  149.000000     0.38928   0.032153 -0.139120   2 -61.0  1.31920   \n",
       "\n",
       "          Freq  Activity Label  \n",
       "0       921.25               1  \n",
       "1       921.25               1  \n",
       "2       921.25               1  \n",
       "3       921.25               1  \n",
       "4       921.25               1  \n",
       "...        ...             ...  \n",
       "156651  924.25               4  \n",
       "156652  922.25               4  \n",
       "156653  921.75               4  \n",
       "156654  922.25               4  \n",
       "156655  921.25               4  \n",
       "\n",
       "[156656 rows x 9 columns]"
      ]
     },
     "execution_count": 57,
     "metadata": {},
     "output_type": "execute_result"
    }
   ],
   "source": [
    "real_data = pd.concat([x_res_up, y_res_up],axis=1)\n",
    "real_data.to_csv('real_data.csv',index=False )\n",
    "df = pd.read_csv('real_data.csv')\n",
    "df"
   ]
  },
  {
   "cell_type": "code",
   "execution_count": null,
   "id": "935f16ab",
   "metadata": {},
   "outputs": [],
   "source": []
  },
  {
   "cell_type": "markdown",
   "id": "9018dba4",
   "metadata": {},
   "source": [
    "# Now we classify on Support Vector Machine"
   ]
  },
  {
   "cell_type": "code",
   "execution_count": 6,
   "id": "4bb431b2",
   "metadata": {},
   "outputs": [],
   "source": [
    "df = pd.read_csv('real_data.csv')\n",
    "x,y = df.iloc[:, :-1], df.iloc[:, -1]\n",
    "x_train ,x_test, y_train ,y_test = train_test_split(x,y,test_size=0.25,random_state = 1234)"
   ]
  },
  {
   "cell_type": "code",
   "execution_count": 7,
   "id": "b608f270",
   "metadata": {},
   "outputs": [],
   "source": [
    "\n",
    "from sklearn.svm import SVC\n",
    "svc = SVC()\n"
   ]
  },
  {
   "cell_type": "code",
   "execution_count": 8,
   "id": "b9ddd4c9",
   "metadata": {},
   "outputs": [],
   "source": [
    "# Now we will train our data without hyperpaameter tunning with default values."
   ]
  },
  {
   "cell_type": "code",
   "execution_count": 9,
   "id": "3e276ee8",
   "metadata": {},
   "outputs": [
    {
     "data": {
      "text/plain": [
       "SVC()"
      ]
     },
     "execution_count": 9,
     "metadata": {},
     "output_type": "execute_result"
    }
   ],
   "source": [
    "svc.fit(x_train, y_train)"
   ]
  },
  {
   "cell_type": "code",
   "execution_count": 61,
   "id": "658b6cb9",
   "metadata": {},
   "outputs": [
    {
     "data": {
      "text/plain": [
       "0.7957081956219764"
      ]
     },
     "execution_count": 61,
     "metadata": {},
     "output_type": "execute_result"
    }
   ],
   "source": [
    "svc.score(x_train, y_train)"
   ]
  },
  {
   "cell_type": "code",
   "execution_count": 62,
   "id": "550fe2e0",
   "metadata": {},
   "outputs": [],
   "source": [
    "y_pred = svc.predict(x_test)"
   ]
  },
  {
   "cell_type": "code",
   "execution_count": 63,
   "id": "d915a6d9",
   "metadata": {},
   "outputs": [
    {
     "data": {
      "text/plain": [
       "0.7926426210662452"
      ]
     },
     "execution_count": 63,
     "metadata": {},
     "output_type": "execute_result"
    }
   ],
   "source": [
    "accuracy_score(y_test, y_pred)"
   ]
  },
  {
   "cell_type": "code",
   "execution_count": 10,
   "id": "eea8c37c",
   "metadata": {},
   "outputs": [],
   "source": [
    "pickle.dump(svc, open('svc_wiht.pkl','wb'))"
   ]
  },
  {
   "cell_type": "code",
   "execution_count": 65,
   "id": "280477f2",
   "metadata": {},
   "outputs": [],
   "source": [
    "# We do hyperparameter tunning on suppot vector classifier."
   ]
  },
  {
   "cell_type": "markdown",
   "id": "a4d6a73b",
   "metadata": {},
   "source": [
    "- C:- Regularization parameters .The strength of the regularization is inversely proportional to C. Must be strictly positive. The penalty is a squared l2 penalty.\n",
    "- kernel{‘linear’, ‘poly’, ‘rbf’, ‘sigmoid'} default is 'rbf'.\n",
    "- coef0: Only useful in poly  and sigmoid.\n",
    "-  shrinking : True When to use the shrinking heuristic\n",
    "- probability, tol: will be default.\n",
    "- cache_size:- speficies the size of the kernel in MB.\n",
    "- class_weight:= Set the parameter C of class i to class_weight[i]*C for SVC. If not given, all classes are supposed to have weight one. The “balanced” mode uses the values of y to automatically adjust weights inversely proportional to class frequencies in the input data as n_samples / (n_classes * np.bincount(y)).\n",
    "\n",
    "- verbose:- Enable verbose output\n",
    "- max_iter: default(hard limit on iteration with solver.)\n",
    "- decision shape functiion will be default.\n",
    "- break ties = True\n",
    "- random_state = 42"
   ]
  },
  {
   "cell_type": "code",
   "execution_count": 66,
   "id": "2eda106c",
   "metadata": {},
   "outputs": [],
   "source": [
    "params = {\n",
    "    \"C\":range(1,100,1),\n",
    "    \"kernel\":['linear', 'poly', 'rbf', 'sigmoid'],\n",
    "    \"gamma\":['scale', 'auto'],\n",
    "    \"break_ties\":['True']\n",
    "              \n",
    "}"
   ]
  },
  {
   "cell_type": "code",
   "execution_count": 67,
   "id": "01a432ef",
   "metadata": {},
   "outputs": [],
   "source": [
    "grid_svc = GridSearchCV(svc, param_grid=params, cv=5)"
   ]
  },
  {
   "cell_type": "code",
   "execution_count": null,
   "id": "69121e66",
   "metadata": {},
   "outputs": [],
   "source": [
    "grid_svc.fit(x_train, y_train)"
   ]
  },
  {
   "cell_type": "code",
   "execution_count": null,
   "id": "aa0fa0cc",
   "metadata": {},
   "outputs": [],
   "source": []
  },
  {
   "cell_type": "code",
   "execution_count": 12,
   "id": "ea27ce64",
   "metadata": {},
   "outputs": [],
   "source": [
    "import pandas as pd"
   ]
  },
  {
   "cell_type": "code",
   "execution_count": 15,
   "id": "2c21d188",
   "metadata": {},
   "outputs": [],
   "source": [
    "df = pd.read_csv('real_data.csv')"
   ]
  },
  {
   "cell_type": "code",
   "execution_count": 16,
   "id": "86479114",
   "metadata": {},
   "outputs": [
    {
     "data": {
      "text/html": [
       "<div>\n",
       "<style scoped>\n",
       "    .dataframe tbody tr th:only-of-type {\n",
       "        vertical-align: middle;\n",
       "    }\n",
       "\n",
       "    .dataframe tbody tr th {\n",
       "        vertical-align: top;\n",
       "    }\n",
       "\n",
       "    .dataframe thead th {\n",
       "        text-align: right;\n",
       "    }\n",
       "</style>\n",
       "<table border=\"1\" class=\"dataframe\">\n",
       "  <thead>\n",
       "    <tr style=\"text-align: right;\">\n",
       "      <th></th>\n",
       "      <th>Time</th>\n",
       "      <th>Acc. Front</th>\n",
       "      <th>Acc. vert</th>\n",
       "      <th>Acc. Lat</th>\n",
       "      <th>id</th>\n",
       "      <th>RSSI</th>\n",
       "      <th>Phase</th>\n",
       "      <th>Freq</th>\n",
       "      <th>Activity Label</th>\n",
       "    </tr>\n",
       "  </thead>\n",
       "  <tbody>\n",
       "    <tr>\n",
       "      <th>0</th>\n",
       "      <td>108.70</td>\n",
       "      <td>0.31893</td>\n",
       "      <td>-0.025263</td>\n",
       "      <td>-0.50401</td>\n",
       "      <td>1</td>\n",
       "      <td>-62.5</td>\n",
       "      <td>0.90045</td>\n",
       "      <td>921.25</td>\n",
       "      <td>1</td>\n",
       "    </tr>\n",
       "    <tr>\n",
       "      <th>1</th>\n",
       "      <td>108.73</td>\n",
       "      <td>0.31893</td>\n",
       "      <td>-0.025263</td>\n",
       "      <td>-0.50401</td>\n",
       "      <td>1</td>\n",
       "      <td>-62.5</td>\n",
       "      <td>0.90045</td>\n",
       "      <td>921.25</td>\n",
       "      <td>1</td>\n",
       "    </tr>\n",
       "    <tr>\n",
       "      <th>2</th>\n",
       "      <td>108.73</td>\n",
       "      <td>0.31893</td>\n",
       "      <td>-0.025263</td>\n",
       "      <td>-0.50401</td>\n",
       "      <td>1</td>\n",
       "      <td>-62.5</td>\n",
       "      <td>0.90045</td>\n",
       "      <td>921.25</td>\n",
       "      <td>1</td>\n",
       "    </tr>\n",
       "    <tr>\n",
       "      <th>3</th>\n",
       "      <td>108.73</td>\n",
       "      <td>0.31893</td>\n",
       "      <td>-0.025263</td>\n",
       "      <td>-0.50401</td>\n",
       "      <td>1</td>\n",
       "      <td>-62.5</td>\n",
       "      <td>0.90045</td>\n",
       "      <td>921.25</td>\n",
       "      <td>1</td>\n",
       "    </tr>\n",
       "    <tr>\n",
       "      <th>4</th>\n",
       "      <td>108.75</td>\n",
       "      <td>0.31893</td>\n",
       "      <td>-0.025263</td>\n",
       "      <td>-0.50401</td>\n",
       "      <td>1</td>\n",
       "      <td>-62.5</td>\n",
       "      <td>0.90045</td>\n",
       "      <td>921.25</td>\n",
       "      <td>1</td>\n",
       "    </tr>\n",
       "  </tbody>\n",
       "</table>\n",
       "</div>"
      ],
      "text/plain": [
       "     Time  Acc. Front  Acc. vert  Acc. Lat  id  RSSI    Phase    Freq  \\\n",
       "0  108.70     0.31893  -0.025263  -0.50401   1 -62.5  0.90045  921.25   \n",
       "1  108.73     0.31893  -0.025263  -0.50401   1 -62.5  0.90045  921.25   \n",
       "2  108.73     0.31893  -0.025263  -0.50401   1 -62.5  0.90045  921.25   \n",
       "3  108.73     0.31893  -0.025263  -0.50401   1 -62.5  0.90045  921.25   \n",
       "4  108.75     0.31893  -0.025263  -0.50401   1 -62.5  0.90045  921.25   \n",
       "\n",
       "   Activity Label  \n",
       "0               1  \n",
       "1               1  \n",
       "2               1  \n",
       "3               1  \n",
       "4               1  "
      ]
     },
     "execution_count": 16,
     "metadata": {},
     "output_type": "execute_result"
    }
   ],
   "source": [
    "df.head()  "
   ]
  },
  {
   "cell_type": "code",
   "execution_count": 17,
   "id": "0a04ab32",
   "metadata": {},
   "outputs": [
    {
     "data": {
      "text/plain": [
       "108.7"
      ]
     },
     "execution_count": 17,
     "metadata": {},
     "output_type": "execute_result"
    }
   ],
   "source": [
    "df.Time.min()"
   ]
  },
  {
   "cell_type": "code",
   "execution_count": null,
   "id": "00674836",
   "metadata": {},
   "outputs": [],
   "source": []
  }
 ],
 "metadata": {
  "kernelspec": {
   "display_name": "Python 3 (ipykernel)",
   "language": "python",
   "name": "python3"
  },
  "language_info": {
   "codemirror_mode": {
    "name": "ipython",
    "version": 3
   },
   "file_extension": ".py",
   "mimetype": "text/x-python",
   "name": "python",
   "nbconvert_exporter": "python",
   "pygments_lexer": "ipython3",
   "version": "3.8.5"
  }
 },
 "nbformat": 4,
 "nbformat_minor": 5
}
