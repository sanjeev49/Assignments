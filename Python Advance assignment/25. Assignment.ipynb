{
 "cells": [
  {
   "cell_type": "markdown",
   "id": "d19f06c2",
   "metadata": {},
   "source": [
    "### Answer 1"
   ]
  },
  {
   "attachments": {},
   "cell_type": "markdown",
   "id": "0d0d23d3",
   "metadata": {},
   "source": [
    "\n",
    "The essential difference is the presence of the index: while the Numpy Array has an implicitly defined integer index used to access the values, the Pandas Series has an explicitly defined index associated with the values."
   ]
  },
  {
   "cell_type": "code",
   "execution_count": 4,
   "id": "e1f39e96",
   "metadata": {},
   "outputs": [],
   "source": [
    "# To convert numpy array into pandas dataframe we can use this method.\n",
    "import pandas as pd\n",
    "import numpy as np\n",
    "\n",
    "df = pd.DataFrame(np.random.randn(1000, 4), columns = ['a','b','c','d'])"
   ]
  },
  {
   "cell_type": "code",
   "execution_count": 6,
   "id": "83f1de67",
   "metadata": {},
   "outputs": [
    {
     "data": {
      "text/html": [
       "<div>\n",
       "<style scoped>\n",
       "    .dataframe tbody tr th:only-of-type {\n",
       "        vertical-align: middle;\n",
       "    }\n",
       "\n",
       "    .dataframe tbody tr th {\n",
       "        vertical-align: top;\n",
       "    }\n",
       "\n",
       "    .dataframe thead th {\n",
       "        text-align: right;\n",
       "    }\n",
       "</style>\n",
       "<table border=\"1\" class=\"dataframe\">\n",
       "  <thead>\n",
       "    <tr style=\"text-align: right;\">\n",
       "      <th></th>\n",
       "      <th>a</th>\n",
       "      <th>b</th>\n",
       "      <th>c</th>\n",
       "      <th>d</th>\n",
       "    </tr>\n",
       "  </thead>\n",
       "  <tbody>\n",
       "    <tr>\n",
       "      <th>0</th>\n",
       "      <td>0.424548</td>\n",
       "      <td>1.215504</td>\n",
       "      <td>-0.319773</td>\n",
       "      <td>0.965904</td>\n",
       "    </tr>\n",
       "    <tr>\n",
       "      <th>1</th>\n",
       "      <td>1.564406</td>\n",
       "      <td>-0.400115</td>\n",
       "      <td>-0.142689</td>\n",
       "      <td>1.148930</td>\n",
       "    </tr>\n",
       "    <tr>\n",
       "      <th>2</th>\n",
       "      <td>0.258605</td>\n",
       "      <td>-0.254315</td>\n",
       "      <td>1.079605</td>\n",
       "      <td>-0.056868</td>\n",
       "    </tr>\n",
       "    <tr>\n",
       "      <th>3</th>\n",
       "      <td>-0.745317</td>\n",
       "      <td>1.020861</td>\n",
       "      <td>-0.003288</td>\n",
       "      <td>0.528578</td>\n",
       "    </tr>\n",
       "    <tr>\n",
       "      <th>4</th>\n",
       "      <td>-1.247818</td>\n",
       "      <td>-1.029523</td>\n",
       "      <td>1.263105</td>\n",
       "      <td>-0.371355</td>\n",
       "    </tr>\n",
       "    <tr>\n",
       "      <th>...</th>\n",
       "      <td>...</td>\n",
       "      <td>...</td>\n",
       "      <td>...</td>\n",
       "      <td>...</td>\n",
       "    </tr>\n",
       "    <tr>\n",
       "      <th>995</th>\n",
       "      <td>-0.123213</td>\n",
       "      <td>-0.044471</td>\n",
       "      <td>-0.534333</td>\n",
       "      <td>-0.547322</td>\n",
       "    </tr>\n",
       "    <tr>\n",
       "      <th>996</th>\n",
       "      <td>-0.267189</td>\n",
       "      <td>-0.126387</td>\n",
       "      <td>-0.605157</td>\n",
       "      <td>-0.163048</td>\n",
       "    </tr>\n",
       "    <tr>\n",
       "      <th>997</th>\n",
       "      <td>-0.675428</td>\n",
       "      <td>0.477880</td>\n",
       "      <td>-0.459564</td>\n",
       "      <td>-0.084622</td>\n",
       "    </tr>\n",
       "    <tr>\n",
       "      <th>998</th>\n",
       "      <td>-0.744657</td>\n",
       "      <td>2.174893</td>\n",
       "      <td>0.460864</td>\n",
       "      <td>-0.284825</td>\n",
       "    </tr>\n",
       "    <tr>\n",
       "      <th>999</th>\n",
       "      <td>0.084590</td>\n",
       "      <td>-0.349825</td>\n",
       "      <td>-0.255829</td>\n",
       "      <td>0.161401</td>\n",
       "    </tr>\n",
       "  </tbody>\n",
       "</table>\n",
       "<p>1000 rows × 4 columns</p>\n",
       "</div>"
      ],
      "text/plain": [
       "            a         b         c         d\n",
       "0    0.424548  1.215504 -0.319773  0.965904\n",
       "1    1.564406 -0.400115 -0.142689  1.148930\n",
       "2    0.258605 -0.254315  1.079605 -0.056868\n",
       "3   -0.745317  1.020861 -0.003288  0.528578\n",
       "4   -1.247818 -1.029523  1.263105 -0.371355\n",
       "..        ...       ...       ...       ...\n",
       "995 -0.123213 -0.044471 -0.534333 -0.547322\n",
       "996 -0.267189 -0.126387 -0.605157 -0.163048\n",
       "997 -0.675428  0.477880 -0.459564 -0.084622\n",
       "998 -0.744657  2.174893  0.460864 -0.284825\n",
       "999  0.084590 -0.349825 -0.255829  0.161401\n",
       "\n",
       "[1000 rows x 4 columns]"
      ]
     },
     "execution_count": 6,
     "metadata": {},
     "output_type": "execute_result"
    }
   ],
   "source": [
    "df"
   ]
  },
  {
   "cell_type": "code",
   "execution_count": null,
   "id": "5f342417",
   "metadata": {},
   "outputs": [],
   "source": []
  },
  {
   "cell_type": "code",
   "execution_count": 8,
   "id": "61c41b15",
   "metadata": {},
   "outputs": [
    {
     "data": {
      "text/html": [
       "<div>\n",
       "<style scoped>\n",
       "    .dataframe tbody tr th:only-of-type {\n",
       "        vertical-align: middle;\n",
       "    }\n",
       "\n",
       "    .dataframe tbody tr th {\n",
       "        vertical-align: top;\n",
       "    }\n",
       "\n",
       "    .dataframe thead th {\n",
       "        text-align: right;\n",
       "    }\n",
       "</style>\n",
       "<table border=\"1\" class=\"dataframe\">\n",
       "  <thead>\n",
       "    <tr style=\"text-align: right;\">\n",
       "      <th></th>\n",
       "      <th>a</th>\n",
       "      <th>b</th>\n",
       "    </tr>\n",
       "  </thead>\n",
       "  <tbody>\n",
       "    <tr>\n",
       "      <th>0</th>\n",
       "      <td>0.311585</td>\n",
       "      <td>0.522371</td>\n",
       "    </tr>\n",
       "    <tr>\n",
       "      <th>1</th>\n",
       "      <td>0.458467</td>\n",
       "      <td>0.369039</td>\n",
       "    </tr>\n",
       "    <tr>\n",
       "      <th>2</th>\n",
       "      <td>0.525998</td>\n",
       "      <td>0.018768</td>\n",
       "    </tr>\n",
       "    <tr>\n",
       "      <th>3</th>\n",
       "      <td>0.286027</td>\n",
       "      <td>0.769764</td>\n",
       "    </tr>\n",
       "    <tr>\n",
       "      <th>4</th>\n",
       "      <td>0.539018</td>\n",
       "      <td>0.065271</td>\n",
       "    </tr>\n",
       "    <tr>\n",
       "      <th>5</th>\n",
       "      <td>0.750562</td>\n",
       "      <td>0.544287</td>\n",
       "    </tr>\n",
       "    <tr>\n",
       "      <th>6</th>\n",
       "      <td>0.116618</td>\n",
       "      <td>0.843543</td>\n",
       "    </tr>\n",
       "    <tr>\n",
       "      <th>7</th>\n",
       "      <td>0.014041</td>\n",
       "      <td>0.432803</td>\n",
       "    </tr>\n",
       "    <tr>\n",
       "      <th>8</th>\n",
       "      <td>0.433460</td>\n",
       "      <td>0.974000</td>\n",
       "    </tr>\n",
       "    <tr>\n",
       "      <th>9</th>\n",
       "      <td>0.011140</td>\n",
       "      <td>0.507954</td>\n",
       "    </tr>\n",
       "  </tbody>\n",
       "</table>\n",
       "</div>"
      ],
      "text/plain": [
       "          a         b\n",
       "0  0.311585  0.522371\n",
       "1  0.458467  0.369039\n",
       "2  0.525998  0.018768\n",
       "3  0.286027  0.769764\n",
       "4  0.539018  0.065271\n",
       "5  0.750562  0.544287\n",
       "6  0.116618  0.843543\n",
       "7  0.014041  0.432803\n",
       "8  0.433460  0.974000\n",
       "9  0.011140  0.507954"
      ]
     },
     "execution_count": 8,
     "metadata": {},
     "output_type": "execute_result"
    }
   ],
   "source": [
    "df1 = pd.DataFrame(np.random.rand(10,2), columns= ['a','b'])\n",
    "df1"
   ]
  },
  {
   "cell_type": "code",
   "execution_count": null,
   "id": "322bbe65",
   "metadata": {},
   "outputs": [],
   "source": []
  },
  {
   "cell_type": "markdown",
   "id": "aea90b76",
   "metadata": {},
   "source": [
    "### Answer 2"
   ]
  },
  {
   "cell_type": "markdown",
   "id": "edfb3c94",
   "metadata": {},
   "source": [
    "When the ticker symbol of a publicly traded company changes, it generally ... out more about why symbols may change and what you need to do if it does."
   ]
  },
  {
   "cell_type": "code",
   "execution_count": null,
   "id": "74233fe8",
   "metadata": {},
   "outputs": [],
   "source": []
  },
  {
   "cell_type": "markdown",
   "id": "d3e1b0cb",
   "metadata": {},
   "source": [
    "### Answer 3"
   ]
  },
  {
   "cell_type": "markdown",
   "id": "c8fbb59d",
   "metadata": {},
   "source": [
    "- Chart Colors\n",
    "- Background Colors: In general, chart backgrounds are best kept to neutral colors; white, gray, and black work well. Bright or neon colors may become intolerable over even a short period of time and can make chart indicators harder to see.\n",
    "    \n",
    "- Price Bar and Indicator Colors\n",
    "- Special Color Considerations\n",
    "- Layout"
   ]
  },
  {
   "cell_type": "code",
   "execution_count": null,
   "id": "53e71f0b",
   "metadata": {},
   "outputs": [],
   "source": []
  },
  {
   "cell_type": "markdown",
   "id": "7807669f",
   "metadata": {},
   "source": [
    "### Answer 4"
   ]
  },
  {
   "cell_type": "markdown",
   "id": "1b1ee126",
   "metadata": {},
   "source": [
    "- Legends helps to identify which line or graph showing which property and helps to understandibility of the chart or graph."
   ]
  },
  {
   "cell_type": "code",
   "execution_count": null,
   "id": "5f548b72",
   "metadata": {},
   "outputs": [],
   "source": []
  },
  {
   "cell_type": "markdown",
   "id": "0fd17e72",
   "metadata": {},
   "source": [
    "### Answer 5"
   ]
  },
  {
   "cell_type": "markdown",
   "id": "f09bfd8d",
   "metadata": {},
   "source": [
    "- By applyig some loop which will work accordingly."
   ]
  },
  {
   "cell_type": "code",
   "execution_count": null,
   "id": "3cb80ddb",
   "metadata": {},
   "outputs": [],
   "source": []
  },
  {
   "cell_type": "markdown",
   "id": "780db9fc",
   "metadata": {},
   "source": [
    "### Answer 6"
   ]
  },
  {
   "cell_type": "code",
   "execution_count": null,
   "id": "de60b2bb",
   "metadata": {},
   "outputs": [],
   "source": []
  }
 ],
 "metadata": {
  "kernelspec": {
   "display_name": "Python 3",
   "language": "python",
   "name": "python3"
  },
  "language_info": {
   "codemirror_mode": {
    "name": "ipython",
    "version": 3
   },
   "file_extension": ".py",
   "mimetype": "text/x-python",
   "name": "python",
   "nbconvert_exporter": "python",
   "pygments_lexer": "ipython3",
   "version": "3.8.5"
  }
 },
 "nbformat": 4,
 "nbformat_minor": 5
}
