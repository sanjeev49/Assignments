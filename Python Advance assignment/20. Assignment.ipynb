{
 "cells": [
  {
   "cell_type": "markdown",
   "id": "76d6e492",
   "metadata": {},
   "source": [
    "### Answer 1"
   ]
  },
  {
   "cell_type": "markdown",
   "id": "c87ab063",
   "metadata": {},
   "source": [
    "floats: 2.4, -4.2, 0.5\n",
    "\n",
    "\n",
    "decimal: 1,2,3,4,5"
   ]
  },
  {
   "cell_type": "code",
   "execution_count": null,
   "id": "ed319830",
   "metadata": {},
   "outputs": [],
   "source": []
  },
  {
   "cell_type": "markdown",
   "id": "dadc6dbe",
   "metadata": {},
   "source": [
    "Floats are used when we want exact accuracy  .But it is somehow difficult for humans to make calculation on it.\n",
    "Decimals are used to measure also. It is easy for humans to do calculations with it."
   ]
  },
  {
   "cell_type": "code",
   "execution_count": null,
   "id": "04ba8b89",
   "metadata": {},
   "outputs": [],
   "source": []
  },
  {
   "cell_type": "markdown",
   "id": "619b8bd0",
   "metadata": {},
   "source": [
    "### Answer 2"
   ]
  },
  {
   "cell_type": "code",
   "execution_count": 1,
   "id": "d0e0a684",
   "metadata": {},
   "outputs": [
    {
     "data": {
      "text/plain": [
       "True"
      ]
     },
     "execution_count": 1,
     "metadata": {},
     "output_type": "execute_result"
    }
   ],
   "source": [
    "1.200 == 1.2"
   ]
  },
  {
   "cell_type": "markdown",
   "id": "e4ba0693",
   "metadata": {},
   "source": [
    "They are the same value. These are just two ways to represent the same value."
   ]
  },
  {
   "cell_type": "code",
   "execution_count": null,
   "id": "f48ca166",
   "metadata": {},
   "outputs": [],
   "source": []
  },
  {
   "cell_type": "markdown",
   "id": "ec93a715",
   "metadata": {},
   "source": [
    "### Answer 3"
   ]
  },
  {
   "cell_type": "markdown",
   "id": "1fcb8f0b",
   "metadata": {},
   "source": [
    "If we check the equality it will become True."
   ]
  },
  {
   "cell_type": "code",
   "execution_count": 2,
   "id": "13aa10b3",
   "metadata": {},
   "outputs": [
    {
     "data": {
      "text/plain": [
       "True"
      ]
     },
     "execution_count": 2,
     "metadata": {},
     "output_type": "execute_result"
    }
   ],
   "source": [
    "1.200 == 1.2"
   ]
  },
  {
   "cell_type": "code",
   "execution_count": null,
   "id": "09a2e7ea",
   "metadata": {},
   "outputs": [],
   "source": []
  },
  {
   "cell_type": "markdown",
   "id": "2bb2989a",
   "metadata": {},
   "source": [
    "### Answer 4"
   ]
  },
  {
   "cell_type": "markdown",
   "id": "8fe4bfb2",
   "metadata": {},
   "source": [
    "Becuase it will be easier to add and do the calculations."
   ]
  },
  {
   "cell_type": "code",
   "execution_count": null,
   "id": "fcfd8aba",
   "metadata": {},
   "outputs": [],
   "source": []
  },
  {
   "cell_type": "markdown",
   "id": "bdd4f7da",
   "metadata": {},
   "source": [
    "### Answer 5"
   ]
  },
  {
   "cell_type": "markdown",
   "id": "516012f5",
   "metadata": {},
   "source": [
    "It is very simple to combine decimal to numbers.\n"
   ]
  },
  {
   "cell_type": "code",
   "execution_count": 3,
   "id": "55d82962",
   "metadata": {},
   "outputs": [
    {
     "data": {
      "text/plain": [
       "6.8"
      ]
     },
     "execution_count": 3,
     "metadata": {},
     "output_type": "execute_result"
    }
   ],
   "source": [
    "1 + 5.8"
   ]
  },
  {
   "cell_type": "code",
   "execution_count": null,
   "id": "05b9e021",
   "metadata": {},
   "outputs": [],
   "source": []
  },
  {
   "cell_type": "markdown",
   "id": "cb8c0175",
   "metadata": {},
   "source": [
    "### Answer 6"
   ]
  },
  {
   "cell_type": "markdown",
   "id": "4be76be2",
   "metadata": {},
   "source": [
    "Yes"
   ]
  },
  {
   "cell_type": "code",
   "execution_count": 4,
   "id": "1f5ee05a",
   "metadata": {},
   "outputs": [
    {
     "data": {
      "text/plain": [
       "982342337.2341233"
      ]
     },
     "execution_count": 4,
     "metadata": {},
     "output_type": "execute_result"
    }
   ],
   "source": [
    "4+ 982342333.2341234"
   ]
  },
  {
   "cell_type": "code",
   "execution_count": null,
   "id": "f3f97ee5",
   "metadata": {},
   "outputs": [],
   "source": []
  },
  {
   "cell_type": "markdown",
   "id": "0cde2557",
   "metadata": {},
   "source": [
    "### Answer 7"
   ]
  },
  {
   "cell_type": "code",
   "execution_count": 5,
   "id": "a81843b0",
   "metadata": {},
   "outputs": [
    {
     "data": {
      "text/plain": [
       "0.4"
      ]
     },
     "execution_count": 5,
     "metadata": {},
     "output_type": "execute_result"
    }
   ],
   "source": [
    "2/5"
   ]
  },
  {
   "cell_type": "code",
   "execution_count": null,
   "id": "9ad8a126",
   "metadata": {},
   "outputs": [],
   "source": []
  },
  {
   "cell_type": "markdown",
   "id": "7bc826ed",
   "metadata": {},
   "source": [
    "### Answer 8"
   ]
  },
  {
   "cell_type": "code",
   "execution_count": 6,
   "id": "f83afa05",
   "metadata": {},
   "outputs": [
    {
     "data": {
      "text/plain": [
       "2"
      ]
     },
     "execution_count": 6,
     "metadata": {},
     "output_type": "execute_result"
    }
   ],
   "source": [
    "4//2"
   ]
  },
  {
   "cell_type": "code",
   "execution_count": 7,
   "id": "6db1c7ca",
   "metadata": {},
   "outputs": [],
   "source": [
    "# this can be decimal but not floating point value."
   ]
  },
  {
   "cell_type": "code",
   "execution_count": null,
   "id": "613f9223",
   "metadata": {},
   "outputs": [],
   "source": []
  },
  {
   "cell_type": "markdown",
   "id": "38d6e8ff",
   "metadata": {},
   "source": [
    "### Answer 9"
   ]
  },
  {
   "cell_type": "code",
   "execution_count": null,
   "id": "a4fe6eff",
   "metadata": {},
   "outputs": [],
   "source": []
  },
  {
   "cell_type": "code",
   "execution_count": null,
   "id": "2448110f",
   "metadata": {},
   "outputs": [],
   "source": []
  },
  {
   "cell_type": "markdown",
   "id": "cf07f808",
   "metadata": {},
   "source": [
    "### Answer 10"
   ]
  },
  {
   "cell_type": "code",
   "execution_count": 9,
   "id": "9301f314",
   "metadata": {},
   "outputs": [
    {
     "data": {
      "text/plain": [
       "False"
      ]
     },
     "execution_count": 9,
     "metadata": {},
     "output_type": "execute_result"
    }
   ],
   "source": [
    "5//2 == 2.5"
   ]
  },
  {
   "cell_type": "code",
   "execution_count": null,
   "id": "5e45c712",
   "metadata": {},
   "outputs": [],
   "source": [
    "# This is how fraction class and decimal points relate to each other."
   ]
  }
 ],
 "metadata": {
  "kernelspec": {
   "display_name": "Python 3",
   "language": "python",
   "name": "python3"
  },
  "language_info": {
   "codemirror_mode": {
    "name": "ipython",
    "version": 3
   },
   "file_extension": ".py",
   "mimetype": "text/x-python",
   "name": "python",
   "nbconvert_exporter": "python",
   "pygments_lexer": "ipython3",
   "version": "3.8.5"
  }
 },
 "nbformat": 4,
 "nbformat_minor": 5
}
