{
 "cells": [
  {
   "cell_type": "markdown",
   "id": "6a112c46",
   "metadata": {},
   "source": [
    "### Answer 1\n"
   ]
  },
  {
   "cell_type": "markdown",
   "id": "11edbe95",
   "metadata": {},
   "source": [
    "It would be beneficial where we need to do the different work with same module so we can import same module and give it different alias name.\n",
    "- Ex."
   ]
  },
  {
   "cell_type": "code",
   "execution_count": 12,
   "id": "7bb51dfe",
   "metadata": {},
   "outputs": [],
   "source": [
    "import numpy as np\n",
    "import numpy as ny\n",
    "\n"
   ]
  },
  {
   "cell_type": "code",
   "execution_count": null,
   "id": "964026c8",
   "metadata": {},
   "outputs": [],
   "source": []
  },
  {
   "cell_type": "markdown",
   "id": "e17e6ac0",
   "metadata": {},
   "source": [
    "### Answer 2"
   ]
  },
  {
   "cell_type": "markdown",
   "id": "defb77e7",
   "metadata": {},
   "source": [
    "Module contains instructions,  processing logic and data."
   ]
  },
  {
   "cell_type": "code",
   "execution_count": null,
   "id": "c5163424",
   "metadata": {},
   "outputs": [],
   "source": []
  },
  {
   "cell_type": "markdown",
   "id": "02588ebd",
   "metadata": {},
   "source": [
    "### Answer 3"
   ]
  },
  {
   "cell_type": "markdown",
   "id": "b7450fe9",
   "metadata": {},
   "source": [
    "Circular importing is a form of circular dependency that is created with the import statement in Python.\n",
    "\n",
    "For example, let's analyze the following code:"
   ]
  },
  {
   "cell_type": "code",
   "execution_count": null,
   "id": "004d87d8",
   "metadata": {},
   "outputs": [],
   "source": [
    "# module1\n",
    "import module2\n",
    "\n",
    "def function1():\n",
    "    module2.function2()\n",
    "\n",
    "def function3():\n",
    "    print('Goodbye, World!')\n",
    "#module2\n",
    "import module1\n",
    "\n",
    "def function2():\n",
    "    print('Hello, World!')\n",
    "    module1.function3()\n",
    "    \n",
    "    # __init__.py\n",
    "\n",
    "import module1\n",
    "\n",
    "module1.function1()"
   ]
  },
  {
   "cell_type": "code",
   "execution_count": null,
   "id": "8c784662",
   "metadata": {},
   "outputs": [],
   "source": []
  },
  {
   "cell_type": "markdown",
   "id": "2ff225ed",
   "metadata": {},
   "source": [
    "### Answer 4"
   ]
  },
  {
   "cell_type": "markdown",
   "id": "a32f1146",
   "metadata": {},
   "source": [
    "It's a list of public objects of that module, as interpreted by import *. It overrides the default of hiding everything that begins with an underscore."
   ]
  },
  {
   "cell_type": "code",
   "execution_count": null,
   "id": "de4e7431",
   "metadata": {},
   "outputs": [],
   "source": []
  },
  {
   "cell_type": "markdown",
   "id": "5e9c2b35",
   "metadata": {},
   "source": [
    "### Answer 5"
   ]
  },
  {
   "cell_type": "markdown",
   "id": "c3fe6068",
   "metadata": {},
   "source": [
    "The __name__ == \"__main__\" runs blocks of code only when our Python script is being executed directly from a user. This is powerful as it allows our code to have different behavior when it's being executed as a program instead of being imported as a module."
   ]
  },
  {
   "cell_type": "code",
   "execution_count": null,
   "id": "30c49350",
   "metadata": {},
   "outputs": [],
   "source": []
  },
  {
   "cell_type": "markdown",
   "id": "8ecc2b75",
   "metadata": {},
   "source": [
    "### Answer 6"
   ]
  },
  {
   "cell_type": "code",
   "execution_count": null,
   "id": "afded1a2",
   "metadata": {},
   "outputs": [],
   "source": [
    " "
   ]
  }
 ],
 "metadata": {
  "kernelspec": {
   "display_name": "Python 3",
   "language": "python",
   "name": "python3"
  },
  "language_info": {
   "codemirror_mode": {
    "name": "ipython",
    "version": 3
   },
   "file_extension": ".py",
   "mimetype": "text/x-python",
   "name": "python",
   "nbconvert_exporter": "python",
   "pygments_lexer": "ipython3",
   "version": "3.8.5"
  }
 },
 "nbformat": 4,
 "nbformat_minor": 5
}
