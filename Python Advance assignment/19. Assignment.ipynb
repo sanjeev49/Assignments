{
 "cells": [
  {
   "cell_type": "markdown",
   "id": "ae89931d",
   "metadata": {},
   "source": [
    "### Answer 1"
   ]
  },
  {
   "cell_type": "markdown",
   "id": "2753e530",
   "metadata": {},
   "source": [
    "class is the blueprint of an instace . instance make the class actual thing.\n",
    "ex."
   ]
  },
  {
   "cell_type": "code",
   "execution_count": 1,
   "id": "a841e55d",
   "metadata": {},
   "outputs": [],
   "source": [
    "class dog:\n",
    "    attr1  = 'bark'\n",
    "    attr2 = 'loving'\n",
    "    # method\n",
    "    def sayname(self):\n",
    "        print(\"the dog \", self.attr1,\"s\")\n",
    "        print(\"the dog is \", self.attr2, \"animal\")"
   ]
  },
  {
   "cell_type": "code",
   "execution_count": 2,
   "id": "be9defdf",
   "metadata": {},
   "outputs": [
    {
     "name": "stdout",
     "output_type": "stream",
     "text": [
      "the dog  bark s\n",
      "the dog is  loving animal\n"
     ]
    }
   ],
   "source": [
    "a = dog()\n",
    "a.sayname()"
   ]
  },
  {
   "cell_type": "markdown",
   "id": "32643bf8",
   "metadata": {},
   "source": [
    "it is one to many . like in one class we can create any number of instances."
   ]
  },
  {
   "cell_type": "code",
   "execution_count": null,
   "id": "c38e4dd4",
   "metadata": {},
   "outputs": [],
   "source": []
  },
  {
   "cell_type": "markdown",
   "id": "86c5aea4",
   "metadata": {},
   "source": [
    "###  Answer 2"
   ]
  },
  {
   "cell_type": "markdown",
   "id": "28961c9d",
   "metadata": {},
   "source": [
    "In instance actual data or real data is held. It is also called objects."
   ]
  },
  {
   "cell_type": "code",
   "execution_count": null,
   "id": "90c2278c",
   "metadata": {},
   "outputs": [],
   "source": []
  },
  {
   "cell_type": "markdown",
   "id": "12fc97c3",
   "metadata": {},
   "source": [
    "### Answer 3"
   ]
  },
  {
   "cell_type": "markdown",
   "id": "dfcc8773",
   "metadata": {},
   "source": [
    "In class a blueprint of object is stored . Like how the the ojbect behaves , and so many properties can be written  inside the \n",
    "class and it can be used anytime by the object."
   ]
  },
  {
   "cell_type": "code",
   "execution_count": null,
   "id": "9c4cdbcb",
   "metadata": {},
   "outputs": [],
   "source": []
  },
  {
   "cell_type": "markdown",
   "id": "d0728359",
   "metadata": {},
   "source": [
    "### Answer 4"
   ]
  },
  {
   "cell_type": "markdown",
   "id": "8741efa7",
   "metadata": {},
   "source": [
    "A method in python is somewhat similar to a function, except it is associated with object/classes. Methods in python are very similar to functions except for two major differences.\n",
    "\n",
    "The method is implicitly used for an object for which it is called.\n",
    "\n",
    "The method is accessible to data that is contained within the class."
   ]
  },
  {
   "cell_type": "code",
   "execution_count": 3,
   "id": "cf76a938",
   "metadata": {},
   "outputs": [
    {
     "name": "stdout",
     "output_type": "stream",
     "text": [
      "I am a Cat\n"
     ]
    }
   ],
   "source": [
    "class Pet(object):\n",
    "   def my_method(self):\n",
    "      print(\"I am a Cat\")\n",
    "cat = Pet()\n",
    "cat.my_method()"
   ]
  },
  {
   "cell_type": "markdown",
   "id": "11a0e583",
   "metadata": {},
   "source": [
    "A function is a block of code to carry out a specific task, will contain its own scope and is called by name. All functions may contain zero(no) arguments or more than one arguments. On exit, a function can or can not return one or more values."
   ]
  },
  {
   "cell_type": "code",
   "execution_count": 4,
   "id": "2bbaf282",
   "metadata": {},
   "outputs": [],
   "source": [
    "def su(a1,x):\n",
    "    return a1+x\n"
   ]
  },
  {
   "cell_type": "code",
   "execution_count": 5,
   "id": "9dfece3e",
   "metadata": {},
   "outputs": [
    {
     "data": {
      "text/plain": [
       "13"
      ]
     },
     "execution_count": 5,
     "metadata": {},
     "output_type": "execute_result"
    }
   ],
   "source": [
    "su(5,8)"
   ]
  },
  {
   "cell_type": "markdown",
   "id": "5c0f5208",
   "metadata": {},
   "source": [
    "### Answer 5"
   ]
  },
  {
   "cell_type": "code",
   "execution_count": null,
   "id": "3c0753a5",
   "metadata": {},
   "outputs": [],
   "source": []
  },
  {
   "cell_type": "markdown",
   "id": "c871071a",
   "metadata": {},
   "source": [
    "Inehritence is the capability of a class which inherits the property of the other class.\n",
    "- It represents the real-world relationship well.\n",
    "- It provides reusability of  a code.\n",
    "- It is transitive in nature."
   ]
  },
  {
   "cell_type": "code",
   "execution_count": 9,
   "id": "90e87cb8",
   "metadata": {},
   "outputs": [],
   "source": [
    "class emp(object):\n",
    "    def __init__(self, name):\n",
    "        self.name = name\n",
    "    def getname(self):\n",
    "        return self.name\n",
    "    def isEmp(self):\n",
    "        return False\n",
    "    \n",
    "    "
   ]
  },
  {
   "cell_type": "code",
   "execution_count": 10,
   "id": "5adf4073",
   "metadata": {},
   "outputs": [],
   "source": [
    "class obj(emp):\n",
    "    def isEmployee(self):\n",
    "        return True"
   ]
  },
  {
   "cell_type": "code",
   "execution_count": 11,
   "id": "2a8559d5",
   "metadata": {},
   "outputs": [
    {
     "name": "stdout",
     "output_type": "stream",
     "text": [
      "sanjeev False\n"
     ]
    }
   ],
   "source": [
    "a = emp('sanjeev')\n",
    "print(a.getname(), a.isEmp())"
   ]
  },
  {
   "cell_type": "code",
   "execution_count": null,
   "id": "c211bec6",
   "metadata": {},
   "outputs": [],
   "source": []
  },
  {
   "cell_type": "markdown",
   "id": "5065290b",
   "metadata": {},
   "source": [
    "### Answer 6"
   ]
  },
  {
   "cell_type": "markdown",
   "id": "22d1d5cc",
   "metadata": {},
   "source": [
    "A class is an example of encapsulation as it encapsulates all the data that is member functions, variables, etc."
   ]
  },
  {
   "cell_type": "code",
   "execution_count": 16,
   "id": "71a57271",
   "metadata": {},
   "outputs": [
    {
     "name": "stdout",
     "output_type": "stream",
     "text": [
      "Calling protected member of base class: \n",
      "2\n"
     ]
    },
    {
     "ename": "AttributeError",
     "evalue": "'Base' object has no attribute 'a'",
     "output_type": "error",
     "traceback": [
      "\u001b[1;31m---------------------------------------------------------------------------\u001b[0m",
      "\u001b[1;31mAttributeError\u001b[0m                            Traceback (most recent call last)",
      "\u001b[1;32m<ipython-input-16-d50a0ba53a36>\u001b[0m in \u001b[0;36m<module>\u001b[1;34m\u001b[0m\n\u001b[0;32m     22\u001b[0m \u001b[1;31m# Outside class will  result in\u001b[0m\u001b[1;33m\u001b[0m\u001b[1;33m\u001b[0m\u001b[1;33m\u001b[0m\u001b[0m\n\u001b[0;32m     23\u001b[0m \u001b[1;31m# AttributeError\u001b[0m\u001b[1;33m\u001b[0m\u001b[1;33m\u001b[0m\u001b[1;33m\u001b[0m\u001b[0m\n\u001b[1;32m---> 24\u001b[1;33m \u001b[0mprint\u001b[0m\u001b[1;33m(\u001b[0m\u001b[0mobj2\u001b[0m\u001b[1;33m.\u001b[0m\u001b[0ma\u001b[0m\u001b[1;33m)\u001b[0m\u001b[1;33m\u001b[0m\u001b[1;33m\u001b[0m\u001b[0m\n\u001b[0m",
      "\u001b[1;31mAttributeError\u001b[0m: 'Base' object has no attribute 'a'"
     ]
    }
   ],
   "source": [
    "class Base:\n",
    "    def __init__(self):\n",
    "         \n",
    "        # Protected member\n",
    "        self._a = 2\n",
    " \n",
    "# Creating a derived class   \n",
    "class Derived(Base):\n",
    "    def __init__(self):\n",
    "         \n",
    "        # Calling constructor of\n",
    "        # Base class\n",
    "        Base.__init__(self)\n",
    "        print(\"Calling protected member of base class: \")\n",
    "        print(self._a)\n",
    " \n",
    "obj1 = Derived()\n",
    "         \n",
    "obj2 = Base()\n",
    " \n",
    "# Calling protected member\n",
    "# Outside class will  result in\n",
    "# AttributeError\n",
    "print(obj2.a)"
   ]
  },
  {
   "cell_type": "code",
   "execution_count": null,
   "id": "f6dc1dc3",
   "metadata": {},
   "outputs": [],
   "source": []
  },
  {
   "cell_type": "markdown",
   "id": "35fc8139",
   "metadata": {},
   "source": [
    "### Answer 7"
   ]
  },
  {
   "cell_type": "markdown",
   "id": "01b0a5bf",
   "metadata": {},
   "source": [
    "Instance variables are variables used for data that is unique to a particular instance. Example of instance variables are the ones we used in the previous article."
   ]
  },
  {
   "cell_type": "code",
   "execution_count": null,
   "id": "e55b622a",
   "metadata": {},
   "outputs": [],
   "source": []
  },
  {
   "cell_type": "code",
   "execution_count": 17,
   "id": "bc45d1c7",
   "metadata": {},
   "outputs": [],
   "source": [
    "def __init__(self,first,last,pay):\n",
    "    self.first = first\n",
    "    self.last = last\n",
    "    self.pay = pay\n",
    "    self.email = first + '.' +last+ '@company.com'"
   ]
  },
  {
   "cell_type": "markdown",
   "id": "27f3f1bd",
   "metadata": {},
   "source": [
    "Class Variables are variables that are shared by all instances of a class. So while instance variable can be unique for each instance like our name,email and pay; class variable should be the-same for each instance.\n",
    "\n"
   ]
  },
  {
   "cell_type": "code",
   "execution_count": 18,
   "id": "fbc6ab2f",
   "metadata": {},
   "outputs": [
    {
     "name": "stdout",
     "output_type": "stream",
     "text": [
      "60000\n",
      "62400\n"
     ]
    }
   ],
   "source": [
    "class Employee:\n",
    "    def __init__(self,first,last,pay):\n",
    "        self.first = first\n",
    "        self.last = last\n",
    "        self.pay = pay\n",
    "    def apply_raise(self):\n",
    "        self.pay = int(self.pay * 1.04)\n",
    "emp_1 = Employee('John','Son',60000)\n",
    "print (emp_1.pay)\n",
    "emp_1.apply_raise()\n",
    "print(emp_1.pay)"
   ]
  },
  {
   "cell_type": "code",
   "execution_count": null,
   "id": "568b734c",
   "metadata": {},
   "outputs": [],
   "source": []
  },
  {
   "cell_type": "markdown",
   "id": "e38cf18f",
   "metadata": {},
   "source": [
    "### Answer 8"
   ]
  },
  {
   "cell_type": "markdown",
   "id": "2588cbb4",
   "metadata": {},
   "source": [
    "#### We can use anything in the place of self."
   ]
  },
  {
   "cell_type": "code",
   "execution_count": null,
   "id": "a8368245",
   "metadata": {},
   "outputs": [],
   "source": []
  },
  {
   "cell_type": "markdown",
   "id": "b5e29cdb",
   "metadata": {},
   "source": [
    "### Answer 9"
   ]
  },
  {
   "cell_type": "markdown",
   "id": "6ebe22ec",
   "metadata": {},
   "source": [
    "a+b is equivalent to import operator; operator.add(a,b). It starts by calling a.__add__(b) and then, if necessary, b.__radd__(a). But ifsubclass(type(b), type(a)), then b.__radd__(a) is called first."
   ]
  },
  {
   "cell_type": "markdown",
   "id": "f5727d61",
   "metadata": {},
   "source": [
    "Regarding __add__():\n",
    "\n",
    "__add__() is called to implement the binary arithmetic \"+\" operation. For instance, to evaluate the expression x + y, where x is an instance of a class that has an __add__() method, x.__add__(y) is called.\n",
    "\n",
    "If one of those methods does not support the operation with the supplied arguments, it should return NotImplemented.\n"
   ]
  },
  {
   "cell_type": "code",
   "execution_count": null,
   "id": "df49951e",
   "metadata": {},
   "outputs": [],
   "source": []
  },
  {
   "cell_type": "markdown",
   "id": "9639a303",
   "metadata": {},
   "source": [
    "Regarding __radd__():\n",
    "\n",
    "These functions are only called if the left operand does not support the corresponding operation and the operands are of different types. For instance, to evaluate the expression x + y, where y is an instance of a class that has an __radd__() method, y.__radd__(x) is called if x.__add__(y) returns NotImplemented.\n",
    "\n",
    "If the right operand’s type is a subclass of the left operand’s type and that subclass provides the reflected method for the operation, this method will be called before the left operand’s non-reflected method. This behavior allows subclasses to override their ancestors’ operations."
   ]
  },
  {
   "cell_type": "code",
   "execution_count": null,
   "id": "c95b7121",
   "metadata": {},
   "outputs": [],
   "source": []
  },
  {
   "cell_type": "code",
   "execution_count": null,
   "id": "9fe447a7",
   "metadata": {},
   "outputs": [],
   "source": []
  },
  {
   "cell_type": "markdown",
   "id": "8b7b8f66",
   "metadata": {},
   "source": [
    "### Answer 10"
   ]
  },
  {
   "cell_type": "markdown",
   "id": "bd297383",
   "metadata": {},
   "source": [
    "Using reflection, we can write one recursive reverse function that will work for strings, lists, and any other sequence that supports slicing and concatenation. If an obj is a reference to a string, then Python will return the str type object. Further, if we write str() we get a string which is the empty string. In other words, writing str() is the same thing as writing “”. Likewise, writing list() is the same thing as writing [].\n",
    "\n"
   ]
  },
  {
   "cell_type": "code",
   "execution_count": 1,
   "id": "c058a60e",
   "metadata": {},
   "outputs": [
    {
     "name": "stdout",
     "output_type": "stream",
     "text": [
      "[40, 30, 20, 10]\n",
      "skeeGroFskeeG\n"
     ]
    }
   ],
   "source": [
    "def reverse(sequence): \n",
    "    sequence_type = type(sequence) \n",
    "    empty_sequence = sequence_type() \n",
    "      \n",
    "    if sequence == empty_sequence: \n",
    "        return empty_sequence \n",
    "      \n",
    "    rest = reverse(sequence[1:]) \n",
    "    first_sequence = sequence[0:1] \n",
    "      \n",
    "    # Combine the result \n",
    "    final_result = rest + first_sequence\n",
    "      \n",
    "    return final_result \n",
    "  \n",
    "# Driver code \n",
    "print(reverse([10, 20, 30, 40])) \n",
    "print(reverse(\"GeeksForGeeks\")) "
   ]
  },
  {
   "cell_type": "code",
   "execution_count": null,
   "id": "3e0b68e1",
   "metadata": {},
   "outputs": [],
   "source": []
  },
  {
   "cell_type": "markdown",
   "id": "42e417e7",
   "metadata": {},
   "source": [
    "### Answer 11"
   ]
  },
  {
   "cell_type": "markdown",
   "id": "cfbeed51",
   "metadata": {},
   "source": [
    "iadd() :- This function is used to assign and add the current value. This operation does “a+=b” operation. Assigning is not performed in case of immutable containers, such as strings, numbers and tuples."
   ]
  },
  {
   "cell_type": "code",
   "execution_count": 2,
   "id": "1ae96891",
   "metadata": {},
   "outputs": [
    {
     "name": "stdout",
     "output_type": "stream",
     "text": [
      "The value after adding and assigning : 5\n"
     ]
    }
   ],
   "source": [
    "import operator\n",
    "  \n",
    "# using iadd() to add and assign value\n",
    "x = operator.iadd(2, 3);\n",
    "  \n",
    "# printing the modified value\n",
    "print (\"The value after adding and assigning : \", end=\"\")\n",
    "print (x)"
   ]
  },
  {
   "cell_type": "code",
   "execution_count": null,
   "id": "966a8531",
   "metadata": {},
   "outputs": [],
   "source": []
  },
  {
   "cell_type": "markdown",
   "id": "67b1b238",
   "metadata": {},
   "source": [
    "### Answer 12"
   ]
  },
  {
   "cell_type": "code",
   "execution_count": null,
   "id": "d4a23c13",
   "metadata": {},
   "outputs": [],
   "source": []
  }
 ],
 "metadata": {
  "kernelspec": {
   "display_name": "Python 3",
   "language": "python",
   "name": "python3"
  },
  "language_info": {
   "codemirror_mode": {
    "name": "ipython",
    "version": 3
   },
   "file_extension": ".py",
   "mimetype": "text/x-python",
   "name": "python",
   "nbconvert_exporter": "python",
   "pygments_lexer": "ipython3",
   "version": "3.8.5"
  }
 },
 "nbformat": 4,
 "nbformat_minor": 5
}
