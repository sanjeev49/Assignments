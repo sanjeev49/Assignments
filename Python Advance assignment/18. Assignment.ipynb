{
 "cells": [
  {
   "cell_type": "markdown",
   "id": "6b617ce1",
   "metadata": {},
   "source": [
    "### Answer 1"
   ]
  },
  {
   "cell_type": "markdown",
   "id": "446eecf7",
   "metadata": {},
   "source": [
    "A small error in textual file can be recognised and editable. whereas a small error in binary file corrupts the file and not easy to detect."
   ]
  },
  {
   "cell_type": "code",
   "execution_count": null,
   "id": "53380081",
   "metadata": {},
   "outputs": [],
   "source": []
  },
  {
   "cell_type": "markdown",
   "id": "f777aa6e",
   "metadata": {},
   "source": [
    "### Answer 2"
   ]
  },
  {
   "cell_type": "markdown",
   "id": "00accbb8",
   "metadata": {},
   "source": [
    "A text file stores the data in the forms of alphabest, digits, and other special symbols in human redable format.Its format are .txt format. whereas binary file contains a sequence of collection of bytes which are not in human redable format.\n",
    "such as .exe, .mp3 format . these are types of custom data."
   ]
  },
  {
   "cell_type": "code",
   "execution_count": null,
   "id": "2dffd635",
   "metadata": {},
   "outputs": [],
   "source": []
  },
  {
   "cell_type": "code",
   "execution_count": null,
   "id": "5b1544db",
   "metadata": {},
   "outputs": [],
   "source": []
  },
  {
   "cell_type": "markdown",
   "id": "43bd3ff0",
   "metadata": {},
   "source": [
    "### Answer 3"
   ]
  },
  {
   "cell_type": "markdown",
   "id": "1d923006",
   "metadata": {},
   "source": [
    "Writing Bytes to a File; Reading Bytes from a File; Read File Line by Line ... must be encoded to binary using ascii, utf-8, or other."
   ]
  },
  {
   "cell_type": "code",
   "execution_count": null,
   "id": "1ddc0991",
   "metadata": {},
   "outputs": [],
   "source": []
  },
  {
   "cell_type": "markdown",
   "id": "b57f1aee",
   "metadata": {},
   "source": [
    "### Answer 4"
   ]
  },
  {
   "cell_type": "markdown",
   "id": "1c932814",
   "metadata": {},
   "source": [
    "with statement in Python is used in exception handling to make the code cleaner and much more readable. It simplifies the management of common resources like file streams. Observe the following code example on how the use of with statement makes code cleaner."
   ]
  },
  {
   "cell_type": "code",
   "execution_count": 2,
   "id": "2af8fdc2",
   "metadata": {},
   "outputs": [],
   "source": [
    "\n",
    "file = open('file_path', 'w')\n",
    "file.write('hello world !')\n",
    "file.close()\n",
    "\n",
    "# 2) without using with statement\n",
    "file = open('file_path', 'w')\n",
    "try:\n",
    "\tfile.write('hello world')\n",
    "finally:\n",
    "\tfile.close()\n"
   ]
  },
  {
   "cell_type": "code",
   "execution_count": null,
   "id": "4299f3b2",
   "metadata": {},
   "outputs": [],
   "source": []
  },
  {
   "cell_type": "markdown",
   "id": "c999008d",
   "metadata": {},
   "source": [
    "### Answer 5"
   ]
  },
  {
   "cell_type": "markdown",
   "id": "ac0226e9",
   "metadata": {},
   "source": [
    " Python readline() method reads only one complete line from the file given. It appends a newline (\"\\n\") at the end of the line. If you open the file in normal read mode, readline() will return you the string."
   ]
  },
  {
   "cell_type": "code",
   "execution_count": null,
   "id": "8cf6e5f0",
   "metadata": {},
   "outputs": [],
   "source": []
  },
  {
   "cell_type": "markdown",
   "id": "79403673",
   "metadata": {},
   "source": [
    "### Answer 6"
   ]
  },
  {
   "cell_type": "code",
   "execution_count": null,
   "id": "309f457a",
   "metadata": {},
   "outputs": [],
   "source": []
  },
  {
   "cell_type": "code",
   "execution_count": null,
   "id": "acd3c737",
   "metadata": {},
   "outputs": [],
   "source": []
  },
  {
   "cell_type": "markdown",
   "id": "4d1b71e0",
   "metadata": {},
   "source": [
    "### Answer 7"
   ]
  },
  {
   "cell_type": "markdown",
   "id": "6c78009a",
   "metadata": {},
   "source": [
    "The struct module in Python is used to convert native Python data types such as strings and numbers into a string of bytes and vice versa. What this means is that users can parse binary files of data stored in C structs in Python."
   ]
  },
  {
   "cell_type": "code",
   "execution_count": 3,
   "id": "8c2e59c2",
   "metadata": {},
   "outputs": [
    {
     "name": "stdout",
     "output_type": "stream",
     "text": [
      "b'\\n\\x00\\x00\\x00John\\x00@\\x1cE'\n"
     ]
    }
   ],
   "source": [
    "import struct\n",
    "\n",
    "packed = struct.pack('i 4s f', 10, b'John', 2500)\n",
    "print(packed)"
   ]
  },
  {
   "cell_type": "code",
   "execution_count": null,
   "id": "978ef6e7",
   "metadata": {},
   "outputs": [],
   "source": []
  },
  {
   "cell_type": "markdown",
   "id": "f13a0a85",
   "metadata": {},
   "source": [
    "### Answer 8"
   ]
  },
  {
   "cell_type": "markdown",
   "id": "bfd48a48",
   "metadata": {},
   "source": [
    "Python pickle module is used for serializing and de-serializing python object structures. The process to converts any kind of python objects (list, dict, etc.) into byte streams (0s and 1s) is called pickling or serialization or flattening or marshalling."
   ]
  },
  {
   "cell_type": "code",
   "execution_count": null,
   "id": "68718fff",
   "metadata": {},
   "outputs": [],
   "source": []
  },
  {
   "cell_type": "markdown",
   "id": "dd6f7c14",
   "metadata": {},
   "source": [
    "### Answer 9"
   ]
  },
  {
   "cell_type": "markdown",
   "id": "983c2d3e",
   "metadata": {},
   "source": [
    "The shelve module implements persistent storage for arbitrary Python objects which can be pickled, using a dictionary-like API. The shelve module can be used as a simple persistent storage option for Python objects when a relational database is overkill. The shelf is accessed by keys, just as with a dictionary."
   ]
  },
  {
   "cell_type": "code",
   "execution_count": null,
   "id": "40527354",
   "metadata": {},
   "outputs": [],
   "source": []
  },
  {
   "cell_type": "markdown",
   "id": "05b681e8",
   "metadata": {},
   "source": [
    "### Answer 10"
   ]
  },
  {
   "cell_type": "code",
   "execution_count": null,
   "id": "b22dadc5",
   "metadata": {},
   "outputs": [],
   "source": []
  }
 ],
 "metadata": {
  "kernelspec": {
   "display_name": "Python 3",
   "language": "python",
   "name": "python3"
  },
  "language_info": {
   "codemirror_mode": {
    "name": "ipython",
    "version": 3
   },
   "file_extension": ".py",
   "mimetype": "text/x-python",
   "name": "python",
   "nbconvert_exporter": "python",
   "pygments_lexer": "ipython3",
   "version": "3.8.5"
  }
 },
 "nbformat": 4,
 "nbformat_minor": 5
}
