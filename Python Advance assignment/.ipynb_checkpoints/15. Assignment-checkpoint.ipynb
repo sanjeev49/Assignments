{
 "cells": [
  {
   "cell_type": "markdown",
   "id": "eb7d7cd5",
   "metadata": {},
   "source": [
    "### Answer 1"
   ]
  },
  {
   "cell_type": "markdown",
   "id": "2c88eb25",
   "metadata": {},
   "source": [
    "- The walrus operator. Assignment expressions have come to Python with the “walrus” operator := . ...\n",
    "- Positional-only arguments. ...\n",
    "- f-strings now support “=” ...\n",
    "- reversed() now works with dict. ...\n",
    "- Simplified iterable unpacking for return and yield. ...\n",
    "- New syntax warnings. ...\n",
    "- Performance improvements."
   ]
  },
  {
   "cell_type": "code",
   "execution_count": null,
   "id": "4790f3b7",
   "metadata": {},
   "outputs": [],
   "source": []
  },
  {
   "cell_type": "markdown",
   "id": "d192aefa",
   "metadata": {},
   "source": [
    "### Answer 2"
   ]
  },
  {
   "cell_type": "markdown",
   "id": "02f3d168",
   "metadata": {},
   "source": [
    " the term monkey patch refers to dynamic (or run-time) modifications of a class or module. In Python, we can actually change the behavior of code at run-time."
   ]
  },
  {
   "cell_type": "code",
   "execution_count": null,
   "id": "facb61b9",
   "metadata": {},
   "outputs": [],
   "source": []
  },
  {
   "cell_type": "markdown",
   "id": "c381c725",
   "metadata": {},
   "source": [
    "### Answer 3"
   ]
  },
  {
   "cell_type": "markdown",
   "id": "7b9920a5",
   "metadata": {},
   "source": [
    "`Shallow repetition`: is quicker. However, it’s “lazy” it handles pointers and references. Rather than creating a contemporary copy of the particular knowledge the pointer points to, it simply copies over the pointer price. So, each the first and therefore the copy can have pointers that reference constant underlying knowledge."
   ]
  },
  {
   "cell_type": "markdown",
   "id": "ea6e6282",
   "metadata": {},
   "source": [
    "`Deep Copy`: Deep repetition truly clones the underlying data. It is not shared between the first and therefore the copy."
   ]
  },
  {
   "cell_type": "code",
   "execution_count": 5,
   "id": "2c79149f",
   "metadata": {},
   "outputs": [
    {
     "name": "stdout",
     "output_type": "stream",
     "text": [
      "['Red', 'Blue', 'Green'] ['Red', 'Blue']\n",
      "['Red', 'Blue', 'Green'] ['Red', 'Blue', 'Green']\n"
     ]
    }
   ],
   "source": [
    "from copy import copy, deepcopy\n",
    "\n",
    "# Class of Car\n",
    "class Car:\n",
    "    def __init__(self, name, colors):\n",
    "\n",
    "        self.name = name\n",
    "        self.colors = colors\n",
    "\n",
    "honda = Car(\"Honda\", [\"Red\", \"Blue\"])\n",
    "\n",
    "# Deepcopy of Honda\n",
    "deepcopy_honda = deepcopy(honda)\n",
    "deepcopy_honda.colors.append(\"Green\")\n",
    "print(deepcopy_honda.colors, \\\n",
    "\thonda.colors)\n",
    "\n",
    "# Shallow Copy of Honda\n",
    "copy_honda = copy(honda)\n",
    "\n",
    "copy_honda.colors.append(\"Green\")\n",
    "print(copy_honda.colors, \\\n",
    "\thonda.colors)\n"
   ]
  },
  {
   "cell_type": "code",
   "execution_count": null,
   "id": "3c271dfb",
   "metadata": {},
   "outputs": [],
   "source": []
  },
  {
   "cell_type": "markdown",
   "id": "9a5dfe3d",
   "metadata": {},
   "source": [
    "### Answer 4"
   ]
  },
  {
   "cell_type": "markdown",
   "id": "621fad55",
   "metadata": {},
   "source": [
    "In python the highest possible length of an indentifier is 79."
   ]
  },
  {
   "cell_type": "code",
   "execution_count": null,
   "id": "fecacc2c",
   "metadata": {},
   "outputs": [],
   "source": []
  },
  {
   "cell_type": "markdown",
   "id": "5203f780",
   "metadata": {},
   "source": [
    "### Answer 5"
   ]
  },
  {
   "cell_type": "markdown",
   "id": "f480b596",
   "metadata": {},
   "source": [
    "It is just like list comprehension except it yield a iterable object .which can be accessed by next() function. \n"
   ]
  },
  {
   "cell_type": "code",
   "execution_count": 7,
   "id": "7bc94f73",
   "metadata": {},
   "outputs": [],
   "source": [
    "a = (x*x for x in range(10))"
   ]
  },
  {
   "cell_type": "code",
   "execution_count": 8,
   "id": "c757bd82",
   "metadata": {},
   "outputs": [
    {
     "data": {
      "text/plain": [
       "0"
      ]
     },
     "execution_count": 8,
     "metadata": {},
     "output_type": "execute_result"
    }
   ],
   "source": [
    "next(a)"
   ]
  },
  {
   "cell_type": "code",
   "execution_count": 9,
   "id": "29899c2b",
   "metadata": {},
   "outputs": [
    {
     "data": {
      "text/plain": [
       "1"
      ]
     },
     "execution_count": 9,
     "metadata": {},
     "output_type": "execute_result"
    }
   ],
   "source": [
    "next(a)"
   ]
  },
  {
   "cell_type": "code",
   "execution_count": null,
   "id": "1ae7757e",
   "metadata": {},
   "outputs": [],
   "source": []
  }
 ],
 "metadata": {
  "kernelspec": {
   "display_name": "Python 3",
   "language": "python",
   "name": "python3"
  },
  "language_info": {
   "codemirror_mode": {
    "name": "ipython",
    "version": 3
   },
   "file_extension": ".py",
   "mimetype": "text/x-python",
   "name": "python",
   "nbconvert_exporter": "python",
   "pygments_lexer": "ipython3",
   "version": "3.8.5"
  }
 },
 "nbformat": 4,
 "nbformat_minor": 5
}
