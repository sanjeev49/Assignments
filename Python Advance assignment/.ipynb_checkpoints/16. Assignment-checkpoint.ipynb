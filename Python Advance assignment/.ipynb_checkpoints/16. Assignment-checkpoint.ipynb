{
 "cells": [
  {
   "cell_type": "markdown",
   "id": "946bd7fa",
   "metadata": {},
   "source": [
    "### Answer 1"
   ]
  },
  {
   "cell_type": "markdown",
   "id": "1ed621c0",
   "metadata": {},
   "source": [
    "Regular expressions are useful in search and replace operations. The typical use case is to look for a sub-string that matches a pattern and replace it with something else. Most APIs using regular expressions allow you to reference capture groups from the search pattern in the replacement string."
   ]
  },
  {
   "cell_type": "code",
   "execution_count": null,
   "id": "f358f38a",
   "metadata": {},
   "outputs": [],
   "source": []
  },
  {
   "cell_type": "markdown",
   "id": "aeb19d18",
   "metadata": {},
   "source": [
    "### Answer 2"
   ]
  },
  {
   "cell_type": "markdown",
   "id": "ba842f8a",
   "metadata": {},
   "source": [
    "(ab)+c is first check for both a and a later for c. in the a(b+c) first it checks for a and then b+c both together. this is how it works."
   ]
  },
  {
   "cell_type": "code",
   "execution_count": null,
   "id": "789735d0",
   "metadata": {},
   "outputs": [],
   "source": []
  },
  {
   "cell_type": "markdown",
   "id": "29826fbf",
   "metadata": {},
   "source": [
    "### Answer 3"
   ]
  },
  {
   "cell_type": "code",
   "execution_count": 1,
   "id": "3cc28db7",
   "metadata": {},
   "outputs": [],
   "source": [
    "import re"
   ]
  },
  {
   "cell_type": "code",
   "execution_count": 2,
   "id": "cf7f9c19",
   "metadata": {},
   "outputs": [],
   "source": [
    "# We just need to import re (regular expression.)"
   ]
  },
  {
   "cell_type": "code",
   "execution_count": null,
   "id": "f353e1ef",
   "metadata": {},
   "outputs": [],
   "source": []
  },
  {
   "cell_type": "markdown",
   "id": "435124fd",
   "metadata": {},
   "source": [
    "### Answer 4"
   ]
  },
  {
   "cell_type": "markdown",
   "id": "41c37480",
   "metadata": {},
   "source": [
    "Some metacharacters are recognized anywhere in a pattern, except within square brackets; other metacharacters are recognized only in square brackets.\n",
    "\n",
    "The Check Point set of regular expressions has been enhanced for R70 and higher."
   ]
  },
  {
   "cell_type": "code",
   "execution_count": null,
   "id": "b4262457",
   "metadata": {},
   "outputs": [],
   "source": []
  },
  {
   "cell_type": "markdown",
   "id": "50cbab01",
   "metadata": {},
   "source": [
    "### Answer 5"
   ]
  },
  {
   "cell_type": "markdown",
   "id": "097be06b",
   "metadata": {},
   "source": [
    "compile(pattern, repl, string): We can combine a regular expression pattern into pattern objects, which can be used for pattern matching. It also helps to search a pattern again without rewriting it."
   ]
  },
  {
   "cell_type": "code",
   "execution_count": 3,
   "id": "712b6886",
   "metadata": {},
   "outputs": [
    {
     "name": "stdout",
     "output_type": "stream",
     "text": [
      "['Sa']\n"
     ]
    }
   ],
   "source": [
    "import re\n",
    "pattern = re.compile('Sa')\n",
    "result = pattern.findall('Sanjeev kumar')\n",
    "print(result)"
   ]
  },
  {
   "cell_type": "markdown",
   "id": "0cbf6439",
   "metadata": {},
   "source": [
    "### Answer 6"
   ]
  },
  {
   "cell_type": "markdown",
   "id": "894b8ae8",
   "metadata": {},
   "source": [
    "re.search() and re.match() both are functions of re module in python. These functions are very efficient and fast for searching in strings. The function searches for some substring in a string and returns a match object if found, else it returns none."
   ]
  },
  {
   "cell_type": "markdown",
   "id": "96be7a59",
   "metadata": {},
   "source": [
    "There is a difference between the use of both functions. Both return the first match of a substring found in the string, but re.match() searches only from the beginning of the string and return match object if found. But if a match of substring is found somewhere in the middle of the string, it returns none. \n",
    "While re.search() searches for the whole string even if the string contains multi-lines and tries to find a match of the substring in all the lines of string."
   ]
  },
  {
   "cell_type": "code",
   "execution_count": null,
   "id": "145d567a",
   "metadata": {},
   "outputs": [],
   "source": []
  },
  {
   "cell_type": "code",
   "execution_count": 9,
   "id": "b2d34f85",
   "metadata": {},
   "outputs": [
    {
     "name": "stdout",
     "output_type": "stream",
     "text": [
      "<re.Match object; span=(75, 81), match='string'>\n",
      "None\n"
     ]
    }
   ],
   "source": [
    "import re\n",
    "Substring = 'string'\n",
    "String1 = '''We are learning regex with geeksforgeeks\n",
    "         regex is very useful for string matching.\n",
    "          It is fast too.'''\n",
    "String2 ='''string We are learning regex with geeksforgeeks\n",
    "         regex is very useful for string matching.\n",
    "          It is fast too.'''\n",
    "\n",
    "print(re.search(Substring, String1, re.IGNORECASE))\n",
    "print(re.match(Substring, String1, re.IGNORECASE))\n"
   ]
  },
  {
   "cell_type": "code",
   "execution_count": null,
   "id": "0a3aa0cd",
   "metadata": {},
   "outputs": [],
   "source": []
  },
  {
   "cell_type": "markdown",
   "id": "1f921221",
   "metadata": {},
   "source": [
    "### Answer 7"
   ]
  },
  {
   "cell_type": "markdown",
   "id": "2f3f2f4c",
   "metadata": {},
   "source": [
    "The vertical bar is a regex \"or\" means \"a or b\"\n",
    "\n",
    "Square brackets are a character class meaning \"any character from a or b.\n",
    "\n",
    "Character class is a shorthand for \"or\"."
   ]
  },
  {
   "cell_type": "code",
   "execution_count": null,
   "id": "b7def64a",
   "metadata": {},
   "outputs": [],
   "source": []
  },
  {
   "cell_type": "markdown",
   "id": "f163ba53",
   "metadata": {},
   "source": [
    "### Answer 8"
   ]
  },
  {
   "cell_type": "markdown",
   "id": "57bc5f55",
   "metadata": {},
   "source": [
    "If you use a raw string and you pass in a pattern like r\"\\t\" to the RegEx parser, Python does not do any interpretation, and it creates a buffer with two bytes in it: '\\', and 't'. (0x5c, 0x74). The RegEx parser knows what to do with the sequence '\\t' -- it matches that against a tab"
   ]
  },
  {
   "cell_type": "code",
   "execution_count": null,
   "id": "a8a42af0",
   "metadata": {},
   "outputs": [],
   "source": []
  }
 ],
 "metadata": {
  "kernelspec": {
   "display_name": "Python 3",
   "language": "python",
   "name": "python3"
  },
  "language_info": {
   "codemirror_mode": {
    "name": "ipython",
    "version": 3
   },
   "file_extension": ".py",
   "mimetype": "text/x-python",
   "name": "python",
   "nbconvert_exporter": "python",
   "pygments_lexer": "ipython3",
   "version": "3.8.5"
  }
 },
 "nbformat": 4,
 "nbformat_minor": 5
}
