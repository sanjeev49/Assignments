{
 "cells": [
  {
   "cell_type": "markdown",
   "id": "3f30d996",
   "metadata": {},
   "source": [
    "### Answer 1"
   ]
  },
  {
   "cell_type": "markdown",
   "id": "65318685",
   "metadata": {},
   "source": [
    "floats: 2.4, -4.2, 0.5\n",
    "\n",
    "\n",
    "decimal: 1,2,3,4,5"
   ]
  },
  {
   "cell_type": "code",
   "execution_count": null,
   "id": "99f9f77e",
   "metadata": {},
   "outputs": [],
   "source": []
  },
  {
   "cell_type": "markdown",
   "id": "5768ef8b",
   "metadata": {},
   "source": [
    "Floats are used when we want exact accuracy  .But it is somehow difficult for humans to make calculation on it.\n",
    "Decimals are used to measure also. It is easy for humans to do calculations with it."
   ]
  },
  {
   "cell_type": "code",
   "execution_count": null,
   "id": "a66e0c91",
   "metadata": {},
   "outputs": [],
   "source": []
  },
  {
   "cell_type": "markdown",
   "id": "1c0b1a55",
   "metadata": {},
   "source": [
    "### Answer 2"
   ]
  },
  {
   "cell_type": "code",
   "execution_count": 1,
   "id": "2e93be5c",
   "metadata": {},
   "outputs": [
    {
     "data": {
      "text/plain": [
       "True"
      ]
     },
     "execution_count": 1,
     "metadata": {},
     "output_type": "execute_result"
    }
   ],
   "source": [
    "1.200 == 1.2"
   ]
  },
  {
   "cell_type": "markdown",
   "id": "8f9e1210",
   "metadata": {},
   "source": [
    "They are the same value. These are just two ways to represent the same value."
   ]
  },
  {
   "cell_type": "code",
   "execution_count": null,
   "id": "1f16a107",
   "metadata": {},
   "outputs": [],
   "source": []
  },
  {
   "cell_type": "markdown",
   "id": "aa40ddfa",
   "metadata": {},
   "source": [
    "### Answer 3"
   ]
  },
  {
   "cell_type": "markdown",
   "id": "128954a4",
   "metadata": {},
   "source": [
    "If we check the equality it will become True."
   ]
  },
  {
   "cell_type": "code",
   "execution_count": 2,
   "id": "dfa51665",
   "metadata": {},
   "outputs": [
    {
     "data": {
      "text/plain": [
       "True"
      ]
     },
     "execution_count": 2,
     "metadata": {},
     "output_type": "execute_result"
    }
   ],
   "source": [
    "1.200 == 1.2"
   ]
  },
  {
   "cell_type": "code",
   "execution_count": null,
   "id": "6d80bcd8",
   "metadata": {},
   "outputs": [],
   "source": []
  },
  {
   "cell_type": "markdown",
   "id": "560975d7",
   "metadata": {},
   "source": [
    "### Answer 4"
   ]
  },
  {
   "cell_type": "markdown",
   "id": "2eda498c",
   "metadata": {},
   "source": [
    "Becuase it will be easier to add and do the calculations."
   ]
  },
  {
   "cell_type": "code",
   "execution_count": null,
   "id": "f9bc628f",
   "metadata": {},
   "outputs": [],
   "source": []
  },
  {
   "cell_type": "markdown",
   "id": "95affd85",
   "metadata": {},
   "source": [
    "### Answer 5"
   ]
  },
  {
   "cell_type": "markdown",
   "id": "9703f780",
   "metadata": {},
   "source": [
    "It is very simple to combine decimal to numbers.\n"
   ]
  },
  {
   "cell_type": "code",
   "execution_count": 3,
   "id": "8595c6a2",
   "metadata": {},
   "outputs": [
    {
     "data": {
      "text/plain": [
       "6.8"
      ]
     },
     "execution_count": 3,
     "metadata": {},
     "output_type": "execute_result"
    }
   ],
   "source": [
    "1 + 5.8"
   ]
  },
  {
   "cell_type": "code",
   "execution_count": null,
   "id": "bd37e885",
   "metadata": {},
   "outputs": [],
   "source": []
  },
  {
   "cell_type": "markdown",
   "id": "b1a8a6c7",
   "metadata": {},
   "source": [
    "### Answer 6"
   ]
  },
  {
   "cell_type": "markdown",
   "id": "7b1c978b",
   "metadata": {},
   "source": [
    "Yes"
   ]
  },
  {
   "cell_type": "code",
   "execution_count": 4,
   "id": "9ab17c0c",
   "metadata": {},
   "outputs": [
    {
     "data": {
      "text/plain": [
       "982342337.2341233"
      ]
     },
     "execution_count": 4,
     "metadata": {},
     "output_type": "execute_result"
    }
   ],
   "source": [
    "4+ 982342333.2341234"
   ]
  },
  {
   "cell_type": "code",
   "execution_count": null,
   "id": "26526c0e",
   "metadata": {},
   "outputs": [],
   "source": []
  },
  {
   "cell_type": "markdown",
   "id": "0db7d23b",
   "metadata": {},
   "source": [
    "### Answer 7"
   ]
  },
  {
   "cell_type": "code",
   "execution_count": 5,
   "id": "99ffceff",
   "metadata": {},
   "outputs": [
    {
     "data": {
      "text/plain": [
       "0.4"
      ]
     },
     "execution_count": 5,
     "metadata": {},
     "output_type": "execute_result"
    }
   ],
   "source": [
    "2/5"
   ]
  },
  {
   "cell_type": "code",
   "execution_count": null,
   "id": "8861c97f",
   "metadata": {},
   "outputs": [],
   "source": []
  },
  {
   "cell_type": "markdown",
   "id": "f14420ab",
   "metadata": {},
   "source": [
    "### Answer 8"
   ]
  },
  {
   "cell_type": "code",
   "execution_count": 6,
   "id": "0cba7e2d",
   "metadata": {},
   "outputs": [
    {
     "data": {
      "text/plain": [
       "2"
      ]
     },
     "execution_count": 6,
     "metadata": {},
     "output_type": "execute_result"
    }
   ],
   "source": [
    "4//2"
   ]
  },
  {
   "cell_type": "code",
   "execution_count": 7,
   "id": "1a641869",
   "metadata": {},
   "outputs": [],
   "source": [
    "# this can be decimal but not floating point value."
   ]
  },
  {
   "cell_type": "code",
   "execution_count": null,
   "id": "f3499632",
   "metadata": {},
   "outputs": [],
   "source": []
  },
  {
   "cell_type": "markdown",
   "id": "be049aef",
   "metadata": {},
   "source": [
    "### Answer 9"
   ]
  },
  {
   "cell_type": "code",
   "execution_count": null,
   "id": "dc83cff9",
   "metadata": {},
   "outputs": [],
   "source": []
  },
  {
   "cell_type": "code",
   "execution_count": null,
   "id": "0a5b7f8d",
   "metadata": {},
   "outputs": [],
   "source": []
  },
  {
   "cell_type": "markdown",
   "id": "4893a68b",
   "metadata": {},
   "source": [
    "### Answer 10"
   ]
  },
  {
   "cell_type": "code",
   "execution_count": 9,
   "id": "6333ce8d",
   "metadata": {},
   "outputs": [
    {
     "data": {
      "text/plain": [
       "False"
      ]
     },
     "execution_count": 9,
     "metadata": {},
     "output_type": "execute_result"
    }
   ],
   "source": [
    "5//2 == 2.5"
   ]
  },
  {
   "cell_type": "code",
   "execution_count": null,
   "id": "93dacad1",
   "metadata": {},
   "outputs": [],
   "source": [
    "# This is how fraction class and decimal points relate to each other."
   ]
  }
 ],
 "metadata": {
  "kernelspec": {
   "display_name": "Python 3",
   "language": "python",
   "name": "python3"
  },
  "language_info": {
   "codemirror_mode": {
    "name": "ipython",
    "version": 3
   },
   "file_extension": ".py",
   "mimetype": "text/x-python",
   "name": "python",
   "nbconvert_exporter": "python",
   "pygments_lexer": "ipython3",
   "version": "3.8.5"
  }
 },
 "nbformat": 4,
 "nbformat_minor": 5
}
