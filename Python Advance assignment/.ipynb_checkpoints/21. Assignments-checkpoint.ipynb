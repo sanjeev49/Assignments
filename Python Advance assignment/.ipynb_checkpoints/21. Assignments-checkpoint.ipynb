{
 "cells": [
  {
   "cell_type": "markdown",
   "id": "f6755a56",
   "metadata": {},
   "source": [
    "### Answer   1"
   ]
  },
  {
   "cell_type": "markdown",
   "id": "d6d753ee",
   "metadata": {},
   "source": [
    "### Probability distribution\n",
    "It is a statistical function that describes all the possible values and likelihood that a random variable be within a given range. This range will be bounded between minimum and maximum possible values, but precisely where the possible values is likelihood to be plotted on the probability distribution dependes of number of factors.\n"
   ]
  },
  {
   "cell_type": "code",
   "execution_count": null,
   "id": "0f6d0b0f",
   "metadata": {},
   "outputs": [],
   "source": []
  },
  {
   "cell_type": "markdown",
   "id": "417d2fff",
   "metadata": {},
   "source": [
    "### Answer 2\n"
   ]
  },
  {
   "cell_type": "markdown",
   "id": "7c58d0ed",
   "metadata": {},
   "source": [
    "The difference between true random number generators(TRNGs) and pseudo-random number generators(PRNGs) is that TRNGs use an unpredictable physical means to generate numbers (like atmospheric noise), and PRNGs use mathematical algorithms (completely computer-generated)."
   ]
  },
  {
   "cell_type": "code",
   "execution_count": null,
   "id": "3bd2b08f",
   "metadata": {},
   "outputs": [],
   "source": [
    "\n"
   ]
  },
  {
   "cell_type": "markdown",
   "id": "bd16f360",
   "metadata": {},
   "source": [
    "### Answer 3"
   ]
  },
  {
   "cell_type": "markdown",
   "id": "5042b241",
   "metadata": {},
   "source": [
    "- Mean\n",
    "- standard deviation"
   ]
  },
  {
   "cell_type": "code",
   "execution_count": null,
   "id": "ee50a649",
   "metadata": {},
   "outputs": [],
   "source": []
  },
  {
   "cell_type": "markdown",
   "id": "a2bd4e50",
   "metadata": {},
   "source": [
    "### Answer 4"
   ]
  },
  {
   "cell_type": "markdown",
   "id": "f6936edc",
   "metadata": {},
   "source": [
    "Height of the population is the example of normal distribution. Most of the people in a specific population are of average height. The number of people taller and shorter than the average height people is almost equal, and a very small number of people are either extremely tall or extremely short. However, height is not a single characteristic, several genetic and environmental factors influence height. Therefore, it follows the normal distribution.\n",
    "\n"
   ]
  },
  {
   "cell_type": "code",
   "execution_count": null,
   "id": "060f05e3",
   "metadata": {},
   "outputs": [],
   "source": []
  },
  {
   "cell_type": "markdown",
   "id": "0264f519",
   "metadata": {},
   "source": [
    "### Answer 5"
   ]
  },
  {
   "cell_type": "markdown",
   "id": "6dec0b57",
   "metadata": {},
   "source": [
    "when the number of trials grows the bell curve become more smooth"
   ]
  },
  {
   "cell_type": "code",
   "execution_count": null,
   "id": "14e416a7",
   "metadata": {},
   "outputs": [],
   "source": []
  },
  {
   "cell_type": "markdown",
   "id": "8ce757c8",
   "metadata": {},
   "source": [
    "### Answer 6"
   ]
  },
  {
   "cell_type": "code",
   "execution_count": 3,
   "id": "73463a7f",
   "metadata": {},
   "outputs": [
    {
     "name": "stdout",
     "output_type": "stream",
     "text": [
      "[1, 2, 3, 4, 'ram', 'ramu', 89, 'asdklf']\n",
      "[2, 'ramu', 'ram', 1, 3, 4, 'asdklf', 89]\n"
     ]
    }
   ],
   "source": [
    "import random\n",
    "\n",
    "li = [1,2,3,4,'ram', 'ramu', 89, 'asdklf']\n",
    "print(li)\n",
    "\n",
    "random.shuffle(li)\n",
    "print(li)"
   ]
  },
  {
   "cell_type": "code",
   "execution_count": null,
   "id": "86f72d6f",
   "metadata": {},
   "outputs": [],
   "source": []
  },
  {
   "cell_type": "markdown",
   "id": "2450dde2",
   "metadata": {},
   "source": [
    "### Answer 7"
   ]
  },
  {
   "cell_type": "code",
   "execution_count": 4,
   "id": "f2b5e0a5",
   "metadata": {},
   "outputs": [
    {
     "data": {
      "text/plain": [
       "2.8284271247461903"
      ]
     },
     "execution_count": 4,
     "metadata": {},
     "output_type": "execute_result"
    }
   ],
   "source": [
    "import math\n",
    "math.sqrt(8)"
   ]
  },
  {
   "cell_type": "code",
   "execution_count": null,
   "id": "39e4bcae",
   "metadata": {},
   "outputs": [],
   "source": []
  },
  {
   "cell_type": "markdown",
   "id": "b5be6f31",
   "metadata": {},
   "source": [
    "### Answer 8"
   ]
  },
  {
   "cell_type": "markdown",
   "id": "e8c03aed",
   "metadata": {},
   "source": [
    "Logarithms are the \"opposite\" of exponentials, just as subtraction is the opposite of addition and division is the opposite of multiplication. Logs \"undo\" exponentials. Technically speaking, logs are the inverses of exponentials. On the left-hand side above is the exponential statement \"y = bx\"."
   ]
  },
  {
   "cell_type": "code",
   "execution_count": null,
   "id": "88ccf21d",
   "metadata": {},
   "outputs": [],
   "source": []
  },
  {
   "cell_type": "markdown",
   "id": "aa9d2924",
   "metadata": {},
   "source": [
    "### Answer 9"
   ]
  },
  {
   "cell_type": "code",
   "execution_count": 5,
   "id": "4c20d7f0",
   "metadata": {},
   "outputs": [
    {
     "data": {
      "text/plain": [
       "0.6931471805599453"
      ]
     },
     "execution_count": 5,
     "metadata": {},
     "output_type": "execute_result"
    }
   ],
   "source": [
    "import math\n",
    "math.log(2)"
   ]
  },
  {
   "cell_type": "code",
   "execution_count": 7,
   "id": "6dc23465",
   "metadata": {},
   "outputs": [
    {
     "name": "stdout",
     "output_type": "stream",
     "text": [
      "log for value 2\n",
      "4.321928094887363\n"
     ]
    }
   ],
   "source": [
    "print(\"log for value 2\")\n",
    "print(math.log2(20))"
   ]
  },
  {
   "cell_type": "code",
   "execution_count": 9,
   "id": "3c750ec0",
   "metadata": {},
   "outputs": [
    {
     "name": "stdout",
     "output_type": "stream",
     "text": [
      "log value for base 4: \n",
      "2.6609640474436813\n"
     ]
    }
   ],
   "source": [
    "print('log value for base 4: ')\n",
    "print(math.log(40,4))"
   ]
  },
  {
   "cell_type": "code",
   "execution_count": null,
   "id": "6efc12f8",
   "metadata": {},
   "outputs": [],
   "source": []
  }
 ],
 "metadata": {
  "kernelspec": {
   "display_name": "Python 3",
   "language": "python",
   "name": "python3"
  },
  "language_info": {
   "codemirror_mode": {
    "name": "ipython",
    "version": 3
   },
   "file_extension": ".py",
   "mimetype": "text/x-python",
   "name": "python",
   "nbconvert_exporter": "python",
   "pygments_lexer": "ipython3",
   "version": "3.8.5"
  }
 },
 "nbformat": 4,
 "nbformat_minor": 5
}
