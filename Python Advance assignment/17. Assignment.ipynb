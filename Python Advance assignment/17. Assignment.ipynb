{
 "cells": [
  {
   "cell_type": "markdown",
   "id": "eb9f0da0",
   "metadata": {},
   "source": [
    "### Answer 1"
   ]
  },
  {
   "cell_type": "markdown",
   "id": "28f720da",
   "metadata": {},
   "source": [
    "The usual rule for matching in REs is sometimes called “left-most longest“: when a pattern can be matched at more than one place within a string, the chosen match will be the one that starts at the earliest possible position within the string, and then extends as far as possible. Normally Perl pattern matching is greedy. By greedy, we mean that the parser tries to match as much as possible. In the string abcbcbcde, for example, the pattern"
   ]
  },
  {
   "cell_type": "markdown",
   "id": "40ded0c1",
   "metadata": {},
   "source": [
    "In some cases, however, it may be desirable to obtain a “left-most shortest” or minimal match. We can make a greedy matching into a non-greedy match using ‘?‘ at the end of RE i.e ‘*?‘ matches the smallest number of instances of the preceding subexpression that will allow the overall match to succeed. Similarly, ‘+?‘ matches at least one instance, but no more than necessary to allow the overall match to succeed, and ‘??‘ matches either zero or one instances, with a preference for zero."
   ]
  },
  {
   "cell_type": "code",
   "execution_count": null,
   "id": "3670c2e3",
   "metadata": {},
   "outputs": [],
   "source": []
  },
  {
   "cell_type": "markdown",
   "id": "0303ddd4",
   "metadata": {},
   "source": [
    "### Answer 2"
   ]
  },
  {
   "cell_type": "markdown",
   "id": "33121ada",
   "metadata": {},
   "source": [
    "when we are looking for all the matching pattern then it is considered under the greedy match. but if we are looking for only one set of letters that matches our match is known as non-greedy search.\n"
   ]
  },
  {
   "cell_type": "code",
   "execution_count": null,
   "id": "4c8312d4",
   "metadata": {},
   "outputs": [],
   "source": []
  },
  {
   "cell_type": "markdown",
   "id": "26c53286",
   "metadata": {},
   "source": [
    "### Answer 3"
   ]
  },
  {
   "cell_type": "code",
   "execution_count": null,
   "id": "0a7c793b",
   "metadata": {},
   "outputs": [],
   "source": []
  },
  {
   "cell_type": "code",
   "execution_count": null,
   "id": "b71d60d5",
   "metadata": {},
   "outputs": [],
   "source": []
  },
  {
   "cell_type": "markdown",
   "id": "62afd638",
   "metadata": {},
   "source": [
    "### Answer 4"
   ]
  },
  {
   "cell_type": "markdown",
   "id": "e3ea692f",
   "metadata": {},
   "source": [
    "Guidelines for Writing Effective, Measurable Program Learning Outcomes ... that describe what a student will be able to do once learning has occurred."
   ]
  },
  {
   "cell_type": "code",
   "execution_count": null,
   "id": "e28b63e6",
   "metadata": {},
   "outputs": [],
   "source": []
  },
  {
   "cell_type": "markdown",
   "id": "3d252402",
   "metadata": {},
   "source": [
    "### Answer 5"
   ]
  },
  {
   "cell_type": "markdown",
   "id": "96fd203e",
   "metadata": {},
   "source": [
    " If you do not want that, you need to use lookahead and lookbehind. But I digress. I did not yet explain how character classes work inside the regex."
   ]
  },
  {
   "cell_type": "code",
   "execution_count": null,
   "id": "6297ba38",
   "metadata": {},
   "outputs": [],
   "source": []
  },
  {
   "cell_type": "markdown",
   "id": "48a37bf6",
   "metadata": {},
   "source": [
    "### Answer 6"
   ]
  },
  {
   "cell_type": "markdown",
   "id": "f7d527a1",
   "metadata": {},
   "source": [
    "Lookahead has the same effect, but works ahead. It tells the regex engine to temporarily step ahead in the string, to check if the text inside the lookahead can be matched there. (?<!a)b matches a “b” that is not preceded by an “a”, using negative ahead."
   ]
  },
  {
   "cell_type": "code",
   "execution_count": null,
   "id": "55b71d7c",
   "metadata": {},
   "outputs": [],
   "source": []
  },
  {
   "cell_type": "markdown",
   "id": "2265ab41",
   "metadata": {},
   "source": [
    "### Answer 7"
   ]
  },
  {
   "cell_type": "code",
   "execution_count": null,
   "id": "411b47bd",
   "metadata": {},
   "outputs": [],
   "source": []
  }
 ],
 "metadata": {
  "kernelspec": {
   "display_name": "Python 3",
   "language": "python",
   "name": "python3"
  },
  "language_info": {
   "codemirror_mode": {
    "name": "ipython",
    "version": 3
   },
   "file_extension": ".py",
   "mimetype": "text/x-python",
   "name": "python",
   "nbconvert_exporter": "python",
   "pygments_lexer": "ipython3",
   "version": "3.8.5"
  }
 },
 "nbformat": 4,
 "nbformat_minor": 5
}
