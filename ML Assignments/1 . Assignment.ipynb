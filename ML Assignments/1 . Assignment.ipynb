{
 "cells": [
  {
   "cell_type": "markdown",
   "id": "6f45a584",
   "metadata": {},
   "source": [
    "### Answer 1 `Definition of Machine Learning`"
   ]
  },
  {
   "cell_type": "markdown",
   "id": "82b039f0",
   "metadata": {},
   "source": [
    "Instead of engineers “teaching” or programming computers to have what they need \n",
    "to carry out tasks, that perhaps computers could teach themselves – learn something without being \n",
    "explicitly programmed to do so. ML is a form of AI where based on more data, and they can change \n",
    "actions and response, which will make more efficient, adaptable and scalable. e.g., navigation apps and \n",
    "recommendation engines.\n",
    "\n",
    "- Three Types of Machine learning\n",
    "1. Supervised Machine Learning\n",
    "2. Unsupervised Machine learning\n",
    "3. Reinforcement Learning"
   ]
  },
  {
   "cell_type": "code",
   "execution_count": null,
   "id": "8d534032",
   "metadata": {},
   "outputs": [],
   "source": []
  },
  {
   "cell_type": "markdown",
   "id": "161eaf02",
   "metadata": {},
   "source": [
    "### Answer 2"
   ]
  },
  {
   "cell_type": "markdown",
   "id": "ec842aac",
   "metadata": {},
   "source": [
    "#### Machine Learning is solving various types of Problems \n",
    "The major field where machine learning shining is \n",
    "- Health care industry(disease prediction, disease detection)\n",
    "- Entertainment industry(youtube, google search, netflix recommendation, spotify recommendation)\n",
    "- Face Detection(google lense , face detection door lock)\n",
    "- Space exploration, implementing more advance security."
   ]
  },
  {
   "cell_type": "code",
   "execution_count": null,
   "id": "4b571e5f",
   "metadata": {},
   "outputs": [],
   "source": []
  },
  {
   "cell_type": "markdown",
   "id": "ce1f0269-1fda-470c-9bde-54e7f60cda3d",
   "metadata": {},
   "source": [
    "### Answer 3"
   ]
  },
  {
   "cell_type": "markdown",
   "id": "7d5dda00-c536-4901-a72b-f3e1bba6794e",
   "metadata": {},
   "source": [
    "- Labeled Trainning sets are columns which are independent variable in case of classification and regression problems."
   ]
  },
  {
   "cell_type": "code",
   "execution_count": null,
   "id": "2ea1e2aa-1be9-441d-9171-79cf741dfad6",
   "metadata": {},
   "outputs": [],
   "source": []
  },
  {
   "cell_type": "markdown",
   "id": "14e6d50a-a073-465a-8b7f-6ef278d0d52f",
   "metadata": {},
   "source": [
    "### Answer 4"
   ]
  },
  {
   "cell_type": "markdown",
   "id": "91e9963c-de1a-4972-bd03-00cfa541b849",
   "metadata": {},
   "source": [
    "- Credit card fraud detection\n",
    "- Stock Market Detection"
   ]
  },
  {
   "cell_type": "code",
   "execution_count": null,
   "id": "578afc38-7b16-492e-8220-5acb05eac48a",
   "metadata": {},
   "outputs": [],
   "source": []
  },
  {
   "cell_type": "markdown",
   "id": "6c4d4aee-5822-4536-bf5c-536a4b8957dc",
   "metadata": {},
   "source": [
    "### Answer 5"
   ]
  },
  {
   "cell_type": "markdown",
   "id": "b1d9885f-b32c-4e9d-9e92-9cf5539c1408",
   "metadata": {},
   "source": [
    "#### Unsupervised Learning Tasks are:-\n",
    "- Recommendation System\n",
    "- Face Recognition\n",
    "- Customer Segementation\n",
    "- Genetics (Clustering DNA patterns)"
   ]
  },
  {
   "cell_type": "code",
   "execution_count": null,
   "id": "099381ad-ae76-4e17-8301-e336f4f48503",
   "metadata": {},
   "outputs": [],
   "source": []
  },
  {
   "cell_type": "markdown",
   "id": "e5f8fa73-f54c-4955-b316-bce4615561b7",
   "metadata": {},
   "source": [
    "### Answer 6"
   ]
  },
  {
   "cell_type": "code",
   "execution_count": 2,
   "id": "5702ae83-5905-4658-b11a-4cf0a874c516",
   "metadata": {},
   "outputs": [],
   "source": [
    "# Machine learning model that would be best for a robot to walk various unfamiliar terrain is \n",
    "# Reinforcement Learning"
   ]
  },
  {
   "cell_type": "code",
   "execution_count": null,
   "id": "44d32704-bcb1-41da-a64e-59898c15eb08",
   "metadata": {},
   "outputs": [],
   "source": []
  },
  {
   "cell_type": "markdown",
   "id": "06a49a1b-1751-48b0-9fd9-a5985e70e11a",
   "metadata": {},
   "source": [
    "### Answer 7\n",
    "- To Divide our customers into different groups we can use clustering in machine learning."
   ]
  },
  {
   "cell_type": "code",
   "execution_count": null,
   "id": "e0fa28dd-7238-482d-8baa-82e5c6d1a1c1",
   "metadata": {},
   "outputs": [],
   "source": []
  },
  {
   "cell_type": "markdown",
   "id": "251f317f-6a41-4015-af71-4deb945f1253",
   "metadata": {},
   "source": [
    "### Answer 8"
   ]
  },
  {
   "cell_type": "markdown",
   "id": "3ef10fe1-4fa3-4291-9afb-7b3de7970d73",
   "metadata": {},
   "source": [
    "#### Spam detection is Supervised Machine learning"
   ]
  },
  {
   "cell_type": "code",
   "execution_count": null,
   "id": "37458efe-c793-467d-9547-3295529f0d81",
   "metadata": {},
   "outputs": [],
   "source": []
  },
  {
   "cell_type": "markdown",
   "id": "4f2288ee-18c8-4a88-b062-29ca594fa01d",
   "metadata": {},
   "source": [
    "### Answer 9"
   ]
  },
  {
   "cell_type": "code",
   "execution_count": null,
   "id": "4d8488a9-449d-40a9-9197-a46c6d44a673",
   "metadata": {},
   "outputs": [],
   "source": []
  }
 ],
 "metadata": {
  "kernelspec": {
   "display_name": "Python 3 (ipykernel)",
   "language": "python",
   "name": "python3"
  },
  "language_info": {
   "codemirror_mode": {
    "name": "ipython",
    "version": 3
   },
   "file_extension": ".py",
   "mimetype": "text/x-python",
   "name": "python",
   "nbconvert_exporter": "python",
   "pygments_lexer": "ipython3",
   "version": "3.8.5"
  }
 },
 "nbformat": 4,
 "nbformat_minor": 5
}
