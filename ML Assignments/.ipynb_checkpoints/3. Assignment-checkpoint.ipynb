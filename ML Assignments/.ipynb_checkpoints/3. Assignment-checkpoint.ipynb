{
 "cells": [
  {
   "cell_type": "markdown",
   "id": "8971088d",
   "metadata": {},
   "source": [
    "### Answer 1"
   ]
  },
  {
   "cell_type": "markdown",
   "id": "073de406",
   "metadata": {},
   "source": [
    "Machine learning is a collection of algorithms which can predict the future events without being explicitly programmed. \n",
    "Machine learning learn prediction by historical data and can make prediction."
   ]
  },
  {
   "cell_type": "markdown",
   "id": "cbd9787d",
   "metadata": {},
   "source": [
    "Application of Machine Learning\n",
    "- Prediction weather\n",
    "- Youtube recommendations system"
   ]
  },
  {
   "cell_type": "markdown",
   "id": "a5eaef3b",
   "metadata": {},
   "source": [
    "### Answer 2"
   ]
  },
  {
   "cell_type": "markdown",
   "id": "5609ada8",
   "metadata": {},
   "source": [
    "I. Under the supervision of experts humans can learn in a proper way by the help and guidance of their superiors/masters.\n",
    "This is the best and safest way to learn anything in the terms of proper learning.\n",
    "\n",
    "II. With the assistant of expert in indirect manner humnas will try to generate its own idea sometimes. If its wrong experts will  help them and guide them to correct path.\n",
    "\n",
    "III. When learning by self any humna can make mistakes learn from it. Try not to repeat the same mistake again . Become happy when it does a task all by itself. "
   ]
  },
  {
   "cell_type": "code",
   "execution_count": null,
   "id": "e4b5c69a",
   "metadata": {},
   "outputs": [],
   "source": []
  },
  {
   "cell_type": "markdown",
   "id": "f170d739",
   "metadata": {},
   "source": [
    "### Answer 3"
   ]
  },
  {
   "cell_type": "markdown",
   "id": "12003b13",
   "metadata": {},
   "source": [
    "- Supervised Learning\n",
    "- Unsupervised Learning\n",
    "- Reinforcement Learning\n",
    "### Hybrid Learning Problems\n",
    "- Semi-supervised Learning\n",
    "- Self-supervised Learning\n",
    "- Multi Instance Learning\n",
    "\n",
    " ### Statistical Infrence\n",
    " - Inductive Learning\n",
    " - Deductive Learning\n",
    " - Transductive Learning\n",
    " \n",
    " ### Learning Techniques\n",
    " - Multitasking Learning\n",
    " - Active Learning\n",
    " - Online Learning\n",
    " - Ensemble Learning"
   ]
  },
  {
   "cell_type": "code",
   "execution_count": null,
   "id": "caa79b58",
   "metadata": {},
   "outputs": [],
   "source": []
  },
  {
   "cell_type": "markdown",
   "id": "2354abb7",
   "metadata": {},
   "source": [
    "### 4. Various Forms of Machine Learning"
   ]
  },
  {
   "cell_type": "markdown",
   "id": "38e3cf2a",
   "metadata": {},
   "source": [
    "- Supervised Learning :- In this type of machine learning our algorithm try to find the relationship between labeled data.\n",
    "ON the basis of this relationship it try to predict the future data. IN this machine learning type there is dependent and indenpenet feature. The algorithm try to learn the relationship between dependent and indepnedent feature and predict the outcome.\n",
    "\n",
    "- Unsupervised Learning :- IN this type of machine learning the dataset has no any independent feature. It try to group our dataset on the basis of similarities. \n",
    "\n",
    "- Reinforcement Learning:- IN this type of machine learning our algorithm learn by making mistakes. and penalize itself for mistakes and give reward itself for achievements."
   ]
  },
  {
   "cell_type": "code",
   "execution_count": null,
   "id": "d71b03e0",
   "metadata": {},
   "outputs": [],
   "source": []
  },
  {
   "cell_type": "markdown",
   "id": "d13f2246",
   "metadata": {},
   "source": [
    "### Answer 5"
   ]
  },
  {
   "cell_type": "markdown",
   "id": "0e6d0f86",
   "metadata": {},
   "source": [
    "- Task\n",
    "- Performance Measure \n",
    "- Experience \n",
    "\n",
    "1. To better filter emails as spam or not \n",
    "\n",
    "- Task – Classifying emails as spam or not\n",
    "- Performance Measure – The fraction of emails accurately classified as spam or not spam \n",
    "- Experience – Observing you label emails as spam or not spam "
   ]
  },
  {
   "cell_type": "code",
   "execution_count": null,
   "id": "16fe96d4",
   "metadata": {},
   "outputs": [],
   "source": []
  },
  {
   "cell_type": "markdown",
   "id": "f0d3b6b8",
   "metadata": {},
   "source": [
    "### Answer 6"
   ]
  },
  {
   "cell_type": "markdown",
   "id": "3984cf80",
   "metadata": {},
   "source": [
    "No machine learning can't solve every problems in the world. Here are some examples.\n",
    "- Reasoning Power:- ML algorithms lack the ability to reason beyond their intended application.\n",
    "\n",
    "- Contextual Limitation:- If we consider the area of natural language processing (NLP), text and speech information are the means to understand languages by NLP algorithms. They may learn letters, words, sentences or even the syntax, but where they fall back is the context of the language. Algorithms do not understand the context of the language used. A classic example for this would be the “Chinese room” argument given by philosopher John Searle, which says that computer programs or algorithms grasp the idea merely by ‘symbols’ rather than the context given.\n",
    "\n",
    "- Scalibility :- growing data has to be dealt the right way if shared on an ML platform which again needs examination through knowledge and intuition apparently lacked by current ML.\n",
    "\n",
    "- ML usually need considerable amounts (in fact, massive) of data in stages such as training, cross-validation etc. Sometimes, data includes private as well as general information. This is where it gets complicated. Most tech companies have privatised data and these data are the ones which are actually useful for ML applications. But, there comes the risk of the wrong usage of data, especially in critical areas such as medical research, health insurance etc.,"
   ]
  },
  {
   "cell_type": "code",
   "execution_count": null,
   "id": "aedbab72",
   "metadata": {},
   "outputs": [],
   "source": []
  },
  {
   "cell_type": "markdown",
   "id": "d6bd7bb9",
   "metadata": {},
   "source": [
    "### Answer 7"
   ]
  },
  {
   "cell_type": "markdown",
   "id": "00f110de",
   "metadata": {},
   "source": [
    "- Regression\n",
    "- classificatoin \n",
    "- Clustering\n",
    "- Dimensionality Reduction\n",
    "- Neural Nets and Deep Learning\n",
    "- Reinforcement Learning\n",
    "- Transfer Learning\n",
    "\n"
   ]
  },
  {
   "cell_type": "code",
   "execution_count": null,
   "id": "3535029d",
   "metadata": {},
   "outputs": [],
   "source": []
  },
  {
   "cell_type": "markdown",
   "id": "6c222dec",
   "metadata": {},
   "source": [
    "### Answer 8"
   ]
  },
  {
   "cell_type": "markdown",
   "id": "f4588929",
   "metadata": {},
   "source": [
    "- Varioud Forms of supervised learning\n",
    "- Regression:- Regression is task of predicting the continuos data by learning from the trainning data by finding the best parametes value which minimizes the error and gives the best results.\n",
    "\n",
    "- Classification:- In this we try to predict the class/label of  a problem by leanring form the past experiences."
   ]
  },
  {
   "cell_type": "code",
   "execution_count": null,
   "id": "a07ea0cd",
   "metadata": {},
   "outputs": [],
   "source": []
  },
  {
   "cell_type": "markdown",
   "id": "e8459e07",
   "metadata": {},
   "source": [
    "### Answer 9"
   ]
  },
  {
   "cell_type": "markdown",
   "id": "145f5488",
   "metadata": {},
   "source": [
    "- In superviese machine leanring we teach our model to learn on labeled data.  It means that data is aleardy tagged with correct answers. After that the machine learning is provided with some set of examples After that machine can analyse the training data and come up with prediction .\n",
    "\n",
    "- Unsupervised learning is the training of a machine using information that is neither classified nor labeled and allowing the algorithm to act on that information without guidance. Here the task of the machine is to group unsorted information according to similarities, patterns, and differences without any prior training of data. \n",
    "\n",
    "Unlike supervised learning, no teacher is provided that means no training will be given to the machine. Therefore the machine is restricted to find the hidden structure in unlabeled data by itself. "
   ]
  },
  {
   "cell_type": "code",
   "execution_count": null,
   "id": "5e3f3b2a",
   "metadata": {},
   "outputs": [],
   "source": []
  }
 ],
 "metadata": {
  "kernelspec": {
   "display_name": "Python 3 (ipykernel)",
   "language": "python",
   "name": "python3"
  },
  "language_info": {
   "codemirror_mode": {
    "name": "ipython",
    "version": 3
   },
   "file_extension": ".py",
   "mimetype": "text/x-python",
   "name": "python",
   "nbconvert_exporter": "python",
   "pygments_lexer": "ipython3",
   "version": "3.8.12"
  }
 },
 "nbformat": 4,
 "nbformat_minor": 5
}
