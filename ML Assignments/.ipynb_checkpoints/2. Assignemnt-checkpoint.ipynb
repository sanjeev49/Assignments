{
 "cells": [
  {
   "cell_type": "markdown",
   "id": "188576af",
   "metadata": {},
   "source": [
    "### 1. What is the concept of the Concept of Human Learning?"
   ]
  },
  {
   "cell_type": "markdown",
   "id": "d952dc6b",
   "metadata": {},
   "source": [
    "The Process of aquiring new understanding , knowledge, behaviour, skills, values, attitude and prefrences."
   ]
  },
  {
   "cell_type": "code",
   "execution_count": null,
   "id": "ed9a63c9",
   "metadata": {},
   "outputs": [],
   "source": []
  },
  {
   "cell_type": "markdown",
   "id": "fdaf673a",
   "metadata": {},
   "source": [
    "### 2. What different forms of human learning are there? Are there any machine learning equivalents?\n"
   ]
  },
  {
   "cell_type": "markdown",
   "id": "c86a4114",
   "metadata": {},
   "source": [
    "- Supervised Learning:- In supervised Learning an algorithm is feeded with labele data and it and the algorithm tries  to generalize the relationship by using some function. And when it is trained on the data then it can predict from new data.Supervised learning is similar to `concept learning` (Bruner & Austin, 1986), where a person is required to classify new objects into existing categories, by matching the features of the new objects to examples in the categories"
   ]
  },
  {
   "cell_type": "markdown",
   "id": "7309365d",
   "metadata": {},
   "source": [
    "In unsupervised learning, the training dataset does not have any labelled corresponding output values (Hastie et al., 2009) . Since there are no “correct answers” to learn from, the objective of the algorithm is to uncover any interesting patterns that it can find in the data, and new data will help to confirm or disconfirm these patterns that it finds. Some of the well-known examples of unsupervised learning include k-means clustering, principal component analysis and artificial neural networks.\n",
    "\n",
    "Artificial neural networks follow the neuronal principle of `Hebbian learning`, where the algorithm centres on inputs with similar properties, just like how neurons that activate simultaneously strengthen the synaptic link between each other"
   ]
  },
  {
   "cell_type": "markdown",
   "id": "30b68680",
   "metadata": {},
   "source": [
    "In reinforcement learning, there are “correct answers” but the input data is not paired with the desired outputs. The “correct answers” contain numerical rewards, which the algorithm needs to maximise by choosing the correct actions to take. This is very much similar to a mouse navigating through a maze looking for food, where wrong moves result in the punishment of hunger, and right moves get it to the food more quickly."
   ]
  },
  {
   "cell_type": "code",
   "execution_count": null,
   "id": "b7001c46",
   "metadata": {},
   "outputs": [],
   "source": []
  },
  {
   "cell_type": "markdown",
   "id": "027d8236",
   "metadata": {},
   "source": [
    "### 3. What is machine learning, and how does it work? What are the key responsibilities of machine learning?"
   ]
  },
  {
   "cell_type": "markdown",
   "id": "736680ff",
   "metadata": {},
   "source": [
    "Machine learning (ML) is a type of artificial intelligence (AI) that allows software applications to become more accurate at predicting outcomes without being explicitly programmed to do so. Machine learning algorithms use historical data as input to predict new output values."
   ]
  },
  {
   "cell_type": "markdown",
   "id": "75cc62e4",
   "metadata": {},
   "source": [
    "It works by learning on the train data and generalize the relationship between the data. \n",
    "When it  is trainned it can predicts the result  of the new unseen data easily.\n",
    "This is the basic concept of machine learning."
   ]
  },
  {
   "cell_type": "markdown",
   "id": "a2741c3b",
   "metadata": {},
   "source": [
    "Responbilities of Machine Learning:\n",
    "- Find out the relationship between dataset and generalize the model.\n",
    "- It try to minimize the loss between actual data and train data.\n",
    "- Finds out the best parameters by hyperparameter tunning."
   ]
  },
  {
   "cell_type": "code",
   "execution_count": null,
   "id": "b38a3c86",
   "metadata": {},
   "outputs": [],
   "source": []
  },
  {
   "cell_type": "markdown",
   "id": "9031afc2",
   "metadata": {},
   "source": [
    "### 4.Define the term \"penalty\" and \"reward\" in context of reinforcement Learning."
   ]
  },
  {
   "cell_type": "markdown",
   "id": "d6ce5138",
   "metadata": {},
   "source": [
    "A reinforcement learning algorithm, which may also be referred to as an agent, learns by interacting with its environment. The agent receives rewards by performing correctly and penalties for performing incorrectly. The agent learns without intervention from a human by maximizing its reward and minimizing its penalty."
   ]
  },
  {
   "cell_type": "code",
   "execution_count": null,
   "id": "87adb012",
   "metadata": {},
   "outputs": [],
   "source": []
  },
  {
   "cell_type": "markdown",
   "id": "7c11e963",
   "metadata": {},
   "source": [
    "### 5. Explain the term  learning as a search?"
   ]
  },
  {
   "cell_type": "markdown",
   "id": "a85dfc0d",
   "metadata": {},
   "source": [
    "The input to a learning program consists of descriptions of objects from the universe (the training set) and, in the case of supervised learning, an output value associated with the example. A program is limited in the concepts that it can learn by the representational capabilities of both the observation language (i.e., the language used to describe the training examples) and hypothesis language(the language used to describe the concept)."
   ]
  },
  {
   "cell_type": "code",
   "execution_count": null,
   "id": "7b935682",
   "metadata": {},
   "outputs": [],
   "source": []
  },
  {
   "cell_type": "markdown",
   "id": "d7d82246",
   "metadata": {},
   "source": [
    "### 6.What are the various goals of machine learning? What is the relationship between these and human learning?"
   ]
  },
  {
   "cell_type": "markdown",
   "id": "095c5a3f",
   "metadata": {},
   "source": [
    "Goals of Machine Learning:\n",
    "- Clustering\n",
    "- Two class and multiClass classification. \n",
    "- Regression:- Univariate,Bivariate, Multivariate.\n",
    "- Anamoly Detectoin:- Supervised and Unsupervised.\n",
    "- Recommendation system\n",
    "\n",
    "These are related to human learning in the form of\n",
    "- Concept Learning.\n",
    "- Hebbian Learning."
   ]
  },
  {
   "cell_type": "code",
   "execution_count": null,
   "id": "ce46308d",
   "metadata": {},
   "outputs": [],
   "source": []
  },
  {
   "cell_type": "markdown",
   "id": "a46c5a70",
   "metadata": {},
   "source": [
    "### Answer 7"
   ]
  },
  {
   "cell_type": "markdown",
   "id": "91b5f8b2",
   "metadata": {},
   "source": [
    "##### Image Recognition\n",
    "Image recognition is one of the most common uses of machine learning. There are many situations where you can classify the object as a digital image. For example, in the case of a black and white image, the intensity of each pixel is served as one of the measurements. In colored images, each pixel provides 3 measurements of intensities in three different colors – red, green and blue (RGB).\n",
    "\n",
    "Machine learning can be used for face detection in an image as well. There is a separate category for each person in a database of several people. Machine learning is also used for character recognition to discern handwritten as well as printed letters.  We can segment a piece of writing into smaller images, each containing a single character.\n",
    "\n",
    "##### Speech Recognition\n",
    "Speech recognition is the translation of spoken words into the text. It is also known as computer speech recognition or automatic speech recognition. Here, a software application can recognize the words spoken in an audio clip or file, and then subsequently convert the audio into a text file. The measurement in this application can be a set of numbers that represent the speech signal. We can also segment the speech signal by intensities in different time-frequency bands.\n",
    "\n",
    "Speech recognition is used in the applications like voice user interface, voice searches and more. Voice user interfaces include voice dialing, call routing, and appliance control. It can also be used a simple data entry and the preparation of structured documents.\n",
    "\n",
    "##### Medical diagnosis\n",
    "Machine learning can be used in the techniques and tools that can help in the diagnosis of diseases. It is used for the analysis of the clinical parameters and their combination for the prognosis example prediction of disease progression for the extraction of medical knowledge for the outcome research, for therapy planning and patient monitoring. These are the successful implementations of the machine learning methods. It can help in the integration of computer-based systems in the healthcare sector.\n",
    "\n",
    "##### Classification\n",
    "A classification is a process of placing each individual under study in many classes. Classification helps to analyze the measurements of an object to identify the category to which that object belongs. To establish an efficient relation, analysts use data. For example, before a bank decides to distribute loans, it assesses the customers on their ability to pay loans. By considering the factors like customer’s earnings, savings, and financial history, we can do it. This information is taken from the past data on the loan.\n",
    "\n",
    "##### Prediction\n",
    "Machine learning can also be used in the prediction systems. Considering the loan example, to compute the probability of a fault, the system will need to classify the available data in groups. It is defined by a set of rules prescribed by the analysts. Once the classification is done, we can calculate the probability of the fault. These computations can compute across all the sectors for varied purposes. Making predictions is one of the best machine learning applications.\n",
    "\n",
    "##### Regression\n",
    "We can also implement machine learning in the regression as well. In regression, we can use the principle of machine learning to optimize the parameters. It can also be used to decrease the approximation error and calculate the closest possible outcome. We can also use the machine learning for the function optimization. We can also choose to alter the inputs in order to get the closest possible outcome."
   ]
  },
  {
   "cell_type": "code",
   "execution_count": null,
   "id": "08407ee2",
   "metadata": {},
   "outputs": [],
   "source": []
  },
  {
   "cell_type": "markdown",
   "id": "defd965d",
   "metadata": {},
   "source": [
    "### Answer 8"
   ]
  },
  {
   "cell_type": "code",
   "execution_count": 1,
   "id": "c5b45183",
   "metadata": {},
   "outputs": [
    {
     "name": "stdout",
     "output_type": "stream",
     "text": [
      "True\n",
      "True\n"
     ]
    }
   ],
   "source": [
    "import abc\n",
    " \n",
    "class parent:      \n",
    "    def geeks(self):\n",
    "        pass\n",
    " \n",
    "class child(parent):\n",
    "    def geeks(self):\n",
    "        print(\"child class\")\n",
    " \n",
    "# Driver code\n",
    "print( issubclass(child, parent))\n",
    "print( isinstance(child(), parent))"
   ]
  },
  {
   "cell_type": "code",
   "execution_count": null,
   "id": "6d903ed8",
   "metadata": {},
   "outputs": [],
   "source": []
  }
 ],
 "metadata": {
  "kernelspec": {
   "display_name": "Python 3 (ipykernel)",
   "language": "python",
   "name": "python3"
  },
  "language_info": {
   "codemirror_mode": {
    "name": "ipython",
    "version": 3
   },
   "file_extension": ".py",
   "mimetype": "text/x-python",
   "name": "python",
   "nbconvert_exporter": "python",
   "pygments_lexer": "ipython3",
   "version": "3.8.5"
  }
 },
 "nbformat": 4,
 "nbformat_minor": 5
}
