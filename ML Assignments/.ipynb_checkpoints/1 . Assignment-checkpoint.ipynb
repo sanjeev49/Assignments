{
 "cells": [
  {
   "cell_type": "markdown",
   "id": "6f45a584",
   "metadata": {},
   "source": [
    "### Answer 1 `Definition of Machine Learning`"
   ]
  },
  {
   "cell_type": "markdown",
   "id": "82b039f0",
   "metadata": {},
   "source": [
    "Instead of engineers “teaching” or programming computers to have what they need \n",
    "to carry out tasks, that perhaps computers could teach themselves – learn something without being \n",
    "explicitly programmed to do so. ML is a form of AI where based on more data, and they can change \n",
    "actions and response, which will make more efficient, adaptable and scalable. e.g., navigation apps and \n",
    "recommendation engines.\n",
    "\n",
    "- Three Types of Machine learning\n",
    "1. Supervised Machine Learning\n",
    "2. Unsupervised Machine learning\n",
    "3. Reinforcement Learning"
   ]
  },
  {
   "cell_type": "code",
   "execution_count": null,
   "id": "8d534032",
   "metadata": {},
   "outputs": [],
   "source": []
  },
  {
   "cell_type": "markdown",
   "id": "161eaf02",
   "metadata": {},
   "source": [
    "### Answer 2"
   ]
  },
  {
   "cell_type": "markdown",
   "id": "ec842aac",
   "metadata": {},
   "source": [
    "#### Machine Learning is solving various types of Problems \n",
    "The major field where machine learning shining is \n",
    "- Health care industry(disease prediction, disease detection)\n",
    "- Entertainment industry(youtube, google search, netflix recommendation, spotify recommendation)\n",
    "- Face Detection(google lense , face detection door lock)\n",
    "- Space exploration, implementing more advance security."
   ]
  },
  {
   "cell_type": "code",
   "execution_count": null,
   "id": "4b571e5f",
   "metadata": {},
   "outputs": [],
   "source": []
  },
  {
   "cell_type": "markdown",
   "id": "ce1f0269-1fda-470c-9bde-54e7f60cda3d",
   "metadata": {},
   "source": [
    "### Answer 3"
   ]
  },
  {
   "cell_type": "markdown",
   "id": "7d5dda00-c536-4901-a72b-f3e1bba6794e",
   "metadata": {},
   "source": [
    "- Labeled Trainning sets are columns which are independent variable in case of classification and regression problems."
   ]
  },
  {
   "cell_type": "code",
   "execution_count": null,
   "id": "2ea1e2aa-1be9-441d-9171-79cf741dfad6",
   "metadata": {},
   "outputs": [],
   "source": []
  },
  {
   "cell_type": "markdown",
   "id": "14e6d50a-a073-465a-8b7f-6ef278d0d52f",
   "metadata": {},
   "source": [
    "### Answer 4"
   ]
  },
  {
   "cell_type": "markdown",
   "id": "91e9963c-de1a-4972-bd03-00cfa541b849",
   "metadata": {},
   "source": [
    "- Credit card fraud detection\n",
    "- Stock Market Detection"
   ]
  },
  {
   "cell_type": "code",
   "execution_count": null,
   "id": "578afc38-7b16-492e-8220-5acb05eac48a",
   "metadata": {},
   "outputs": [],
   "source": []
  },
  {
   "cell_type": "markdown",
   "id": "6c4d4aee-5822-4536-bf5c-536a4b8957dc",
   "metadata": {},
   "source": [
    "### Answer 5"
   ]
  },
  {
   "cell_type": "markdown",
   "id": "b1d9885f-b32c-4e9d-9e92-9cf5539c1408",
   "metadata": {},
   "source": [
    "#### Unsupervised Learning Tasks are:-\n",
    "- Recommendation System\n",
    "- Face Recognition\n",
    "- Customer Segementation\n",
    "- Genetics (Clustering DNA patterns)"
   ]
  },
  {
   "cell_type": "code",
   "execution_count": null,
   "id": "099381ad-ae76-4e17-8301-e336f4f48503",
   "metadata": {},
   "outputs": [],
   "source": []
  },
  {
   "cell_type": "markdown",
   "id": "e5f8fa73-f54c-4955-b316-bce4615561b7",
   "metadata": {},
   "source": [
    "### Answer 6"
   ]
  },
  {
   "cell_type": "code",
   "execution_count": 2,
   "id": "5702ae83-5905-4658-b11a-4cf0a874c516",
   "metadata": {},
   "outputs": [],
   "source": [
    "# Machine learning model that would be best for a robot to walk various unfamiliar terrain is \n",
    "# Reinforcement Learning"
   ]
  },
  {
   "cell_type": "code",
   "execution_count": null,
   "id": "44d32704-bcb1-41da-a64e-59898c15eb08",
   "metadata": {},
   "outputs": [],
   "source": []
  },
  {
   "cell_type": "markdown",
   "id": "06a49a1b-1751-48b0-9fd9-a5985e70e11a",
   "metadata": {},
   "source": [
    "### Answer 7\n",
    "- To Divide our customers into different groups we can use clustering in machine learning."
   ]
  },
  {
   "cell_type": "code",
   "execution_count": null,
   "id": "e0fa28dd-7238-482d-8baa-82e5c6d1a1c1",
   "metadata": {},
   "outputs": [],
   "source": []
  },
  {
   "cell_type": "markdown",
   "id": "251f317f-6a41-4015-af71-4deb945f1253",
   "metadata": {},
   "source": [
    "### Answer 8"
   ]
  },
  {
   "cell_type": "markdown",
   "id": "3ef10fe1-4fa3-4291-9afb-7b3de7970d73",
   "metadata": {},
   "source": [
    "#### Spam detection is Supervised Machine learning"
   ]
  },
  {
   "cell_type": "code",
   "execution_count": null,
   "id": "37458efe-c793-467d-9547-3295529f0d81",
   "metadata": {},
   "outputs": [],
   "source": []
  },
  {
   "cell_type": "markdown",
   "id": "4f2288ee-18c8-4a88-b062-29ca594fa01d",
   "metadata": {},
   "source": [
    "### Answer 9"
   ]
  },
  {
   "cell_type": "markdown",
   "id": "f7edd2f3",
   "metadata": {},
   "source": [
    "IN online learnig system we train our dataset on small small parts. It consumes less resources than batch learning\n",
    ". It is useful in a case where we  needed to take immediate action on some events. Ex. Demonetization had started in india so if a website is using our model to recommend the news then we should train our model in such a way that it can immediate learn and apply those things.\n",
    "Online learning is useful in such a cases where we can concurrently do our model trainnig and our prediction is in our hand."
   ]
  },
  {
   "cell_type": "code",
   "execution_count": null,
   "id": "25f9280a",
   "metadata": {},
   "outputs": [],
   "source": []
  },
  {
   "cell_type": "markdown",
   "id": "9ba7bb68",
   "metadata": {},
   "source": [
    "### Answer 10"
   ]
  },
  {
   "cell_type": "markdown",
   "id": "17013cd1",
   "metadata": {},
   "source": [
    "The term out-of-core typically refers to processing data that is too large to fit into a computer’s main memory.\n",
    "Typically, when a dataset fits neatly into a computer’s main memory, randomly accessing sections of data has a (relatively) small performance penalty.\n",
    "\n",
    "When data must be stored in a medium like a large spinning hard drive or an external computer network, it becomes very expensive to randomly seek to an arbitrary section of data or to process the same data multiple times.\n",
    "\n",
    "In such a case, an out-of-core algorithm would try to access all relevant data in one sequence.\n",
    "\n",
    "However, modern computers have a deep memory hierarchy, and replacing random access with sequential access can increase performance even on datasets that fit within memory."
   ]
  },
  {
   "cell_type": "code",
   "execution_count": null,
   "id": "469638f8",
   "metadata": {},
   "outputs": [],
   "source": []
  },
  {
   "cell_type": "markdown",
   "id": "06729b8d",
   "metadata": {},
   "source": [
    "### Answer 11"
   ]
  },
  {
   "cell_type": "markdown",
   "id": "129f40cb",
   "metadata": {},
   "source": [
    "KNearestNeighbor algorithm is a type of algorithm which makes prediction on the basis of similarity measure.\n",
    "It finds out the similarity by applied some maths formula like manhattan distance, euclidena formula, minkwoski etc.\n",
    "it try to find the similar instance in the train data which we have provided in the form of test data. and make the prediction.\n",
    "\n",
    "- So knn makes the prediction on the basis of similarity ."
   ]
  },
  {
   "cell_type": "code",
   "execution_count": null,
   "id": "06c32130",
   "metadata": {},
   "outputs": [],
   "source": []
  },
  {
   "cell_type": "markdown",
   "id": "e12b6572",
   "metadata": {},
   "source": [
    "### Answer 12"
   ]
  },
  {
   "cell_type": "code",
   "execution_count": null,
   "id": "02b6c81e",
   "metadata": {},
   "outputs": [],
   "source": []
  },
  {
   "cell_type": "markdown",
   "id": "ef13ea98",
   "metadata": {},
   "source": [
    "Model parameter is the parametrs inside any model which can change the direction of learnign by doing some changes in to it.Some of the value has default value of model parameter if we don't specifiy anything than it is going to take as it is.\n",
    "and finds out the coffeceint on the basis of  it.\n",
    "\n",
    "- Hyperparameter tunning is when we want to find out the possible best parameter for a model than in such cases\n",
    "we give hyperparameter tunner some values which might be the value of the hyperparamters.\n",
    "and hyperparameter algorithm test each and every possible combination given by us and finds the best parameter values .\n",
    "And we can extract those params value and fit into a model and thers is high chance that those hyperparametrs increase the accuracy of the model."
   ]
  },
  {
   "cell_type": "code",
   "execution_count": null,
   "id": "70966387",
   "metadata": {},
   "outputs": [],
   "source": []
  },
  {
   "cell_type": "markdown",
   "id": "d5ca36a0",
   "metadata": {},
   "source": [
    "### Answer 13"
   ]
  },
  {
   "cell_type": "markdown",
   "id": "9d0b9935",
   "metadata": {},
   "source": [
    "The goal for a model-based algorithm is to be able to generalize to new examples. To do this, model based algorithms search for optimal values for the model's parameters, often called theta. This searching, or \"learning\", is what machine learning is all about. Model-based system learn by minimizing a cost function that measures how bad the system is at making predicitons on new data, plus a penalty for model complexity if the model is regularized. To make a prediction, a new instance's features are fed into a hypothesis function which uses the minimized theta found by repeatedly running the cost function."
   ]
  },
  {
   "cell_type": "markdown",
   "id": "4e9c5db9",
   "metadata": {},
   "source": [
    "### Answer 14"
   ]
  },
  {
   "cell_type": "markdown",
   "id": "939620a8",
   "metadata": {},
   "source": [
    "Four Important Machine learning challenges.\n",
    "- Gahtering of Data:- In real life scenario data may not always be in the form of csv, we have to extract it from different \n",
    "sources. To do this it takes a lot of time so this may be the biggest challenges.\n",
    "- EDA:- Exploratory Data Analysis is second most challennging and time counsuming part where we handle duplicats, missing values, handle outliers , find out the meaningful information which is hidden insde  the data . So this process takes most of the time.\n",
    "- Feature Selection:- To do this we have to do multiple test on the data , talk to our client about our data to understand it better. Finds out the corellated feature and handle them either by deleting them or making the new feature by combining multiple features.\n",
    "- When your model performs well on the training data, but not on test data, you've over fit your model. Models that suffer from overfitting do not generalize well to new examples. Overfitting happens when the model is too complex relative to the amount and noisiness of the data.\n",
    "\n",
    " Try simplyfying the model by reducing the number of features in the data or constraining the parameters by reducing the degrees of freedom.\n",
    "Gather more training data.\n",
    "Reduce noise in the training data by fixing errors and removing outliers.\n"
   ]
  },
  {
   "cell_type": "code",
   "execution_count": null,
   "id": "91dc254b",
   "metadata": {},
   "outputs": [],
   "source": []
  },
  {
   "cell_type": "markdown",
   "id": "8def61f5",
   "metadata": {},
   "source": [
    "### Answer 15"
   ]
  },
  {
   "cell_type": "markdown",
   "id": "0b94b38f",
   "metadata": {},
   "source": [
    "If a model perfroms well on the trainning data but fails to generalize it on the test data this situation is called overfitting.\n",
    "To handle it:-\n",
    "- Prune/Minimze the complexity of the algorithm.\n",
    "- Try to gain more data so that our model can overcome overfitting.\n",
    "- Try to handle outliers, noise in the data, duplicates values. "
   ]
  },
  {
   "cell_type": "code",
   "execution_count": null,
   "id": "a2e2e958",
   "metadata": {},
   "outputs": [],
   "source": []
  },
  {
   "cell_type": "markdown",
   "id": "c0cc718d",
   "metadata": {},
   "source": [
    "### Answer 16"
   ]
  },
  {
   "cell_type": "markdown",
   "id": "e9fea51a",
   "metadata": {},
   "source": [
    "When we want to train our algorithm at that time it is best practice to always keep  some part of the data for testing purpose. Because it will tell us how good/bad our model is generalized. So testing data is used for testing the accuracy/score of the model. Without test data we can't say that if our model has generalized good or bad.\n",
    "Some algorihms even give their prediction when we pass it the testing data. like KNN, svm kernel. etc."
   ]
  },
  {
   "cell_type": "code",
   "execution_count": null,
   "id": "3e54317b",
   "metadata": {},
   "outputs": [],
   "source": []
  },
  {
   "cell_type": "markdown",
   "id": "f1c950bb",
   "metadata": {},
   "source": [
    "### Answer 17"
   ]
  },
  {
   "cell_type": "markdown",
   "id": "745ee486",
   "metadata": {},
   "source": [
    "Let's say we have a linear model and we want to perform some hyperparameter tuning to reduce the generalization error. One way to do this 100 different models with 100 different hyperparameter values using the training set and finding the generalization error with the test set. You find the best hyperparameter value gives you 5% generalization error.\n",
    "\n",
    "So you launch the model into production and find you're seeing 15% generalization error. This isn't going as expected. What happened?\n",
    "\n",
    "The problem is that for each iteration of hyperparameter tuning, you measured the generalization error then updated the model using the same test set. In other words, your produced the best generalization error for the test set. The test set no longer represents cases the model hasn't seen before.\n",
    "\n",
    "A common solution to this problem is to have a second holdout set called the validation set. You train multiple models with various hyperparameters using the training set, you select the model and hyperparameters that perform best on the validation set, and when you are happy about your model you run a single final test against the test set to get an estimate of the generalization error."
   ]
  },
  {
   "cell_type": "code",
   "execution_count": null,
   "id": "dab362a6",
   "metadata": {},
   "outputs": [],
   "source": []
  },
  {
   "cell_type": "markdown",
   "id": "c9e145db",
   "metadata": {},
   "source": [
    "### Answer 19"
   ]
  },
  {
   "cell_type": "markdown",
   "id": "1daf1768",
   "metadata": {},
   "source": [
    "In that situation our model will not generalize in a best way. becuase generally size of the test set is not given much in some cases it is 20-30% only. So, there is high chance of overfitting."
   ]
  },
  {
   "cell_type": "code",
   "execution_count": null,
   "id": "9a84d561",
   "metadata": {},
   "outputs": [],
   "source": []
  }
 ],
 "metadata": {
  "kernelspec": {
   "display_name": "Python 3 (ipykernel)",
   "language": "python",
   "name": "python3"
  },
  "language_info": {
   "codemirror_mode": {
    "name": "ipython",
    "version": 3
   },
   "file_extension": ".py",
   "mimetype": "text/x-python",
   "name": "python",
   "nbconvert_exporter": "python",
   "pygments_lexer": "ipython3",
   "version": "3.8.5"
  }
 },
 "nbformat": 4,
 "nbformat_minor": 5
}
