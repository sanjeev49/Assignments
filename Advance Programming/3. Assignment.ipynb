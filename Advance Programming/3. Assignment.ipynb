{
 "cells": [
  {
   "cell_type": "markdown",
   "id": "6139d05a",
   "metadata": {},
   "source": [
    "### Answer 1"
   ]
  },
  {
   "cell_type": "code",
   "execution_count": 6,
   "id": "00fadd37",
   "metadata": {},
   "outputs": [],
   "source": [
    "def arithmetic_operation(st):\n",
    "    re = 1\n",
    "    n1 = \"\"\n",
    "    n2 = \"\"\n",
    "    add_res = 0\n",
    "    substract_res = 0\n",
    "    multiply_res = 1\n",
    "    div_res = 1\n",
    "    for i in range(2):\n",
    "        n1+=st[i]\n",
    "    for j in range(5,7):\n",
    "        n2+=st[j]\n",
    "    operator = st[4]\n",
    "    num1 = int(n1)\n",
    "    num2 = int(n2)\n",
    "    if operator == \"/\":\n",
    "        if num2 == 0:\n",
    "            return -1\n",
    "        else:\n",
    "            return num1//num2\n",
    "    \n",
    "    \n",
    "    \n",
    "    "
   ]
  },
  {
   "cell_type": "code",
   "execution_count": 7,
   "id": "f94e7d9a",
   "metadata": {},
   "outputs": [],
   "source": [
    "arithmetic_operation(\"13 / 12\")"
   ]
  },
  {
   "cell_type": "code",
   "execution_count": null,
   "id": "47438bf4",
   "metadata": {},
   "outputs": [],
   "source": []
  },
  {
   "cell_type": "markdown",
   "id": "7bcefb02",
   "metadata": {},
   "source": [
    "### Answer 2"
   ]
  },
  {
   "cell_type": "code",
   "execution_count": 9,
   "id": "7c81248a",
   "metadata": {},
   "outputs": [],
   "source": [
    "import math\n",
    "def perimeter(li):\n",
    "    res = 0\n",
    "    for i in range(len(li)):\n",
    "        for j in li[i]:\n",
    "            a = li[0]\n",
    "            b = li[1]\n",
    "            c = li[2]\n",
    "        \n",
    "    ab = ((b[0]-a[0])**2+(b[1]-a[1])**2)\n",
    "    ab = math.sqrt(ab)\n",
    "    bc = ((c[0]-b[0])**2+(c[1]-b[1])**2)\n",
    "    bc = math.sqrt(bc)\n",
    "    ca = ((a[0]-c[0])**2+(a[1]-c[1])**2)\n",
    "    ca = math.sqrt(ca)\n",
    "    return ab+bc+ca\n",
    "        "
   ]
  },
  {
   "cell_type": "code",
   "execution_count": 10,
   "id": "e663fe0e",
   "metadata": {},
   "outputs": [
    {
     "data": {
      "text/plain": [
       "47.07918859608948"
      ]
     },
     "execution_count": 10,
     "metadata": {},
     "output_type": "execute_result"
    }
   ],
   "source": [
    "perimeter( [ [15, 7], [5, 22], [11, 1] ] )"
   ]
  },
  {
   "cell_type": "code",
   "execution_count": 11,
   "id": "a4354755",
   "metadata": {},
   "outputs": [
    {
     "data": {
      "text/plain": [
       "68.2842712474619"
      ]
     },
     "execution_count": 11,
     "metadata": {},
     "output_type": "execute_result"
    }
   ],
   "source": [
    "perimeter( [ [-10, -10], [10, 10 ], [-10, 10] ] )"
   ]
  },
  {
   "cell_type": "code",
   "execution_count": 12,
   "id": "9fdbadc1",
   "metadata": {},
   "outputs": [
    {
     "data": {
      "text/plain": [
       "3.414213562373095"
      ]
     },
     "execution_count": 12,
     "metadata": {},
     "output_type": "execute_result"
    }
   ],
   "source": [
    "perimeter( [ [0, 0], [0, 1], [1, 0] ] )"
   ]
  },
  {
   "cell_type": "code",
   "execution_count": null,
   "id": "6ad3b1e3",
   "metadata": {},
   "outputs": [],
   "source": []
  },
  {
   "cell_type": "markdown",
   "id": "aa34f89b",
   "metadata": {},
   "source": [
    "### Answer 3"
   ]
  },
  {
   "cell_type": "code",
   "execution_count": 17,
   "id": "4bc9f0c0",
   "metadata": {},
   "outputs": [],
   "source": [
    "def tallest_skyscraper(li):\n",
    "    li2 = []\n",
    "    a = []\n",
    "    b = []\n",
    "    c = []\n",
    "    d = []\n",
    "    res_1 = 0\n",
    "    res_2 = 0\n",
    "    res_3 = 0\n",
    "    res_4 = 0\n",
    "    for i in li:\n",
    "        a =  li[0]\n",
    "        b = li[1]\n",
    "        c = li[2]\n",
    "        d = li[3]\n",
    "    return a,b,c,d\n",
    "    "
   ]
  },
  {
   "cell_type": "code",
   "execution_count": 18,
   "id": "f02d3b61",
   "metadata": {},
   "outputs": [
    {
     "data": {
      "text/plain": [
       "([0, 0, 0, 0], [0, 1, 0, 0], [0, 1, 1, 0], [1, 1, 1, 1])"
      ]
     },
     "execution_count": 18,
     "metadata": {},
     "output_type": "execute_result"
    }
   ],
   "source": [
    "tallest_skyscraper([\n",
    "  [0, 0, 0, 0],\n",
    "  [0, 1, 0, 0],\n",
    "  [0, 1, 1, 0],\n",
    "  [1, 1, 1, 1]\n",
    "])\n"
   ]
  },
  {
   "cell_type": "code",
   "execution_count": null,
   "id": "b599f197",
   "metadata": {},
   "outputs": [],
   "source": [
    "def column(matrix, i):\n",
    "    return [row[i] for row in matrix]"
   ]
  }
 ],
 "metadata": {
  "kernelspec": {
   "display_name": "Python 3",
   "language": "python",
   "name": "python3"
  },
  "language_info": {
   "codemirror_mode": {
    "name": "ipython",
    "version": 3
   },
   "file_extension": ".py",
   "mimetype": "text/x-python",
   "name": "python",
   "nbconvert_exporter": "python",
   "pygments_lexer": "ipython3",
   "version": "3.8.5"
  }
 },
 "nbformat": 4,
 "nbformat_minor": 5
}
