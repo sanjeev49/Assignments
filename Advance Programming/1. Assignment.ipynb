{
 "cells": [
  {
   "cell_type": "markdown",
   "id": "20fae923",
   "metadata": {},
   "source": [
    "### Answer 1"
   ]
  },
  {
   "cell_type": "code",
   "execution_count": 1,
   "id": "87a4dcce",
   "metadata": {},
   "outputs": [],
   "source": [
    "def check_score(li):\n",
    "    res = 0\n",
    "    l = []\n",
    "    for i in li:\n",
    "        for j in i:\n",
    "            if j == \"#\":\n",
    "                l.append(5)\n",
    "            elif j==\"O\":\n",
    "                l.append(3)\n",
    "            elif j == \"X\":\n",
    "                l.append(1)\n",
    "            elif j == \"!\":\n",
    "                l.append(-1)\n",
    "            elif j == \"!!\":\n",
    "                l.append(-3)\n",
    "            elif j == \"!!!\":\n",
    "                l.append(-5)\n",
    "    \n",
    "    for i in l:\n",
    "        res += i\n",
    "    if res <= 0:\n",
    "        return 0\n",
    "    else:\n",
    "        return res\n",
    "\n",
    "    "
   ]
  },
  {
   "cell_type": "code",
   "execution_count": 2,
   "id": "5954b192",
   "metadata": {},
   "outputs": [
    {
     "data": {
      "text/plain": [
       "2"
      ]
     },
     "execution_count": 2,
     "metadata": {},
     "output_type": "execute_result"
    }
   ],
   "source": [
    "li = ([\n",
    "  [\"#\", \"!\"],\n",
    "  [\"!!\", \"X\"]\n",
    "])\n",
    "check_score(li)\n"
   ]
  },
  {
   "cell_type": "code",
   "execution_count": 3,
   "id": "760b5580",
   "metadata": {},
   "outputs": [
    {
     "data": {
      "text/plain": [
       "0"
      ]
     },
     "execution_count": 3,
     "metadata": {},
     "output_type": "execute_result"
    }
   ],
   "source": [
    "check_score([\n",
    "  [\"!!!\", \"O\", \"!\"],\n",
    "  [\"X\", \"#\", \"!!!\"],\n",
    "  [\"!!\", \"X\", \"O\"]\n",
    "]) \n"
   ]
  },
  {
   "cell_type": "markdown",
   "id": "bdbb618f",
   "metadata": {},
   "source": [
    "### Answer 2"
   ]
  },
  {
   "cell_type": "code",
   "execution_count": 4,
   "id": "3937f3bd",
   "metadata": {},
   "outputs": [],
   "source": [
    "def combinations(*args):\n",
    "    res = 1\n",
    "    for i in args:\n",
    "        res *= i\n",
    "    return res"
   ]
  },
  {
   "cell_type": "code",
   "execution_count": 5,
   "id": "d5ee2be4",
   "metadata": {},
   "outputs": [
    {
     "data": {
      "text/plain": [
       "6"
      ]
     },
     "execution_count": 5,
     "metadata": {},
     "output_type": "execute_result"
    }
   ],
   "source": [
    "combinations(1,2,3)"
   ]
  },
  {
   "cell_type": "code",
   "execution_count": 6,
   "id": "e98e29b9",
   "metadata": {},
   "outputs": [
    {
     "data": {
      "text/plain": [
       "1512"
      ]
     },
     "execution_count": 6,
     "metadata": {},
     "output_type": "execute_result"
    }
   ],
   "source": [
    "combinations(1,2,3,4,7,9)"
   ]
  },
  {
   "cell_type": "code",
   "execution_count": 7,
   "id": "9ff6d4c3",
   "metadata": {},
   "outputs": [
    {
     "data": {
      "text/plain": [
       "120"
      ]
     },
     "execution_count": 7,
     "metadata": {},
     "output_type": "execute_result"
    }
   ],
   "source": [
    "combinations(2,3,4,5)"
   ]
  },
  {
   "cell_type": "code",
   "execution_count": null,
   "id": "8cf68088",
   "metadata": {},
   "outputs": [],
   "source": []
  },
  {
   "cell_type": "markdown",
   "id": "ada72787",
   "metadata": {},
   "source": [
    "### Answer 3"
   ]
  },
  {
   "cell_type": "code",
   "execution_count": 20,
   "id": "771ee8b5",
   "metadata": {},
   "outputs": [],
   "source": [
    "def encode_morse(message):\n",
    "    morse = \"\"\n",
    "    char_to_dots = {\n",
    "      'A': '.-', 'B': '-...', 'C': '-.-.', 'D': '-..', 'E': '.', 'F': '..-.',\n",
    "      'G': '--.', 'H': '....', 'I': '..', 'J': '.---', 'K': '-.-', 'L': '.-..',\n",
    "      'M': '--', 'N': '-.', 'O': '---', 'P': '.--.', 'Q': '--.-', 'R': '.-.',\n",
    "      'S': '...', 'T': '-', 'U': '..-', 'V': '...-', 'W': '.--', 'X': '-..-',\n",
    "      'Y': '-.--', 'Z': '--..', ' ': ' ', '0': '-----',\n",
    "      '1': '.----', '2': '..---', '3': '...--', '4': '....-', '5': '.....',\n",
    "      '6': '-....', '7': '--...', '8': '---..', '9': '----.',\n",
    "      '&': '.-...', \"'\": '.----.', '@': '.--.-.', ')': '-.--.-', '(': '-.--.',\n",
    "      ':': '---...', ',': '--..--', '=': '-...-', '!': '-.-.--', '.': '.-.-.-',\n",
    "      '-': '-....-', '+': '.-.-.', '\"': '.-..-.', '?': '..--..', '/': '-..-.'\n",
    "    }\n",
    "    for letter in message:\n",
    "        if letter != \" \":\n",
    "            morse += char_to_dots[letter]+' '\n",
    "        else:\n",
    "            morse += \" \"\n",
    "    return morse\n"
   ]
  },
  {
   "cell_type": "code",
   "execution_count": 21,
   "id": "e4559958",
   "metadata": {},
   "outputs": [
    {
     "data": {
      "text/plain": [
       "'.... . .-.. .--.  -- .  -.-.-- '"
      ]
     },
     "execution_count": 21,
     "metadata": {},
     "output_type": "execute_result"
    }
   ],
   "source": [
    "encode_morse(\"HELP ME !\")"
   ]
  },
  {
   "cell_type": "code",
   "execution_count": 24,
   "id": "9717705e",
   "metadata": {},
   "outputs": [
    {
     "data": {
      "text/plain": [
       "'. -.. .- -... -... .. -  -.-. .... .- .-.. .-.. . -. --. . '"
      ]
     },
     "execution_count": 24,
     "metadata": {},
     "output_type": "execute_result"
    }
   ],
   "source": [
    "encode_morse(\"EDABBIT CHALLENGE\")"
   ]
  },
  {
   "cell_type": "code",
   "execution_count": null,
   "id": "a68bb660",
   "metadata": {},
   "outputs": [],
   "source": []
  },
  {
   "cell_type": "markdown",
   "id": "8c680209",
   "metadata": {},
   "source": [
    "### Answer 4"
   ]
  },
  {
   "cell_type": "code",
   "execution_count": 35,
   "id": "fb449530",
   "metadata": {},
   "outputs": [],
   "source": [
    "def prime(num):\n",
    "    flag = False\n",
    "    if num >1:\n",
    "        for i in range(2, num):\n",
    "            if (num%i) == 0:\n",
    "                flag = True\n",
    "                break\n",
    "    if flag:\n",
    "        return False\n",
    "    else:\n",
    "        return True"
   ]
  },
  {
   "cell_type": "code",
   "execution_count": 36,
   "id": "89abb575",
   "metadata": {},
   "outputs": [
    {
     "data": {
      "text/plain": [
       "True"
      ]
     },
     "execution_count": 36,
     "metadata": {},
     "output_type": "execute_result"
    }
   ],
   "source": [
    "prime(7)"
   ]
  },
  {
   "cell_type": "code",
   "execution_count": 38,
   "id": "3c295cd1",
   "metadata": {},
   "outputs": [
    {
     "data": {
      "text/plain": [
       "True"
      ]
     },
     "execution_count": 38,
     "metadata": {},
     "output_type": "execute_result"
    }
   ],
   "source": [
    "prime(56963)"
   ]
  },
  {
   "cell_type": "code",
   "execution_count": 39,
   "id": "6df9ca73",
   "metadata": {},
   "outputs": [
    {
     "data": {
      "text/plain": [
       "False"
      ]
     },
     "execution_count": 39,
     "metadata": {},
     "output_type": "execute_result"
    }
   ],
   "source": [
    "prime(5151512515524)"
   ]
  },
  {
   "cell_type": "code",
   "execution_count": 40,
   "id": "5f8ffd02",
   "metadata": {},
   "outputs": [
    {
     "data": {
      "text/plain": [
       "False"
      ]
     },
     "execution_count": 40,
     "metadata": {},
     "output_type": "execute_result"
    }
   ],
   "source": [
    "prime(393)"
   ]
  },
  {
   "cell_type": "code",
   "execution_count": null,
   "id": "2afa7cef",
   "metadata": {},
   "outputs": [],
   "source": []
  },
  {
   "cell_type": "markdown",
   "id": "1b5828f2",
   "metadata": {},
   "source": [
    "### Answer 5"
   ]
  },
  {
   "cell_type": "code",
   "execution_count": 70,
   "id": "8a4912a7",
   "metadata": {},
   "outputs": [],
   "source": [
    "def to_boolean_list(number):\n",
    "    arr  = []\n",
    "    bul = []\n",
    "    res = []\n",
    "    num = 31\n",
    "    for i in number:\n",
    "        arr.append((ord(i)&num))\n",
    "    for i in arr:\n",
    "        if (i%2==0):\n",
    "            bul.append(1)\n",
    "        else:\n",
    "            bul.append(1)\n",
    "    print(arr)\n",
    "    print(bul)\n",
    "    for i in bul:\n",
    "        if i == 1:\n",
    "            res.append(True)\n",
    "        else:\n",
    "            res.append(False)\n",
    "    return res"
   ]
  },
  {
   "cell_type": "code",
   "execution_count": 71,
   "id": "b26ba9e8",
   "metadata": {},
   "outputs": [
    {
     "name": "stdout",
     "output_type": "stream",
     "text": [
      "[4, 5, 5, 16]\n",
      "[1, 0, 0, 1]\n"
     ]
    },
    {
     "data": {
      "text/plain": [
       "[True, False, False, True]"
      ]
     },
     "execution_count": 71,
     "metadata": {},
     "output_type": "execute_result"
    }
   ],
   "source": [
    "to_boolean_list(\"deep\")"
   ]
  },
  {
   "cell_type": "code",
   "execution_count": 57,
   "id": "0060c744",
   "metadata": {},
   "outputs": [
    {
     "data": {
      "text/plain": [
       "4"
      ]
     },
     "execution_count": 57,
     "metadata": {},
     "output_type": "execute_result"
    }
   ],
   "source": [
    "100 & 31"
   ]
  },
  {
   "cell_type": "code",
   "execution_count": null,
   "id": "0fd8d0f2",
   "metadata": {},
   "outputs": [],
   "source": []
  }
 ],
 "metadata": {
  "kernelspec": {
   "display_name": "Python 3",
   "language": "python",
   "name": "python3"
  },
  "language_info": {
   "codemirror_mode": {
    "name": "ipython",
    "version": 3
   },
   "file_extension": ".py",
   "mimetype": "text/x-python",
   "name": "python",
   "nbconvert_exporter": "python",
   "pygments_lexer": "ipython3",
   "version": "3.8.5"
  }
 },
 "nbformat": 4,
 "nbformat_minor": 5
}
