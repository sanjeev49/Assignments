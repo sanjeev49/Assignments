{
 "cells": [
  {
   "cell_type": "markdown",
   "id": "03efd5c7",
   "metadata": {},
   "source": [
    "### Answer 1"
   ]
  },
  {
   "cell_type": "code",
   "execution_count": 48,
   "id": "b69d10e9",
   "metadata": {},
   "outputs": [],
   "source": [
    "def vowel_links(li):\n",
    "    res1 = False\n",
    "    res2 = False\n",
    "    li = li.split(\" \")\n",
    "    vowel = ['a','e','i','o','u']\n",
    "    \n",
    "    for i in range(len(li)-1):\n",
    "        for k in vowel:\n",
    "            if li[i].endswith(k):\n",
    "                res1 = True\n",
    "            if li[i+1].startswith(k):\n",
    "                res2 = True\n",
    "    res = res1 and res2\n",
    "    return res\n",
    "        \n",
    "        "
   ]
  },
  {
   "cell_type": "code",
   "execution_count": 49,
   "id": "b22debd3",
   "metadata": {},
   "outputs": [
    {
     "data": {
      "text/plain": [
       "False"
      ]
     },
     "execution_count": 49,
     "metadata": {},
     "output_type": "execute_result"
    }
   ],
   "source": [
    "vowel_links(\"an open fire\")"
   ]
  },
  {
   "cell_type": "code",
   "execution_count": 50,
   "id": "b9c944c3",
   "metadata": {},
   "outputs": [
    {
     "data": {
      "text/plain": [
       "True"
      ]
     },
     "execution_count": 50,
     "metadata": {},
     "output_type": "execute_result"
    }
   ],
   "source": [
    "vowel_links(\"go to edabit\")"
   ]
  },
  {
   "cell_type": "code",
   "execution_count": 51,
   "id": "2b17a1fa",
   "metadata": {},
   "outputs": [
    {
     "data": {
      "text/plain": [
       "True"
      ]
     },
     "execution_count": 51,
     "metadata": {},
     "output_type": "execute_result"
    }
   ],
   "source": [
    "vowel_links(\"a very large appliance\")"
   ]
  },
  {
   "cell_type": "code",
   "execution_count": 52,
   "id": "0c0f7875",
   "metadata": {},
   "outputs": [
    {
     "data": {
      "text/plain": [
       "True"
      ]
     },
     "execution_count": 52,
     "metadata": {},
     "output_type": "execute_result"
    }
   ],
   "source": [
    "vowel_links(\"a sudden applause\")"
   ]
  },
  {
   "cell_type": "code",
   "execution_count": null,
   "id": "baccc422",
   "metadata": {},
   "outputs": [],
   "source": []
  },
  {
   "cell_type": "markdown",
   "id": "63ed7662",
   "metadata": {},
   "source": [
    "### Answer 2"
   ]
  },
  {
   "cell_type": "code",
   "execution_count": 61,
   "id": "7288159f",
   "metadata": {},
   "outputs": [],
   "source": [
    "def first_before_second(a,b,c):\n",
    "    res1 = False\n",
    "    to_compare = a[0]\n",
    "    if to_compare == b:\n",
    "        res1 = True\n",
    "    else:\n",
    "        res1=  False\n",
    "    return res1"
   ]
  },
  {
   "cell_type": "code",
   "execution_count": 63,
   "id": "197304b6",
   "metadata": {},
   "outputs": [
    {
     "data": {
      "text/plain": [
       "True"
      ]
     },
     "execution_count": 63,
     "metadata": {},
     "output_type": "execute_result"
    }
   ],
   "source": [
    "first_before_second(\"a rabbit jumps joyfully\", \"a\", \"j\")"
   ]
  },
  {
   "cell_type": "code",
   "execution_count": null,
   "id": "4a28713c",
   "metadata": {},
   "outputs": [],
   "source": []
  },
  {
   "cell_type": "markdown",
   "id": "7c2eebfc",
   "metadata": {},
   "source": [
    "### Answe 3 "
   ]
  },
  {
   "cell_type": "code",
   "execution_count": 178,
   "id": "b5a55a96",
   "metadata": {},
   "outputs": [],
   "source": [
    "def char_at_pos(li, a):\n",
    "    res1 = []\n",
    "    res2 = \"\"\n",
    "    \n",
    "    if a == \"even\":\n",
    "        if type(li) == list:\n",
    "            for i,j in enumerate(li):\n",
    "                if (i+1)%2 == 0:\n",
    "                    res1.append(j)\n",
    "        if type(li) == str:\n",
    "            for i,j in enumerate(li):\n",
    "                if (i+1)%2 == 0:\n",
    "                    res2+=j\n",
    "                    \n",
    "    if a == \"odd\":\n",
    "        if type(li)== list:\n",
    "            for i ,j in enumerate(li):\n",
    "                if (i+1)%2 != 0:\n",
    "                    res1.append(j)\n",
    "        if type(li) == str:\n",
    "            for i, j in enumerate(li):\n",
    "                if (i+1)%2 !=0:\n",
    "                    res2 += j\n",
    "    return res1, res2\n",
    "    \n",
    "    "
   ]
  },
  {
   "cell_type": "code",
   "execution_count": 179,
   "id": "3e16ee5e",
   "metadata": {},
   "outputs": [
    {
     "data": {
      "text/plain": [
       "([4, 8], '')"
      ]
     },
     "execution_count": 179,
     "metadata": {},
     "output_type": "execute_result"
    }
   ],
   "source": [
    "char_at_pos([2,4,6,8,10], 'even')"
   ]
  },
  {
   "cell_type": "code",
   "execution_count": 180,
   "id": "c406b8aa",
   "metadata": {},
   "outputs": [
    {
     "data": {
      "text/plain": [
       "([], 'EAI')"
      ]
     },
     "execution_count": 180,
     "metadata": {},
     "output_type": "execute_result"
    }
   ],
   "source": [
    "char_at_pos(\"EDABIT\", \"odd\")"
   ]
  },
  {
   "cell_type": "code",
   "execution_count": 181,
   "id": "a4a232df",
   "metadata": {},
   "outputs": [
    {
     "data": {
      "text/plain": [
       "(['A', 'B', 'T', 'A', 'I', 'Y'], '')"
      ]
     },
     "execution_count": 181,
     "metadata": {},
     "output_type": "execute_result"
    }
   ],
   "source": [
    "char_at_pos([\"A\", \"R\", \"B\", \"I\", \"T\", \"R\", \"A\", \"R\", \"I\", \"L\", \"Y\"], \"odd\")"
   ]
  },
  {
   "cell_type": "code",
   "execution_count": null,
   "id": "93ce9da5",
   "metadata": {},
   "outputs": [],
   "source": []
  },
  {
   "cell_type": "markdown",
   "id": "817cdd8b",
   "metadata": {},
   "source": [
    "### Answer 4"
   ]
  },
  {
   "cell_type": "code",
   "execution_count": 182,
   "id": "4acf19a2",
   "metadata": {},
   "outputs": [
    {
     "name": "stdout",
     "output_type": "stream",
     "text": [
      "2\n"
     ]
    }
   ],
   "source": [
    "\n",
    "# GCD of more than two (or array) numbers\n",
    "\n",
    "# Function implements the Euclidian\n",
    "# algorithm to find H.C.F. of two number\n",
    "def find_gcd(x, y):\n",
    "\t\n",
    "\twhile(y):\n",
    "\t\tx, y = y, x % y\n",
    "\t\n",
    "\treturn x\n",
    "\t\t\n",
    "# Driver Code\t\n",
    "l = [2, 4, 6, 8, 16]\n",
    "\n",
    "num1 = l[0]\n",
    "num2 = l[1]\n",
    "gcd = find_gcd(num1, num2)\n",
    "\n",
    "for i in range(2, len(l)):\n",
    "\tgcd = find_gcd(gcd, l[i])\n",
    "\t\n",
    "print(gcd)\n",
    "\n",
    "# Code contributed by Mohit Gupta_OMG\n"
   ]
  },
  {
   "cell_type": "code",
   "execution_count": null,
   "id": "e2425ce6",
   "metadata": {},
   "outputs": [],
   "source": []
  }
 ],
 "metadata": {
  "kernelspec": {
   "display_name": "Python 3",
   "language": "python",
   "name": "python3"
  },
  "language_info": {
   "codemirror_mode": {
    "name": "ipython",
    "version": 3
   },
   "file_extension": ".py",
   "mimetype": "text/x-python",
   "name": "python",
   "nbconvert_exporter": "python",
   "pygments_lexer": "ipython3",
   "version": "3.8.5"
  }
 },
 "nbformat": 4,
 "nbformat_minor": 5
}
