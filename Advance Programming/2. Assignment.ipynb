{
 "cells": [
  {
   "cell_type": "markdown",
   "id": "eeb615fa",
   "metadata": {},
   "source": [
    "### Answer 1"
   ]
  },
  {
   "cell_type": "code",
   "execution_count": 4,
   "id": "538057fe",
   "metadata": {},
   "outputs": [],
   "source": [
    "def pentagon(num):\n",
    "    return (5*num*num-5*num+2)//2"
   ]
  },
  {
   "cell_type": "code",
   "execution_count": 5,
   "id": "cd8b1b65",
   "metadata": {},
   "outputs": [
    {
     "name": "stdout",
     "output_type": "stream",
     "text": [
      "1\n",
      "6\n",
      "16\n",
      "141\n"
     ]
    }
   ],
   "source": [
    "print(pentagon(1))\n",
    "print(pentagon(2))\n",
    "print(pentagon(3))\n",
    "print(pentagon(8))"
   ]
  },
  {
   "cell_type": "code",
   "execution_count": null,
   "id": "e0ccc04e",
   "metadata": {},
   "outputs": [],
   "source": []
  },
  {
   "cell_type": "markdown",
   "id": "ee2a406f",
   "metadata": {},
   "source": [
    "### Answer 2"
   ]
  },
  {
   "cell_type": "code",
   "execution_count": 19,
   "id": "1f05c024",
   "metadata": {},
   "outputs": [],
   "source": [
    "def encrypt(st):\n",
    "    rev  = st[::-1]\n",
    "    vow = \"\"\n",
    "    enc = \"\"\n",
    "    for i in rev:\n",
    "        if i == \"a\":\n",
    "            vow += \"0\"\n",
    "        elif i == \"e\":\n",
    "            vow += \"1\"\n",
    "        elif i == \"i\":\n",
    "            vow += \"2\"\n",
    "        elif i == \"o\":\n",
    "            vow += \"2\"\n",
    "        elif i == \"u\":\n",
    "            vow += \"3\"\n",
    "        else:\n",
    "            vow += i\n",
    "    enc = vow+\"aca\"\n",
    "    return enc\n",
    "    \n",
    "            "
   ]
  },
  {
   "cell_type": "code",
   "execution_count": 20,
   "id": "538382a5",
   "metadata": {},
   "outputs": [
    {
     "data": {
      "text/plain": [
       "'1lpp0aca'"
      ]
     },
     "execution_count": 20,
     "metadata": {},
     "output_type": "execute_result"
    }
   ],
   "source": [
    "encrypt(\"apple\")"
   ]
  },
  {
   "cell_type": "code",
   "execution_count": 21,
   "id": "938db7f7",
   "metadata": {},
   "outputs": [
    {
     "data": {
      "text/plain": [
       "'0n0n0baca'"
      ]
     },
     "execution_count": 21,
     "metadata": {},
     "output_type": "execute_result"
    }
   ],
   "source": [
    "encrypt(\"banana\")"
   ]
  },
  {
   "cell_type": "code",
   "execution_count": 22,
   "id": "141a6f7f",
   "metadata": {},
   "outputs": [
    {
     "data": {
      "text/plain": [
       "'0k0r0kaca'"
      ]
     },
     "execution_count": 22,
     "metadata": {},
     "output_type": "execute_result"
    }
   ],
   "source": [
    "encrypt(\"karaka\")"
   ]
  },
  {
   "cell_type": "code",
   "execution_count": 23,
   "id": "c7cf42be",
   "metadata": {},
   "outputs": [
    {
     "data": {
      "text/plain": [
       "'0kpl0aca'"
      ]
     },
     "execution_count": 23,
     "metadata": {},
     "output_type": "execute_result"
    }
   ],
   "source": [
    "encrypt(\"alpka\")"
   ]
  },
  {
   "cell_type": "code",
   "execution_count": 24,
   "id": "cd90a031",
   "metadata": {},
   "outputs": [
    {
     "data": {
      "text/plain": [
       "'k0r3baca'"
      ]
     },
     "execution_count": 24,
     "metadata": {},
     "output_type": "execute_result"
    }
   ],
   "source": [
    "encrypt(\"burak\")"
   ]
  },
  {
   "cell_type": "code",
   "execution_count": null,
   "id": "2ae80721",
   "metadata": {},
   "outputs": [],
   "source": []
  },
  {
   "cell_type": "markdown",
   "id": "90658d00",
   "metadata": {},
   "source": [
    "### Answer 3"
   ]
  },
  {
   "cell_type": "code",
   "execution_count": 35,
   "id": "256cc1ec",
   "metadata": {},
   "outputs": [],
   "source": [
    "from datetime import datetime\n",
    "import calendar\n",
    "\n",
    "def has_friday_13(month, year):\n",
    "    date = f'{month} 13 {year}'.format()\n",
    "    spooky = datetime.strptime(date, '%m %d %Y').weekday()\n",
    "    return (calendar.day_name[spooky]) == \"Friday\""
   ]
  },
  {
   "cell_type": "code",
   "execution_count": 36,
   "id": "0a06b994",
   "metadata": {},
   "outputs": [
    {
     "data": {
      "text/plain": [
       "True"
      ]
     },
     "execution_count": 36,
     "metadata": {},
     "output_type": "execute_result"
    }
   ],
   "source": [
    "has_friday_13(3,2020)"
   ]
  },
  {
   "cell_type": "code",
   "execution_count": 37,
   "id": "2eadf4f2",
   "metadata": {},
   "outputs": [
    {
     "data": {
      "text/plain": [
       "False"
      ]
     },
     "execution_count": 37,
     "metadata": {},
     "output_type": "execute_result"
    }
   ],
   "source": [
    "has_friday_13(5,2021)"
   ]
  },
  {
   "cell_type": "code",
   "execution_count": 38,
   "id": "cd573bd1",
   "metadata": {},
   "outputs": [
    {
     "data": {
      "text/plain": [
       "True"
      ]
     },
     "execution_count": 38,
     "metadata": {},
     "output_type": "execute_result"
    }
   ],
   "source": [
    "has_friday_13(10,2017)"
   ]
  },
  {
   "cell_type": "code",
   "execution_count": null,
   "id": "da8c27c0",
   "metadata": {},
   "outputs": [],
   "source": []
  },
  {
   "cell_type": "markdown",
   "id": "4f240cb9",
   "metadata": {},
   "source": [
    "### Answer 4"
   ]
  },
  {
   "cell_type": "code",
   "execution_count": 40,
   "id": "b5e37188",
   "metadata": {},
   "outputs": [
    {
     "data": {
      "text/plain": [
       "0"
      ]
     },
     "execution_count": 40,
     "metadata": {},
     "output_type": "execute_result"
    }
   ],
   "source": [
    "import re\n",
    "lst = [\"bad cookie\", \"good cookie\", \"bad cookie\", \"good cookie\", \"good cookie\"]\n",
    "pattern = \"yourregularexpressionhere\"\n",
    "len(re.findall(pattern, \", \".join(lst)))"
   ]
  },
  {
   "cell_type": "code",
   "execution_count": 69,
   "id": "93354da8",
   "metadata": {},
   "outputs": [],
   "source": [
    "def pluralize(lst):\n",
    "    var1 = []\n",
    "    res = set()\n",
    "    for i in range(len(lst)-1):\n",
    "        if lst[i] == lst[i+1]:\n",
    "            var1.append(lst[i]+'s')\n",
    "        else:\n",
    "            var1.append(lst[i])\n",
    "    return var1\n",
    "            "
   ]
  },
  {
   "cell_type": "code",
   "execution_count": 70,
   "id": "32d040ad",
   "metadata": {},
   "outputs": [
    {
     "data": {
      "text/plain": [
       "['cow', 'pig', 'cows']"
      ]
     },
     "execution_count": 70,
     "metadata": {},
     "output_type": "execute_result"
    }
   ],
   "source": [
    "pluralize([\"cow\", \"pig\", \"cow\", \"cow\"])"
   ]
  },
  {
   "cell_type": "code",
   "execution_count": 71,
   "id": "c2deb1d2",
   "metadata": {},
   "outputs": [
    {
     "data": {
      "text/plain": [
       "['tables', 'tables']"
      ]
     },
     "execution_count": 71,
     "metadata": {},
     "output_type": "execute_result"
    }
   ],
   "source": [
    "pluralize([\"table\", \"table\", \"table\"])"
   ]
  },
  {
   "cell_type": "code",
   "execution_count": null,
   "id": "25afcf68",
   "metadata": {},
   "outputs": [],
   "source": []
  }
 ],
 "metadata": {
  "kernelspec": {
   "display_name": "Python 3",
   "language": "python",
   "name": "python3"
  },
  "language_info": {
   "codemirror_mode": {
    "name": "ipython",
    "version": 3
   },
   "file_extension": ".py",
   "mimetype": "text/x-python",
   "name": "python",
   "nbconvert_exporter": "python",
   "pygments_lexer": "ipython3",
   "version": "3.8.5"
  }
 },
 "nbformat": 4,
 "nbformat_minor": 5
}
